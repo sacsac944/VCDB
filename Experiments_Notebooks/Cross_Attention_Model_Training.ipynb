{
 "cells": [
  {
   "cell_type": "code",
   "execution_count": null,
   "metadata": {
    "_cell_guid": "b1076dfc-b9ad-4769-8c92-a6c4dae69d19",
    "_uuid": "8f2839f25d086af736a60e9eeb907d3b93b6e0e5"
   },
   "outputs": [],
   "source": [
    "! pip install keras-nlp"
   ]
  },
  {
   "cell_type": "code",
   "execution_count": 2,
   "metadata": {
    "execution": {
     "iopub.execute_input": "2023-08-26T09:35:13.378458Z",
     "iopub.status.busy": "2023-08-26T09:35:13.378062Z",
     "iopub.status.idle": "2023-08-26T09:35:13.384509Z",
     "shell.execute_reply": "2023-08-26T09:35:13.382946Z",
     "shell.execute_reply.started": "2023-08-26T09:35:13.378422Z"
    }
   },
   "outputs": [],
   "source": [
    "import sys\n",
    "sys.path.append('VCDB')"
   ]
  },
  {
   "cell_type": "code",
   "execution_count": 3,
   "metadata": {
    "execution": {
     "iopub.execute_input": "2023-08-26T09:35:13.785834Z",
     "iopub.status.busy": "2023-08-26T09:35:13.785112Z",
     "iopub.status.idle": "2023-08-26T09:35:23.233093Z",
     "shell.execute_reply": "2023-08-26T09:35:23.231916Z",
     "shell.execute_reply.started": "2023-08-26T09:35:13.785801Z"
    }
   },
   "outputs": [
    {
     "name": "stderr",
     "output_type": "stream",
     "text": [
      "/opt/conda/lib/python3.10/site-packages/scipy/__init__.py:146: UserWarning: A NumPy version >=1.16.5 and <1.23.0 is required for this version of SciPy (detected version 1.23.5\n",
      "  warnings.warn(f\"A NumPy version >={np_minversion} and <{np_maxversion}\"\n",
      "/opt/conda/lib/python3.10/site-packages/tensorflow_io/python/ops/__init__.py:98: UserWarning: unable to load libtensorflow_io_plugins.so: unable to open file: libtensorflow_io_plugins.so, from paths: ['/opt/conda/lib/python3.10/site-packages/tensorflow_io/python/ops/libtensorflow_io_plugins.so']\n",
      "caused by: ['/opt/conda/lib/python3.10/site-packages/tensorflow_io/python/ops/libtensorflow_io_plugins.so: undefined symbol: _ZN3tsl6StatusC1EN10tensorflow5error4CodeESt17basic_string_viewIcSt11char_traitsIcEENS_14SourceLocationE']\n",
      "  warnings.warn(f\"unable to load libtensorflow_io_plugins.so: {e}\")\n",
      "/opt/conda/lib/python3.10/site-packages/tensorflow_io/python/ops/__init__.py:104: UserWarning: file system plugins are not loaded: unable to open file: libtensorflow_io.so, from paths: ['/opt/conda/lib/python3.10/site-packages/tensorflow_io/python/ops/libtensorflow_io.so']\n",
      "caused by: ['/opt/conda/lib/python3.10/site-packages/tensorflow_io/python/ops/libtensorflow_io.so: undefined symbol: _ZTVN10tensorflow13GcsFileSystemE']\n",
      "  warnings.warn(f\"file system plugins are not loaded: {e}\")\n"
     ]
    },
    {
     "name": "stdout",
     "output_type": "stream",
     "text": [
      "Using TensorFlow backend\n"
     ]
    }
   ],
   "source": [
    "from model import define_pair_video_encoder, triplet_loss\n",
    "from DataLoader import DataLoader \n",
    "import tensorflow as tf\n",
    "import numpy as np"
   ]
  },
  {
   "cell_type": "code",
   "execution_count": 4,
   "metadata": {
    "execution": {
     "iopub.execute_input": "2023-08-26T09:35:23.236213Z",
     "iopub.status.busy": "2023-08-26T09:35:23.235427Z",
     "iopub.status.idle": "2023-08-26T09:35:23.612014Z",
     "shell.execute_reply": "2023-08-26T09:35:23.610923Z",
     "shell.execute_reply.started": "2023-08-26T09:35:23.236170Z"
    }
   },
   "outputs": [],
   "source": [
    "videos_folder = \"/kaggle/input/vcdb-dataset/dataset\"\n",
    "data_loader = DataLoader(videos_folder)"
   ]
  },
  {
   "cell_type": "code",
   "execution_count": 5,
   "metadata": {
    "execution": {
     "iopub.execute_input": "2023-08-26T09:35:23.614127Z",
     "iopub.status.busy": "2023-08-26T09:35:23.613666Z",
     "iopub.status.idle": "2023-08-26T09:35:23.619940Z",
     "shell.execute_reply": "2023-08-26T09:35:23.618544Z",
     "shell.execute_reply.started": "2023-08-26T09:35:23.614085Z"
    }
   },
   "outputs": [],
   "source": [
    "batch_size = 4\n",
    "emb_size = 2048\n",
    "training_steps = 250\n",
    "pre_process_network = \"RESNET_50\"\n",
    "max_frames = 30"
   ]
  },
  {
   "cell_type": "code",
   "execution_count": 6,
   "metadata": {
    "execution": {
     "iopub.execute_input": "2023-08-26T09:35:23.624117Z",
     "iopub.status.busy": "2023-08-26T09:35:23.623175Z",
     "iopub.status.idle": "2023-08-26T09:35:23.634102Z",
     "shell.execute_reply": "2023-08-26T09:35:23.632944Z",
     "shell.execute_reply.started": "2023-08-26T09:35:23.624073Z"
    }
   },
   "outputs": [],
   "source": [
    "video_pairs_generator = data_loader.create_data_generator(batch_size=batch_size, pre_process_network=pre_process_network, max_frames=max_frames)"
   ]
  },
  {
   "cell_type": "code",
   "execution_count": 7,
   "metadata": {
    "execution": {
     "iopub.execute_input": "2023-08-25T08:12:47.545288Z",
     "iopub.status.busy": "2023-08-25T08:12:47.544864Z",
     "iopub.status.idle": "2023-08-25T08:12:54.723324Z",
     "shell.execute_reply": "2023-08-25T08:12:54.722661Z",
     "shell.execute_reply.started": "2023-08-25T08:12:47.545253Z"
    }
   },
   "outputs": [
    {
     "name": "stdout",
     "output_type": "stream",
     "text": [
      "Downloading data from https://storage.googleapis.com/tensorflow/keras-applications/resnet/resnet50_weights_tf_dim_ordering_tf_kernels.h5\n",
      "102967424/102967424 [==============================] - 3s 0us/step\n"
     ]
    }
   ],
   "source": [
    "cross_attn_video_pair_encoder_inception_v3 = define_pair_video_encoder(pre_process_network, emb_size=emb_size, cnn_trainable=True, use_custom_cross_attn=True, alpha=0.0)"
   ]
  },
  {
   "cell_type": "code",
   "execution_count": 8,
   "metadata": {
    "execution": {
     "iopub.execute_input": "2023-08-25T08:12:58.068808Z",
     "iopub.status.busy": "2023-08-25T08:12:58.068491Z",
     "iopub.status.idle": "2023-08-25T08:12:58.123700Z",
     "shell.execute_reply": "2023-08-25T08:12:58.122767Z",
     "shell.execute_reply.started": "2023-08-25T08:12:58.068785Z"
    }
   },
   "outputs": [
    {
     "name": "stdout",
     "output_type": "stream",
     "text": [
      "Model: \"model_1\"\n",
      "__________________________________________________________________________________________________\n",
      " Layer (type)                   Output Shape         Param #     Connected to                     \n",
      "==================================================================================================\n",
      " input_2 (InputLayer)           [(None, None, 224,   0           []                               \n",
      "                                224, 3)]                                                          \n",
      "                                                                                                  \n",
      " input_3 (InputLayer)           [(None, None, 224,   0           []                               \n",
      "                                224, 3)]                                                          \n",
      "                                                                                                  \n",
      " cnn_video_encoder (CNNVideoEnc  (None, None, 2048)  23587712    ['input_2[0][0]',                \n",
      " oder)                                                            'input_3[0][0]']                \n",
      "                                                                                                  \n",
      " custom_cross_attention (Custom  ((None, None, 2048)  8392704    ['cnn_video_encoder[0][0]',      \n",
      " CrossAttention)                , (None, None, None               'cnn_video_encoder[1][0]']      \n",
      "                                ),                                                                \n",
      "                                 (None, None, 2048)                                               \n",
      "                                , (None, None, None                                               \n",
      "                                ))                                                                \n",
      "                                                                                                  \n",
      " global_average_pooling1d (Glob  (None, 2048)        0           ['custom_cross_attention[0][2]', \n",
      " alAveragePooling1D)                                              'custom_cross_attention[0][0]'] \n",
      "                                                                                                  \n",
      " tf.math.l2_normalize_1 (TFOpLa  (None, 2048)        0           ['global_average_pooling1d[1][0]'\n",
      " mbda)                                                           ]                                \n",
      "                                                                                                  \n",
      " tf.math.l2_normalize (TFOpLamb  (None, 2048)        0           ['global_average_pooling1d[0][0]'\n",
      " da)                                                             ]                                \n",
      "                                                                                                  \n",
      "==================================================================================================\n",
      "Total params: 31,980,416\n",
      "Trainable params: 31,927,296\n",
      "Non-trainable params: 53,120\n",
      "__________________________________________________________________________________________________\n"
     ]
    }
   ],
   "source": [
    "cross_attn_video_pair_encoder_inception_v3.summary()"
   ]
  },
  {
   "cell_type": "code",
   "execution_count": 9,
   "metadata": {
    "execution": {
     "iopub.execute_input": "2023-08-25T08:13:05.517905Z",
     "iopub.status.busy": "2023-08-25T08:13:05.517422Z",
     "iopub.status.idle": "2023-08-25T08:13:05.530560Z",
     "shell.execute_reply": "2023-08-25T08:13:05.528792Z",
     "shell.execute_reply.started": "2023-08-25T08:13:05.517865Z"
    }
   },
   "outputs": [],
   "source": [
    "adam = tf.keras.optimizers.Adam(learning_rate=0.00001)"
   ]
  },
  {
   "cell_type": "code",
   "execution_count": 10,
   "metadata": {
    "execution": {
     "iopub.execute_input": "2023-08-25T08:13:11.465604Z",
     "iopub.status.busy": "2023-08-25T08:13:11.465265Z",
     "iopub.status.idle": "2023-08-25T08:13:11.470897Z",
     "shell.execute_reply": "2023-08-25T08:13:11.470099Z",
     "shell.execute_reply.started": "2023-08-25T08:13:11.465579Z"
    }
   },
   "outputs": [],
   "source": [
    "def train_step(video_frames_1, video_frames_2):\n",
    "    with tf.GradientTape() as tape:\n",
    "        video_embeddings_1, _, video_embeddings_2, _ = cross_attn_video_pair_encoder_inception_v3([video_frames_1, video_frames_2])\n",
    "        loss = triplet_loss(video_embeddings_1, video_embeddings_2, margin=0.5)\n",
    "        \n",
    "    trainable_variables = cross_attn_video_pair_encoder_inception_v3.trainable_variables\n",
    "    gradients = tape.gradient(loss, trainable_variables)    \n",
    "    adam.apply_gradients(zip(gradients, trainable_variables))\n",
    "    return loss"
   ]
  },
  {
   "cell_type": "code",
   "execution_count": 11,
   "metadata": {
    "execution": {
     "iopub.execute_input": "2023-08-25T08:13:17.924735Z",
     "iopub.status.busy": "2023-08-25T08:13:17.924216Z",
     "iopub.status.idle": "2023-08-25T08:13:17.931084Z",
     "shell.execute_reply": "2023-08-25T08:13:17.929429Z",
     "shell.execute_reply.started": "2023-08-25T08:13:17.924698Z"
    }
   },
   "outputs": [],
   "source": [
    "def load_video_frame_pair_batch():\n",
    "    video_frames_1, video_frames_2 = next(video_pairs_generator)\n",
    "    return video_frames_1, video_frames_2"
   ]
  },
  {
   "cell_type": "code",
   "execution_count": 12,
   "metadata": {
    "execution": {
     "iopub.execute_input": "2023-08-25T08:13:25.082842Z",
     "iopub.status.busy": "2023-08-25T08:13:25.082488Z",
     "iopub.status.idle": "2023-08-25T16:55:47.091811Z",
     "shell.execute_reply": "2023-08-25T16:55:47.086029Z",
     "shell.execute_reply.started": "2023-08-25T08:13:25.082812Z"
    }
   },
   "outputs": [
    {
     "name": "stdout",
     "output_type": "stream",
     "text": [
      "Training step 1 of 250\n",
      "Loss at step 1 is 0.7531587481498718\n",
      "Training step 2 of 250\n",
      "Loss at step 2 is 0.696845531463623\n",
      "Training step 3 of 250\n",
      "Loss at step 3 is 0.7479141354560852\n",
      "Training step 4 of 250\n",
      "Loss at step 4 is 0.7728849053382874\n",
      "Training step 5 of 250\n",
      "Loss at step 5 is 0.7395398020744324\n",
      "Training step 6 of 250\n",
      "Loss at step 6 is 0.7079769968986511\n",
      "Training step 7 of 250\n",
      "Loss at step 7 is 0.6770309209823608\n",
      "Training step 8 of 250\n",
      "Loss at step 8 is 0.7261605262756348\n",
      "Training step 9 of 250\n",
      "Loss at step 9 is 0.6192999482154846\n",
      "Training step 10 of 250\n",
      "Loss at step 10 is 0.72259920835495\n",
      "Training step 11 of 250\n",
      "Loss at step 11 is 0.727626621723175\n",
      "Training step 12 of 250\n",
      "Loss at step 12 is 0.6643621921539307\n",
      "Training step 13 of 250\n",
      "Loss at step 13 is 0.6678457260131836\n",
      "Training step 14 of 250\n",
      "Loss at step 14 is 0.5652021169662476\n",
      "Training step 15 of 250\n",
      "Loss at step 15 is 0.812196671962738\n",
      "Training step 16 of 250\n",
      "Loss at step 16 is 0.600192666053772\n",
      "Training step 17 of 250\n",
      "Loss at step 17 is 0.6578328609466553\n",
      "Training step 18 of 250\n",
      "Loss at step 18 is 0.6874489784240723\n",
      "Training step 19 of 250\n",
      "Loss at step 19 is 0.557682991027832\n",
      "Training step 20 of 250\n",
      "Loss at step 20 is 0.6271286010742188\n",
      "Training step 21 of 250\n",
      "Loss at step 21 is 0.8150427937507629\n",
      "Training step 22 of 250\n",
      "Loss at step 22 is 0.5508338212966919\n",
      "Training step 23 of 250\n",
      "Loss at step 23 is 0.5627803802490234\n",
      "Training step 24 of 250\n",
      "Loss at step 24 is 0.5310449600219727\n",
      "Training step 25 of 250\n",
      "Loss at step 25 is 0.5436426401138306\n",
      "Training step 26 of 250\n",
      "Loss at step 26 is 0.48823681473731995\n",
      "Training step 27 of 250\n",
      "Loss at step 27 is 0.5208905935287476\n",
      "Training step 28 of 250\n",
      "Loss at step 28 is 0.5936683416366577\n",
      "Training step 29 of 250\n",
      "Loss at step 29 is 0.49319571256637573\n",
      "Training step 30 of 250\n",
      "Loss at step 30 is 0.5702763795852661\n",
      "Training step 31 of 250\n",
      "Loss at step 31 is 0.21910208463668823\n",
      "Training step 32 of 250\n",
      "Loss at step 32 is 0.3531489670276642\n",
      "Training step 33 of 250\n",
      "Loss at step 33 is 0.3537248373031616\n",
      "Training step 34 of 250\n",
      "Loss at step 34 is 0.5559111833572388\n",
      "Training step 35 of 250\n",
      "Loss at step 35 is 0.5790438652038574\n",
      "Training step 36 of 250\n"
     ]
    },
    {
     "name": "stderr",
     "output_type": "stream",
     "text": [
      "[NULL @ 0x59ffeab7ab40] Invalid NAL unit size (3295 > 3073).\n",
      "[NULL @ 0x59ffeab7ab40] missing picture in access unit with size 3077\n",
      "[NULL @ 0x59ffeab7ab40] Invalid NAL unit size (3295 > 3073).\n",
      "[NULL @ 0x59ffeab7ab40] missing picture in access unit with size 3077\n",
      "[h264 @ 0x59ff9a98d300] Invalid NAL unit size (3295 > 3073).\n",
      "[h264 @ 0x59ff9a98d300] Error splitting the input into NAL units.\n",
      "[NULL @ 0x59ffeab7ab40] Invalid NAL unit size (3295 > 3073).\n",
      "[NULL @ 0x59ffeab7ab40] missing picture in access unit with size 3077\n",
      "[NULL @ 0x59ffeab7ab40] Invalid NAL unit size (3295 > 3073).\n",
      "[NULL @ 0x59ffeab7ab40] missing picture in access unit with size 3077\n",
      "[h264 @ 0x59ff9a98d300] Invalid NAL unit size (3295 > 3073).\n",
      "[h264 @ 0x59ff9a98d300] Error splitting the input into NAL units.\n",
      "[NULL @ 0x59ffeab7ab40] Invalid NAL unit size (3295 > 3073).\n",
      "[NULL @ 0x59ffeab7ab40] missing picture in access unit with size 3077\n",
      "[NULL @ 0x59ffeab7ab40] Invalid NAL unit size (3295 > 3073).\n",
      "[NULL @ 0x59ffeab7ab40] missing picture in access unit with size 3077\n",
      "[h264 @ 0x59ff9a98d300] Invalid NAL unit size (3295 > 3073).\n",
      "[h264 @ 0x59ff9a98d300] Error splitting the input into NAL units.\n"
     ]
    },
    {
     "name": "stdout",
     "output_type": "stream",
     "text": [
      "Unable to read frame #1152 of video '/kaggle/input/vcdb-dataset/dataset/core_dataset/beckham_70_yard_goal/ab12206048207553294916664d0ebf1cd9e81ef6.flv'. Skipping and Continuing.!!\n",
      "Unable to read frame #1230 of video '/kaggle/input/vcdb-dataset/dataset/core_dataset/beckham_70_yard_goal/ab12206048207553294916664d0ebf1cd9e81ef6.flv'. Skipping and Continuing.!!\n",
      "Unable to read frame #1250 of video '/kaggle/input/vcdb-dataset/dataset/core_dataset/beckham_70_yard_goal/ab12206048207553294916664d0ebf1cd9e81ef6.flv'. Skipping and Continuing.!!\n",
      "Loss at step 36 is 0.42985284328460693\n",
      "Training step 37 of 250\n",
      "Loss at step 37 is 0.29331129789352417\n",
      "Training step 38 of 250\n",
      "Loss at step 38 is 0.22947928309440613\n",
      "Training step 39 of 250\n",
      "Loss at step 39 is 0.5363913774490356\n",
      "Training step 40 of 250\n",
      "Loss at step 40 is 0.653212308883667\n",
      "Training step 41 of 250\n",
      "Loss at step 41 is 0.5468706488609314\n",
      "Training step 42 of 250\n",
      "Loss at step 42 is 0.44612646102905273\n",
      "Training step 43 of 250\n",
      "Loss at step 43 is 0.22997182607650757\n",
      "Training step 44 of 250\n",
      "Loss at step 44 is 0.5833091139793396\n",
      "Training step 45 of 250\n",
      "Loss at step 45 is 0.5393387079238892\n",
      "Training step 46 of 250\n",
      "Loss at step 46 is 0.23208194971084595\n",
      "Training step 47 of 250\n",
      "Loss at step 47 is 0.34045809507369995\n",
      "Training step 48 of 250\n",
      "Loss at step 48 is 0.4524337351322174\n",
      "Training step 49 of 250\n",
      "Loss at step 49 is 0.31863558292388916\n",
      "Training step 50 of 250\n",
      "Loss at step 50 is 0.4372940957546234\n",
      "Training step 51 of 250\n",
      "Loss at step 51 is 0.5892587900161743\n",
      "Training step 52 of 250\n",
      "Loss at step 52 is 0.33902519941329956\n",
      "Training step 53 of 250\n",
      "Loss at step 53 is 0.3087414503097534\n",
      "Training step 54 of 250\n",
      "Loss at step 54 is 0.43173184990882874\n",
      "Training step 55 of 250\n",
      "Loss at step 55 is 0.37333399057388306\n",
      "Training step 56 of 250\n"
     ]
    },
    {
     "name": "stderr",
     "output_type": "stream",
     "text": [
      "[NULL @ 0x59fde1122ec0] Invalid NAL unit size (3295 > 3073).\n",
      "[NULL @ 0x59fde1122ec0] missing picture in access unit with size 3077\n",
      "[NULL @ 0x59fde1122ec0] Invalid NAL unit size (3295 > 3073).\n",
      "[NULL @ 0x59fde1122ec0] missing picture in access unit with size 3077\n",
      "[h264 @ 0x5a00df723a00] Invalid NAL unit size (3295 > 3073).\n",
      "[h264 @ 0x5a00df723a00] Error splitting the input into NAL units.\n",
      "[NULL @ 0x59fde1122ec0] Invalid NAL unit size (3295 > 3073).\n",
      "[NULL @ 0x59fde1122ec0] missing picture in access unit with size 3077\n",
      "[NULL @ 0x59fde1122ec0] Invalid NAL unit size (3295 > 3073).\n",
      "[NULL @ 0x59fde1122ec0] missing picture in access unit with size 3077\n",
      "[h264 @ 0x5a00df723a00] Invalid NAL unit size (3295 > 3073).\n",
      "[h264 @ 0x5a00df723a00] Error splitting the input into NAL units.\n",
      "[NULL @ 0x59fde1122ec0] Invalid NAL unit size (3295 > 3073).\n",
      "[NULL @ 0x59fde1122ec0] missing picture in access unit with size 3077\n",
      "[NULL @ 0x59fde1122ec0] Invalid NAL unit size (3295 > 3073).\n",
      "[NULL @ 0x59fde1122ec0] missing picture in access unit with size 3077\n",
      "[h264 @ 0x5a00df723a00] Invalid NAL unit size (3295 > 3073).\n",
      "[h264 @ 0x5a00df723a00] Error splitting the input into NAL units.\n"
     ]
    },
    {
     "name": "stdout",
     "output_type": "stream",
     "text": [
      "Unable to read frame #1153 of video '/kaggle/input/vcdb-dataset/dataset/core_dataset/beckham_70_yard_goal/ab12206048207553294916664d0ebf1cd9e81ef6.flv'. Skipping and Continuing.!!\n",
      "Unable to read frame #1231 of video '/kaggle/input/vcdb-dataset/dataset/core_dataset/beckham_70_yard_goal/ab12206048207553294916664d0ebf1cd9e81ef6.flv'. Skipping and Continuing.!!\n",
      "Unable to read frame #1278 of video '/kaggle/input/vcdb-dataset/dataset/core_dataset/beckham_70_yard_goal/ab12206048207553294916664d0ebf1cd9e81ef6.flv'. Skipping and Continuing.!!\n",
      "Loss at step 56 is 0.27511680126190186\n",
      "Training step 57 of 250\n",
      "Loss at step 57 is 0.21901506185531616\n",
      "Training step 58 of 250\n",
      "Loss at step 58 is 0.13451454043388367\n",
      "Training step 59 of 250\n",
      "Loss at step 59 is 0.12519069015979767\n",
      "Training step 60 of 250\n",
      "Loss at step 60 is 0.2435457855463028\n",
      "Training step 61 of 250\n",
      "Loss at step 61 is 0.39409518241882324\n",
      "Training step 62 of 250\n",
      "Loss at step 62 is 0.3484187722206116\n",
      "Training step 63 of 250\n",
      "Loss at step 63 is 0.3274916410446167\n",
      "Training step 64 of 250\n",
      "Loss at step 64 is 0.20894919335842133\n",
      "Training step 65 of 250\n",
      "Loss at step 65 is 0.27580830454826355\n",
      "Training step 66 of 250\n",
      "Loss at step 66 is 0.1711323857307434\n",
      "Training step 67 of 250\n",
      "Loss at step 67 is 0.22286449372768402\n",
      "Training step 68 of 250\n",
      "Loss at step 68 is 0.17637957632541656\n",
      "Training step 69 of 250\n",
      "Loss at step 69 is 0.04913662374019623\n",
      "Training step 70 of 250\n",
      "Loss at step 70 is 0.4716337025165558\n",
      "Training step 71 of 250\n",
      "Loss at step 71 is 0.2434372901916504\n",
      "Training step 72 of 250\n",
      "Loss at step 72 is 0.20703667402267456\n",
      "Training step 73 of 250\n",
      "Loss at step 73 is 0.21050560474395752\n",
      "Training step 74 of 250\n"
     ]
    },
    {
     "name": "stderr",
     "output_type": "stream",
     "text": [
      "[flv @ 0x5a026b525980] Packet mismatch 1024 1050 9340438\n"
     ]
    },
    {
     "name": "stdout",
     "output_type": "stream",
     "text": [
      "Loss at step 74 is 0.08011043071746826\n",
      "Training step 75 of 250\n",
      "Loss at step 75 is 0.34083783626556396\n",
      "Training step 76 of 250\n",
      "Loss at step 76 is 0.20785528421401978\n",
      "Training step 77 of 250\n",
      "Loss at step 77 is 0.3255693018436432\n",
      "Training step 78 of 250\n",
      "Loss at step 78 is 0.13139817118644714\n",
      "Training step 79 of 250\n",
      "Loss at step 79 is 0.3707335591316223\n",
      "Training step 80 of 250\n",
      "Loss at step 80 is 0.0053499117493629456\n",
      "Training step 81 of 250\n"
     ]
    },
    {
     "name": "stderr",
     "output_type": "stream",
     "text": [
      "[flv @ 0x5a026b525980] Packet mismatch 1024 1050 2877833\n"
     ]
    },
    {
     "name": "stdout",
     "output_type": "stream",
     "text": [
      "Loss at step 81 is 0.1780301034450531\n",
      "Training step 82 of 250\n",
      "Loss at step 82 is 0.3369871973991394\n",
      "Training step 83 of 250\n",
      "Loss at step 83 is 0.07366655766963959\n",
      "Training step 84 of 250\n",
      "Loss at step 84 is 0.028296127915382385\n",
      "Training step 85 of 250\n",
      "Loss at step 85 is 0.22650794684886932\n",
      "Training step 86 of 250\n",
      "Loss at step 86 is 0.21459975838661194\n",
      "Training step 87 of 250\n",
      "Loss at step 87 is 0.2309577465057373\n",
      "Training step 88 of 250\n",
      "Loss at step 88 is 0.04329509288072586\n",
      "Training step 89 of 250\n",
      "Loss at step 89 is 0.011936761438846588\n",
      "Training step 90 of 250\n",
      "Loss at step 90 is 0.14907154440879822\n",
      "Training step 91 of 250\n",
      "Loss at step 91 is 0.23646463453769684\n",
      "Training step 92 of 250\n",
      "Loss at step 92 is 0.10998541861772537\n",
      "Training step 93 of 250\n",
      "Loss at step 93 is 0.06592824310064316\n",
      "Training step 94 of 250\n"
     ]
    },
    {
     "name": "stderr",
     "output_type": "stream",
     "text": [
      "[NULL @ 0x5a00b16fcc80] Invalid NAL unit size (3295 > 3073).\n",
      "[NULL @ 0x5a00b16fcc80] missing picture in access unit with size 3077\n",
      "[NULL @ 0x5a00b16fcc80] Invalid NAL unit size (3295 > 3073).\n",
      "[NULL @ 0x5a00b16fcc80] missing picture in access unit with size 3077\n",
      "[h264 @ 0x59fde1637c00] Invalid NAL unit size (3295 > 3073).\n",
      "[h264 @ 0x59fde1637c00] Error splitting the input into NAL units.\n",
      "[NULL @ 0x5a00b16fcc80] Invalid NAL unit size (3295 > 3073).\n",
      "[NULL @ 0x5a00b16fcc80] missing picture in access unit with size 3077\n",
      "[NULL @ 0x5a00b16fcc80] Invalid NAL unit size (3295 > 3073).\n",
      "[NULL @ 0x5a00b16fcc80] missing picture in access unit with size 3077\n",
      "[h264 @ 0x59fde1637c00] Invalid NAL unit size (3295 > 3073).\n",
      "[h264 @ 0x59fde1637c00] Error splitting the input into NAL units.\n",
      "[NULL @ 0x5a00b16fcc80] Invalid NAL unit size (3295 > 3073).\n",
      "[NULL @ 0x5a00b16fcc80] missing picture in access unit with size 3077\n",
      "[NULL @ 0x5a00b16fcc80] Invalid NAL unit size (3295 > 3073).\n",
      "[NULL @ 0x5a00b16fcc80] missing picture in access unit with size 3077\n",
      "[h264 @ 0x59fde1637c00] Invalid NAL unit size (3295 > 3073).\n",
      "[h264 @ 0x59fde1637c00] Error splitting the input into NAL units.\n"
     ]
    },
    {
     "name": "stdout",
     "output_type": "stream",
     "text": [
      "Unable to read frame #1188 of video '/kaggle/input/vcdb-dataset/dataset/core_dataset/beckham_70_yard_goal/ab12206048207553294916664d0ebf1cd9e81ef6.flv'. Skipping and Continuing.!!\n",
      "Unable to read frame #1230 of video '/kaggle/input/vcdb-dataset/dataset/core_dataset/beckham_70_yard_goal/ab12206048207553294916664d0ebf1cd9e81ef6.flv'. Skipping and Continuing.!!\n",
      "Unable to read frame #1256 of video '/kaggle/input/vcdb-dataset/dataset/core_dataset/beckham_70_yard_goal/ab12206048207553294916664d0ebf1cd9e81ef6.flv'. Skipping and Continuing.!!\n",
      "Loss at step 94 is 0.11394067853689194\n",
      "Training step 95 of 250\n",
      "Loss at step 95 is 0.26715728640556335\n",
      "Training step 96 of 250\n",
      "Loss at step 96 is 0.05231937766075134\n",
      "Training step 97 of 250\n",
      "Loss at step 97 is 0.09158749878406525\n",
      "Training step 98 of 250\n",
      "Loss at step 98 is 0.022213898599147797\n",
      "Training step 99 of 250\n",
      "Loss at step 99 is 0.1355363130569458\n",
      "Training step 100 of 250\n",
      "Loss at step 100 is 0.1819586306810379\n",
      "Training step 101 of 250\n",
      "Loss at step 101 is 0.0934079959988594\n",
      "Training step 102 of 250\n",
      "Loss at step 102 is 0.30267706513404846\n",
      "Training step 103 of 250\n",
      "Loss at step 103 is 0.14095132052898407\n",
      "Training step 104 of 250\n",
      "Loss at step 104 is 0.27158552408218384\n",
      "Training step 105 of 250\n",
      "Loss at step 105 is 0.0\n",
      "Training step 106 of 250\n",
      "Loss at step 106 is 0.1731993407011032\n",
      "Training step 107 of 250\n",
      "Loss at step 107 is 0.39211705327033997\n",
      "Training step 108 of 250\n",
      "Loss at step 108 is 0.17703017592430115\n",
      "Training step 109 of 250\n",
      "Loss at step 109 is 0.05378429591655731\n",
      "Training step 110 of 250\n",
      "Loss at step 110 is 0.20676861703395844\n",
      "Training step 111 of 250\n",
      "Loss at step 111 is 0.16067169606685638\n",
      "Training step 112 of 250\n",
      "Loss at step 112 is 0.25885385274887085\n",
      "Training step 113 of 250\n",
      "Loss at step 113 is 0.050015464425086975\n",
      "Training step 114 of 250\n",
      "Loss at step 114 is 0.1971864104270935\n",
      "Training step 115 of 250\n",
      "Loss at step 115 is 0.10550050437450409\n",
      "Training step 116 of 250\n",
      "Loss at step 116 is 0.27582135796546936\n",
      "Training step 117 of 250\n",
      "Loss at step 117 is 0.18881788849830627\n",
      "Training step 118 of 250\n",
      "Loss at step 118 is 0.07432742416858673\n",
      "Training step 119 of 250\n",
      "Loss at step 119 is 0.3389897346496582\n",
      "Training step 120 of 250\n",
      "Loss at step 120 is 0.09425579011440277\n",
      "Training step 121 of 250\n",
      "Loss at step 121 is 0.40387237071990967\n",
      "Training step 122 of 250\n",
      "Loss at step 122 is 0.0019500702619552612\n",
      "Training step 123 of 250\n",
      "Loss at step 123 is 0.036703601479530334\n",
      "Training step 124 of 250\n",
      "Loss at step 124 is 0.27810603380203247\n",
      "Training step 125 of 250\n",
      "Loss at step 125 is 0.004270508885383606\n",
      "Training step 126 of 250\n",
      "Loss at step 126 is 0.1464114785194397\n",
      "Training step 127 of 250\n",
      "Loss at step 127 is 0.07122092694044113\n",
      "Training step 128 of 250\n",
      "Loss at step 128 is 0.07541602849960327\n",
      "Training step 129 of 250\n",
      "Loss at step 129 is 0.05837230384349823\n",
      "Training step 130 of 250\n",
      "Loss at step 130 is 0.17046529054641724\n",
      "Training step 131 of 250\n",
      "Loss at step 131 is 0.1398421823978424\n",
      "Training step 132 of 250\n",
      "Loss at step 132 is 0.0\n",
      "Training step 133 of 250\n",
      "Loss at step 133 is 0.0\n",
      "Training step 134 of 250\n",
      "Loss at step 134 is 0.009682275354862213\n",
      "Training step 135 of 250\n",
      "Loss at step 135 is 0.17330420017242432\n",
      "Training step 136 of 250\n",
      "Loss at step 136 is 0.08908340334892273\n",
      "Training step 137 of 250\n",
      "Loss at step 137 is 0.023131027817726135\n",
      "Training step 138 of 250\n",
      "Loss at step 138 is 0.07709494978189468\n",
      "Training step 139 of 250\n",
      "Loss at step 139 is 0.0\n",
      "Training step 140 of 250\n",
      "Loss at step 140 is 0.0\n",
      "Training step 141 of 250\n",
      "Loss at step 141 is 0.05304358899593353\n",
      "Training step 142 of 250\n",
      "Loss at step 142 is 0.034305743873119354\n",
      "Training step 143 of 250\n",
      "Loss at step 143 is 0.07989944517612457\n",
      "Training step 144 of 250\n",
      "Loss at step 144 is 0.1802615523338318\n",
      "Training step 145 of 250\n",
      "Loss at step 145 is 0.030983738601207733\n",
      "Training step 146 of 250\n"
     ]
    },
    {
     "name": "stderr",
     "output_type": "stream",
     "text": [
      "[flv @ 0x59fde1455100] Packet mismatch 1024 1050 9375806\n"
     ]
    },
    {
     "name": "stdout",
     "output_type": "stream",
     "text": [
      "Loss at step 146 is 0.31378990411758423\n",
      "Training step 147 of 250\n",
      "Loss at step 147 is 0.008524022996425629\n",
      "Training step 148 of 250\n",
      "Loss at step 148 is 0.021871015429496765\n",
      "Training step 149 of 250\n",
      "Loss at step 149 is 0.13078591227531433\n",
      "Training step 150 of 250\n",
      "Loss at step 150 is 0.09914170950651169\n",
      "Training step 151 of 250\n",
      "Loss at step 151 is 0.12259503453969955\n",
      "Training step 152 of 250\n",
      "Loss at step 152 is 0.17468947172164917\n",
      "Training step 153 of 250\n",
      "Loss at step 153 is 0.23020072281360626\n",
      "Training step 154 of 250\n",
      "Loss at step 154 is 0.0\n",
      "Training step 155 of 250\n",
      "Loss at step 155 is 0.14285576343536377\n",
      "Training step 156 of 250\n",
      "Loss at step 156 is 0.11741071194410324\n",
      "Training step 157 of 250\n",
      "Loss at step 157 is 0.15779587626457214\n",
      "Training step 158 of 250\n",
      "Loss at step 158 is 0.04321588575839996\n",
      "Training step 159 of 250\n",
      "Loss at step 159 is 0.109042227268219\n",
      "Training step 160 of 250\n",
      "Loss at step 160 is 0.11291667819023132\n",
      "Training step 161 of 250\n",
      "Loss at step 161 is 0.0\n",
      "Training step 162 of 250\n",
      "Loss at step 162 is 0.08518854528665543\n",
      "Training step 163 of 250\n",
      "Loss at step 163 is 0.14098620414733887\n",
      "Training step 164 of 250\n",
      "Loss at step 164 is 0.0\n",
      "Training step 165 of 250\n",
      "Unable to read frame #5662 of video '/kaggle/input/vcdb-dataset/dataset/core_dataset/osama_bin_laden_is_dead_obama_speech_at_white_house/458480841d12331e4dea9557886acd2ac957e9cd.mp4'. Skipping and Continuing.!!\n",
      "Loss at step 165 is 0.2564203143119812\n",
      "Training step 166 of 250\n",
      "Loss at step 166 is 0.11611603200435638\n",
      "Training step 167 of 250\n",
      "Loss at step 167 is 0.15961802005767822\n",
      "Training step 168 of 250\n",
      "Loss at step 168 is 0.05719052255153656\n",
      "Training step 169 of 250\n"
     ]
    },
    {
     "name": "stderr",
     "output_type": "stream",
     "text": [
      "[flv @ 0x5a03c22e4a80] Missing AMF_END_OF_OBJECT in AMF_DATA_TYPE_MIXEDARRAY, found 0\n"
     ]
    },
    {
     "name": "stdout",
     "output_type": "stream",
     "text": [
      "Loss at step 169 is 0.0\n",
      "Training step 170 of 250\n",
      "Unable to read frame #1266 of video '/kaggle/input/vcdb-dataset/dataset/core_dataset/president_obama_takes_oath/750357acf34899c1c99eb2ae22880c88a776c946.flv'. Skipping and Continuing.!!\n",
      "Loss at step 170 is 0.022046752274036407\n",
      "Training step 171 of 250\n",
      "Loss at step 171 is 0.026017598807811737\n",
      "Training step 172 of 250\n",
      "Loss at step 172 is 0.032248690724372864\n",
      "Training step 173 of 250\n",
      "Loss at step 173 is 0.2319571077823639\n",
      "Training step 174 of 250\n",
      "Loss at step 174 is 0.04798614978790283\n",
      "Training step 175 of 250\n",
      "Loss at step 175 is 0.0\n",
      "Training step 176 of 250\n",
      "Loss at step 176 is 0.22442272305488586\n",
      "Training step 177 of 250\n",
      "Loss at step 177 is 0.20981068909168243\n",
      "Training step 178 of 250\n",
      "Loss at step 178 is 0.0\n",
      "Training step 179 of 250\n",
      "Loss at step 179 is 0.0\n",
      "Training step 180 of 250\n",
      "Loss at step 180 is 0.10034442692995071\n",
      "Training step 181 of 250\n",
      "Loss at step 181 is 0.24432432651519775\n",
      "Training step 182 of 250\n",
      "Loss at step 182 is 0.009630188345909119\n",
      "Training step 183 of 250\n",
      "Loss at step 183 is 0.5596632361412048\n",
      "Training step 184 of 250\n",
      "Loss at step 184 is 0.5754984021186829\n",
      "Training step 185 of 250\n",
      "Loss at step 185 is 0.2228889763355255\n",
      "Training step 186 of 250\n",
      "Loss at step 186 is 0.19978319108486176\n",
      "Training step 187 of 250\n",
      "Loss at step 187 is 0.0005498826503753662\n",
      "Training step 188 of 250\n",
      "Loss at step 188 is 0.17053915560245514\n",
      "Training step 189 of 250\n"
     ]
    },
    {
     "name": "stderr",
     "output_type": "stream",
     "text": [
      "[flv @ 0x5a00e65a7040] Packet mismatch 1024 1050 9207621\n",
      "[flv @ 0x5a00e65a7040] Packet mismatch 1024 1050 9273174\n"
     ]
    },
    {
     "name": "stdout",
     "output_type": "stream",
     "text": [
      "Loss at step 189 is 0.0\n",
      "Training step 190 of 250\n"
     ]
    },
    {
     "name": "stderr",
     "output_type": "stream",
     "text": [
      "[flv @ 0x5a0232e0e8c0] Missing AMF_END_OF_OBJECT in AMF_DATA_TYPE_MIXEDARRAY, found 0\n"
     ]
    },
    {
     "name": "stdout",
     "output_type": "stream",
     "text": [
      "Loss at step 190 is 0.2678490877151489\n",
      "Training step 191 of 250\n",
      "Loss at step 191 is 0.30833569169044495\n",
      "Training step 192 of 250\n",
      "Loss at step 192 is 0.0\n",
      "Training step 193 of 250\n",
      "Loss at step 193 is 0.0701400488615036\n",
      "Training step 194 of 250\n",
      "Loss at step 194 is 0.04330077022314072\n",
      "Training step 195 of 250\n",
      "Loss at step 195 is 0.0\n",
      "Training step 196 of 250\n",
      "Loss at step 196 is 0.0\n",
      "Training step 197 of 250\n",
      "Loss at step 197 is 0.12240827083587646\n",
      "Training step 198 of 250\n",
      "Loss at step 198 is 0.049519769847393036\n",
      "Training step 199 of 250\n",
      "Loss at step 199 is 0.05403511971235275\n",
      "Training step 200 of 250\n",
      "Loss at step 200 is 0.0\n",
      "Training step 201 of 250\n",
      "Loss at step 201 is 0.0989910364151001\n",
      "Training step 202 of 250\n",
      "Loss at step 202 is 0.019256271421909332\n",
      "Training step 203 of 250\n",
      "Loss at step 203 is 0.2210349291563034\n",
      "Training step 204 of 250\n",
      "Loss at step 204 is 0.050066180527210236\n",
      "Training step 205 of 250\n",
      "Loss at step 205 is 0.2280866503715515\n",
      "Training step 206 of 250\n",
      "Loss at step 206 is 0.0\n",
      "Training step 207 of 250\n"
     ]
    },
    {
     "name": "stderr",
     "output_type": "stream",
     "text": [
      "[flv @ 0x59fde1455100] Packet mismatch 1024 1050 9568654\n"
     ]
    },
    {
     "name": "stdout",
     "output_type": "stream",
     "text": [
      "Loss at step 207 is 0.05342475324869156\n",
      "Training step 208 of 250\n",
      "Loss at step 208 is 0.0\n",
      "Training step 209 of 250\n",
      "Loss at step 209 is 0.14120201766490936\n",
      "Training step 210 of 250\n",
      "Loss at step 210 is 0.02057795226573944\n",
      "Training step 211 of 250\n",
      "Loss at step 211 is 0.01967538893222809\n",
      "Training step 212 of 250\n",
      "Loss at step 212 is 0.06536491215229034\n",
      "Training step 213 of 250\n",
      "Loss at step 213 is 0.0\n",
      "Training step 214 of 250\n",
      "Loss at step 214 is 0.016847796738147736\n",
      "Training step 215 of 250\n",
      "Loss at step 215 is 0.02008230984210968\n",
      "Training step 216 of 250\n",
      "Loss at step 216 is 0.17038129270076752\n",
      "Training step 217 of 250\n",
      "Loss at step 217 is 0.0008233189582824707\n",
      "Training step 218 of 250\n",
      "Loss at step 218 is 0.055822305381298065\n",
      "Training step 219 of 250\n",
      "Loss at step 219 is 0.0\n",
      "Training step 220 of 250\n"
     ]
    },
    {
     "name": "stderr",
     "output_type": "stream",
     "text": [
      "[flv @ 0x5a0232e0e540] Packet mismatch 1024 1050 9657955\n"
     ]
    },
    {
     "name": "stdout",
     "output_type": "stream",
     "text": [
      "Loss at step 220 is 0.0\n",
      "Training step 221 of 250\n",
      "Loss at step 221 is 0.1570855975151062\n",
      "Training step 222 of 250\n",
      "Loss at step 222 is 0.11313496530056\n",
      "Training step 223 of 250\n"
     ]
    },
    {
     "name": "stderr",
     "output_type": "stream",
     "text": [
      "[flv @ 0x59ffb7c77680] Packet mismatch 1024 1050 2200198\n"
     ]
    },
    {
     "name": "stdout",
     "output_type": "stream",
     "text": [
      "Loss at step 223 is 0.02266582101583481\n",
      "Training step 224 of 250\n",
      "Loss at step 224 is 0.17019259929656982\n",
      "Training step 225 of 250\n",
      "Loss at step 225 is 0.002356402575969696\n",
      "Training step 226 of 250\n",
      "Loss at step 226 is 0.020713038742542267\n",
      "Training step 227 of 250\n",
      "Loss at step 227 is 0.047106266021728516\n",
      "Training step 228 of 250\n",
      "Loss at step 228 is 0.0\n",
      "Training step 229 of 250\n",
      "Loss at step 229 is 0.24036511778831482\n",
      "Training step 230 of 250\n",
      "Loss at step 230 is 0.07824666053056717\n",
      "Training step 231 of 250\n",
      "Loss at step 231 is 0.0\n",
      "Training step 232 of 250\n",
      "Loss at step 232 is 0.17957188189029694\n",
      "Training step 233 of 250\n",
      "Loss at step 233 is 0.0\n",
      "Training step 234 of 250\n",
      "Loss at step 234 is 0.09383272379636765\n",
      "Training step 235 of 250\n",
      "Loss at step 235 is 0.06900548934936523\n",
      "Training step 236 of 250\n",
      "Loss at step 236 is 0.3518548011779785\n",
      "Training step 237 of 250\n",
      "Loss at step 237 is 0.08869261294603348\n",
      "Training step 238 of 250\n",
      "Loss at step 238 is 0.0\n",
      "Training step 239 of 250\n",
      "Loss at step 239 is 0.0\n",
      "Training step 240 of 250\n",
      "Loss at step 240 is 0.1662442684173584\n",
      "Training step 241 of 250\n",
      "Loss at step 241 is 0.0\n",
      "Training step 242 of 250\n",
      "Loss at step 242 is 0.0\n",
      "Training step 243 of 250\n",
      "Loss at step 243 is 0.03359924256801605\n",
      "Training step 244 of 250\n",
      "Loss at step 244 is 0.16353324055671692\n",
      "Training step 245 of 250\n",
      "Loss at step 245 is 0.008462175726890564\n",
      "Training step 246 of 250\n",
      "Loss at step 246 is 0.0\n",
      "Training step 247 of 250\n",
      "Loss at step 247 is 0.03475932776927948\n",
      "Training step 248 of 250\n",
      "Loss at step 248 is 0.0631762221455574\n",
      "Training step 249 of 250\n",
      "Loss at step 249 is 0.09626788645982742\n",
      "Training step 250 of 250\n"
     ]
    },
    {
     "name": "stderr",
     "output_type": "stream",
     "text": [
      "[flv @ 0x59fde1657340] Packet mismatch 1024 1050 9284273\n"
     ]
    },
    {
     "name": "stdout",
     "output_type": "stream",
     "text": [
      "Loss at step 250 is 0.03470059484243393\n",
      "CPU times: user 19h 38min 39s, sys: 31min 36s, total: 20h 10min 15s\n",
      "Wall time: 8h 42min 21s\n"
     ]
    }
   ],
   "source": [
    "%%time\n",
    "for step in range(training_steps):\n",
    "    print(f\"Training step {step+1} of {training_steps}\")\n",
    "    video_frames_1, video_frames_2 = load_video_frame_pair_batch()\n",
    "    \n",
    "    loss = train_step(video_frames_1, video_frames_2)\n",
    "    print(f\"Loss at step {step+1} is {loss}\")"
   ]
  },
  {
   "cell_type": "code",
   "execution_count": 13,
   "metadata": {
    "execution": {
     "iopub.execute_input": "2023-08-25T17:05:03.136942Z",
     "iopub.status.busy": "2023-08-25T17:05:03.136170Z",
     "iopub.status.idle": "2023-08-25T17:05:32.641797Z",
     "shell.execute_reply": "2023-08-25T17:05:32.640846Z",
     "shell.execute_reply.started": "2023-08-25T17:05:03.136889Z"
    }
   },
   "outputs": [],
   "source": [
    "cross_attn_video_pair_encoder_inception_v3.save(\"Resnet_Trainable_custom_cross_attn_correct_00\")"
   ]
  },
  {
   "cell_type": "code",
   "execution_count": 14,
   "metadata": {
    "execution": {
     "iopub.execute_input": "2023-08-25T17:05:35.971568Z",
     "iopub.status.busy": "2023-08-25T17:05:35.971138Z",
     "iopub.status.idle": "2023-08-25T17:05:43.858072Z",
     "shell.execute_reply": "2023-08-25T17:05:43.856587Z",
     "shell.execute_reply.started": "2023-08-25T17:05:35.971536Z"
    }
   },
   "outputs": [
    {
     "name": "stdout",
     "output_type": "stream",
     "text": [
      "  adding: Resnet_Trainable_custom_cross_attn_correct_00/ (stored 0%)\n",
      "  adding: Resnet_Trainable_custom_cross_attn_correct_00/variables/ (stored 0%)\n",
      "  adding: Resnet_Trainable_custom_cross_attn_correct_00/variables/variables.data-00000-of-00001 (deflated 7%)\n",
      "  adding: Resnet_Trainable_custom_cross_attn_correct_00/variables/variables.index (deflated 77%)\n",
      "  adding: Resnet_Trainable_custom_cross_attn_correct_00/saved_model.pb (deflated 93%)\n",
      "  adding: Resnet_Trainable_custom_cross_attn_correct_00/assets/ (stored 0%)\n",
      "  adding: Resnet_Trainable_custom_cross_attn_correct_00/keras_metadata.pb (deflated 96%)\n",
      "  adding: Resnet_Trainable_custom_cross_attn_correct_00/fingerprint.pb (stored 0%)\n"
     ]
    }
   ],
   "source": [
    "! zip -r Resnet_Trainable_custom_cross_attn_correct_00.zip Resnet_Trainable_custom_cross_attn_correct_00"
   ]
  },
  {
   "cell_type": "code",
   "execution_count": 7,
   "metadata": {
    "execution": {
     "iopub.execute_input": "2023-08-26T09:35:38.585776Z",
     "iopub.status.busy": "2023-08-26T09:35:38.585362Z",
     "iopub.status.idle": "2023-08-26T09:35:38.595595Z",
     "shell.execute_reply": "2023-08-26T09:35:38.594059Z",
     "shell.execute_reply.started": "2023-08-26T09:35:38.585728Z"
    }
   },
   "outputs": [],
   "source": [
    "def calculate_video_similarity(video_pairs):\n",
    "    similarity_arr = []\n",
    "    for pair in video_pairs:\n",
    "        video_a = pair[0]\n",
    "        video_b = pair[1]\n",
    "        print(video_a, video_b)\n",
    "    \n",
    "        video_a_frames = data_loader.read_video_frames(video_a, 1, pre_process_network, max_frames=60)\n",
    "        video_b_frames = data_loader.read_video_frames(video_b, 1, pre_process_network, max_frames=60)\n",
    "        video_a_frames = tf.expand_dims(video_a_frames, axis=0)\n",
    "        video_b_frames = tf.expand_dims(video_b_frames, axis=0)\n",
    "        video_a_frames = tf.RaggedTensor.from_tensor(video_a_frames)\n",
    "        video_b_frames = tf.RaggedTensor.from_tensor(video_b_frames)\n",
    "        emb_video_a, _, emb_video_b, _ = cross_attn_video_pair_encoder_inception_v3([video_a_frames, video_b_frames])\n",
    "        similarity = tf.matmul(emb_video_a, tf.transpose(emb_video_b))\n",
    "        similarity = similarity.numpy()\n",
    "        similarity = similarity[0][0]\n",
    "        similarity_arr.append(similarity)\n",
    "    return similarity_arr"
   ]
  },
  {
   "cell_type": "code",
   "execution_count": 8,
   "metadata": {
    "execution": {
     "iopub.execute_input": "2023-08-26T09:35:40.251281Z",
     "iopub.status.busy": "2023-08-26T09:35:40.250378Z",
     "iopub.status.idle": "2023-08-26T09:35:40.596398Z",
     "shell.execute_reply": "2023-08-26T09:35:40.595338Z",
     "shell.execute_reply.started": "2023-08-26T09:35:40.251236Z"
    }
   },
   "outputs": [],
   "source": [
    "pos_pairs, neg_pairs = data_loader.create_test_video_pairs()"
   ]
  },
  {
   "cell_type": "code",
   "execution_count": 9,
   "metadata": {
    "execution": {
     "iopub.execute_input": "2023-08-26T09:35:47.891437Z",
     "iopub.status.busy": "2023-08-26T09:35:47.890925Z",
     "iopub.status.idle": "2023-08-26T09:36:04.130725Z",
     "shell.execute_reply": "2023-08-26T09:36:04.129728Z",
     "shell.execute_reply.started": "2023-08-26T09:35:47.891396Z"
    }
   },
   "outputs": [],
   "source": [
    "cross_attn_video_pair_encoder_inception_v3 = tf.keras.models.load_model(\"Resnet_Trainable_custom_cross_attn_correct_00\")"
   ]
  },
  {
   "cell_type": "code",
   "execution_count": 10,
   "metadata": {
    "execution": {
     "iopub.execute_input": "2023-08-26T09:36:05.414997Z",
     "iopub.status.busy": "2023-08-26T09:36:05.414561Z",
     "iopub.status.idle": "2023-08-26T10:10:39.418068Z",
     "shell.execute_reply": "2023-08-26T10:10:39.417063Z",
     "shell.execute_reply.started": "2023-08-26T09:36:05.414967Z"
    }
   },
   "outputs": [
    {
     "name": "stdout",
     "output_type": "stream",
     "text": [
      "/kaggle/input/vcdb-dataset/dataset/core_dataset/maradona_hand_of_god/1ae7b9a578d5cdff57415e3701cd064d03ca3246.flv /kaggle/input/vcdb-dataset/dataset/core_dataset/maradona_hand_of_god/3ed4f5c0eb04c94353594e8be1a72bcc657e27c7.flv\n",
      "/kaggle/input/vcdb-dataset/dataset/core_dataset/maradona_hand_of_god/55b5cf91ebbb1f98879f64e74b8155fe98cad23a.flv /kaggle/input/vcdb-dataset/dataset/core_dataset/maradona_hand_of_god/934c1d493bed0e2fae442e8970d787f176ac89cb.flv\n",
      "/kaggle/input/vcdb-dataset/dataset/core_dataset/maradona_hand_of_god/3ec7ab68ed6a1690d7c0074bc563d0dccac57726.flv /kaggle/input/vcdb-dataset/dataset/core_dataset/maradona_hand_of_god/3ed4f5c0eb04c94353594e8be1a72bcc657e27c7.flv\n",
      "/kaggle/input/vcdb-dataset/dataset/core_dataset/maradona_hand_of_god/8d6bd2b5607cbd53fd782843392105c020b9aa7d.flv /kaggle/input/vcdb-dataset/dataset/core_dataset/maradona_hand_of_god/b3e2f9a02ee873972fcb0ce144996ad850c7b4af.flv\n",
      "/kaggle/input/vcdb-dataset/dataset/core_dataset/maradona_hand_of_god/5c4792c066b3e445d46c603878b1be0a33808111.flv /kaggle/input/vcdb-dataset/dataset/core_dataset/maradona_hand_of_god/b3e2f9a02ee873972fcb0ce144996ad850c7b4af.flv\n",
      "/kaggle/input/vcdb-dataset/dataset/core_dataset/tom_hanks_winning_an_oscar/80f9281cacdfc5aef4a111d9286a66c30338e30a.flv /kaggle/input/vcdb-dataset/dataset/core_dataset/tom_hanks_winning_an_oscar/80f9281cacdfc5aef4a111d9286a66c30338e30a.flv\n",
      "/kaggle/input/vcdb-dataset/dataset/core_dataset/tom_hanks_winning_an_oscar/015d1827ee83949cba0db763a6d3d916d83f4f95.flv /kaggle/input/vcdb-dataset/dataset/core_dataset/tom_hanks_winning_an_oscar/e2397f231463229b2c93e61d7837f7c0e9b88377.flv\n",
      "/kaggle/input/vcdb-dataset/dataset/core_dataset/tom_hanks_winning_an_oscar/015d1827ee83949cba0db763a6d3d916d83f4f95.flv /kaggle/input/vcdb-dataset/dataset/core_dataset/tom_hanks_winning_an_oscar/015d1827ee83949cba0db763a6d3d916d83f4f95.flv\n",
      "/kaggle/input/vcdb-dataset/dataset/core_dataset/tom_hanks_winning_an_oscar/80f9281cacdfc5aef4a111d9286a66c30338e30a.flv /kaggle/input/vcdb-dataset/dataset/core_dataset/tom_hanks_winning_an_oscar/e2397f231463229b2c93e61d7837f7c0e9b88377.flv\n",
      "/kaggle/input/vcdb-dataset/dataset/core_dataset/tom_hanks_winning_an_oscar/015d1827ee83949cba0db763a6d3d916d83f4f95.flv /kaggle/input/vcdb-dataset/dataset/core_dataset/tom_hanks_winning_an_oscar/80f9281cacdfc5aef4a111d9286a66c30338e30a.flv\n",
      "/kaggle/input/vcdb-dataset/dataset/core_dataset/beautiful_mind_game_theory/46f2e964ae16f5c27fad70d6849c76616fad7502.flv /kaggle/input/vcdb-dataset/dataset/core_dataset/beautiful_mind_game_theory/904c8ebf782357ae78ebd205fe3428ad76b975a5.flv\n",
      "/kaggle/input/vcdb-dataset/dataset/core_dataset/beautiful_mind_game_theory/b41c61fb756014444b7974ef25f2c76d5c3b42e4.flv /kaggle/input/vcdb-dataset/dataset/core_dataset/beautiful_mind_game_theory/b41c61fb756014444b7974ef25f2c76d5c3b42e4.flv\n",
      "/kaggle/input/vcdb-dataset/dataset/core_dataset/beautiful_mind_game_theory/6171d3d87ae377e497199554033bca96a263277b.flv /kaggle/input/vcdb-dataset/dataset/core_dataset/beautiful_mind_game_theory/6171d3d87ae377e497199554033bca96a263277b.flv\n",
      "/kaggle/input/vcdb-dataset/dataset/core_dataset/beautiful_mind_game_theory/904c8ebf782357ae78ebd205fe3428ad76b975a5.flv /kaggle/input/vcdb-dataset/dataset/core_dataset/beautiful_mind_game_theory/904c8ebf782357ae78ebd205fe3428ad76b975a5.flv\n",
      "/kaggle/input/vcdb-dataset/dataset/core_dataset/beautiful_mind_game_theory/46f2e964ae16f5c27fad70d6849c76616fad7502.flv /kaggle/input/vcdb-dataset/dataset/core_dataset/beautiful_mind_game_theory/46f2e964ae16f5c27fad70d6849c76616fad7502.flv\n",
      "/kaggle/input/vcdb-dataset/dataset/core_dataset/t-mac_13_points_in_35_seconds/8d222599bddb8d463bc7c7835f209cbc41072ca6.mp4 /kaggle/input/vcdb-dataset/dataset/core_dataset/t-mac_13_points_in_35_seconds/e4b443e64c27a3364d16db8e11e6e85f2d3fd7ed.flv\n",
      "/kaggle/input/vcdb-dataset/dataset/core_dataset/t-mac_13_points_in_35_seconds/3d05bb64144049ccc7bc64001538f7e8ea50bf8b.flv /kaggle/input/vcdb-dataset/dataset/core_dataset/t-mac_13_points_in_35_seconds/b75d15d45b34b0aba85ebc67fdc9fac93e20fd26.flv\n",
      "/kaggle/input/vcdb-dataset/dataset/core_dataset/t-mac_13_points_in_35_seconds/92e46a8b5dcc5f1ad5db96e626d56234470f3c28.flv /kaggle/input/vcdb-dataset/dataset/core_dataset/t-mac_13_points_in_35_seconds/beb8ec624aae490c6f21a7bc7330da8e839623fb.mp4\n",
      "/kaggle/input/vcdb-dataset/dataset/core_dataset/t-mac_13_points_in_35_seconds/92e46a8b5dcc5f1ad5db96e626d56234470f3c28.flv /kaggle/input/vcdb-dataset/dataset/core_dataset/t-mac_13_points_in_35_seconds/92e46a8b5dcc5f1ad5db96e626d56234470f3c28.flv\n",
      "/kaggle/input/vcdb-dataset/dataset/core_dataset/t-mac_13_points_in_35_seconds/42daf76df2f31f0805f2f3f766bb348bb24feac7.flv /kaggle/input/vcdb-dataset/dataset/core_dataset/t-mac_13_points_in_35_seconds/a99ef662562ec242651946259b170b409c0d48d7.mp4\n",
      "/kaggle/input/vcdb-dataset/dataset/core_dataset/bill_clinton_apology_speech/682329105c2fa291ceb13eebfe0544fb9a115c0b.flv /kaggle/input/vcdb-dataset/dataset/core_dataset/bill_clinton_apology_speech/ab8bd55b3fefca37c7dc57e973a7cea1ae3555ad.flv\n",
      "/kaggle/input/vcdb-dataset/dataset/core_dataset/bill_clinton_apology_speech/410ba1c253fb8d4a8ba6e59aa9e39d39cb3b245b.flv /kaggle/input/vcdb-dataset/dataset/core_dataset/bill_clinton_apology_speech/ab8bd55b3fefca37c7dc57e973a7cea1ae3555ad.flv\n",
      "/kaggle/input/vcdb-dataset/dataset/core_dataset/bill_clinton_apology_speech/410ba1c253fb8d4a8ba6e59aa9e39d39cb3b245b.flv /kaggle/input/vcdb-dataset/dataset/core_dataset/bill_clinton_apology_speech/e9e65688a633e99bd3cc6e4078a2ef0157153cd5.flv\n",
      "/kaggle/input/vcdb-dataset/dataset/core_dataset/bill_clinton_apology_speech/09ff1e69bf3accfcf029ad987f61f791a005c358.flv /kaggle/input/vcdb-dataset/dataset/core_dataset/bill_clinton_apology_speech/630d6d7a0c534717c09acb316b0408a7e80a0a32.flv\n",
      "/kaggle/input/vcdb-dataset/dataset/core_dataset/bill_clinton_apology_speech/630d6d7a0c534717c09acb316b0408a7e80a0a32.flv /kaggle/input/vcdb-dataset/dataset/core_dataset/bill_clinton_apology_speech/630d6d7a0c534717c09acb316b0408a7e80a0a32.flv\n",
      "/kaggle/input/vcdb-dataset/dataset/core_dataset/scent_of_woman_tango/2fe7b38b1cbdfdf5d6075ee2b2cd9fee2cf7d7c1.flv /kaggle/input/vcdb-dataset/dataset/core_dataset/scent_of_woman_tango/2fe7b38b1cbdfdf5d6075ee2b2cd9fee2cf7d7c1.flv\n",
      "/kaggle/input/vcdb-dataset/dataset/core_dataset/scent_of_woman_tango/75b4b9a9fc4801a2f625297c698e5eef4ec37cfe.flv /kaggle/input/vcdb-dataset/dataset/core_dataset/scent_of_woman_tango/c9cee9c02cc23af3a26ee9548b895addd643974f.flv\n",
      "/kaggle/input/vcdb-dataset/dataset/core_dataset/scent_of_woman_tango/75b4b9a9fc4801a2f625297c698e5eef4ec37cfe.flv /kaggle/input/vcdb-dataset/dataset/core_dataset/scent_of_woman_tango/e2409fb1749da3d3412fa0e5a1751c2fa0a6965d.flv\n",
      "/kaggle/input/vcdb-dataset/dataset/core_dataset/scent_of_woman_tango/31c0c6ca1fb0a7c86e0aff458bffd0002d42ef3e.flv /kaggle/input/vcdb-dataset/dataset/core_dataset/scent_of_woman_tango/c9cee9c02cc23af3a26ee9548b895addd643974f.flv\n",
      "/kaggle/input/vcdb-dataset/dataset/core_dataset/scent_of_woman_tango/2fe7b38b1cbdfdf5d6075ee2b2cd9fee2cf7d7c1.flv /kaggle/input/vcdb-dataset/dataset/core_dataset/scent_of_woman_tango/99ed602c360a9781ed792eaa504ad1b89b51ae06.flv\n",
      "/kaggle/input/vcdb-dataset/dataset/core_dataset/brazil_vs_brazil_nike_commercial_2012/554d94559dcfcdff9312053469c9c64940dbca20.flv /kaggle/input/vcdb-dataset/dataset/core_dataset/brazil_vs_brazil_nike_commercial_2012/ee7a5a870cbe3215a87a2798c81a0d43c118e62d.flv\n",
      "/kaggle/input/vcdb-dataset/dataset/core_dataset/brazil_vs_brazil_nike_commercial_2012/3932dee75c7ddd9785d7d502235892d1b0380f5a.flv /kaggle/input/vcdb-dataset/dataset/core_dataset/brazil_vs_brazil_nike_commercial_2012/3df02ec5ddb74647d8fb96f08adba8e152050ef9.flv\n",
      "/kaggle/input/vcdb-dataset/dataset/core_dataset/brazil_vs_brazil_nike_commercial_2012/3932dee75c7ddd9785d7d502235892d1b0380f5a.flv /kaggle/input/vcdb-dataset/dataset/core_dataset/brazil_vs_brazil_nike_commercial_2012/554d94559dcfcdff9312053469c9c64940dbca20.flv\n",
      "/kaggle/input/vcdb-dataset/dataset/core_dataset/brazil_vs_brazil_nike_commercial_2012/12b96f2d055a6eb05241a9aeed95a8be8e5cf79c.flv /kaggle/input/vcdb-dataset/dataset/core_dataset/brazil_vs_brazil_nike_commercial_2012/296961b67d89d82a362fb046e333718e1579691d.flv\n",
      "/kaggle/input/vcdb-dataset/dataset/core_dataset/brazil_vs_brazil_nike_commercial_2012/12b96f2d055a6eb05241a9aeed95a8be8e5cf79c.flv /kaggle/input/vcdb-dataset/dataset/core_dataset/brazil_vs_brazil_nike_commercial_2012/554d94559dcfcdff9312053469c9c64940dbca20.flv\n",
      "/kaggle/input/vcdb-dataset/dataset/core_dataset/david_beckham_lights_the_olympic_torch/09b682c899b0727e9990d8e347cdce3df7c5550e.flv /kaggle/input/vcdb-dataset/dataset/core_dataset/david_beckham_lights_the_olympic_torch/d2015b438b70f022967713d6f977ebc67a16839e.flv\n",
      "/kaggle/input/vcdb-dataset/dataset/core_dataset/david_beckham_lights_the_olympic_torch/09b682c899b0727e9990d8e347cdce3df7c5550e.flv /kaggle/input/vcdb-dataset/dataset/core_dataset/david_beckham_lights_the_olympic_torch/c80dd6dfe271e4887c11bd76248411a8e7c853b0.flv\n",
      "/kaggle/input/vcdb-dataset/dataset/core_dataset/david_beckham_lights_the_olympic_torch/56adf39cc2f2f342b0a589038f6d11bac861028e.flv /kaggle/input/vcdb-dataset/dataset/core_dataset/david_beckham_lights_the_olympic_torch/d2015b438b70f022967713d6f977ebc67a16839e.flv\n",
      "/kaggle/input/vcdb-dataset/dataset/core_dataset/david_beckham_lights_the_olympic_torch/56adf39cc2f2f342b0a589038f6d11bac861028e.flv /kaggle/input/vcdb-dataset/dataset/core_dataset/david_beckham_lights_the_olympic_torch/d2015b438b70f022967713d6f977ebc67a16839e.flv\n",
      "/kaggle/input/vcdb-dataset/dataset/core_dataset/david_beckham_lights_the_olympic_torch/54c560a6b270647b28ea2746853c937885e2718b.flv /kaggle/input/vcdb-dataset/dataset/core_dataset/david_beckham_lights_the_olympic_torch/5ac8651ce41781440c8595d174748f1a6cad1ff7.flv\n",
      "/kaggle/input/vcdb-dataset/dataset/core_dataset/titanic_fly_scene/1803c61a647e94580b6b4fa9dd0677ae787df1fb.mp4 /kaggle/input/vcdb-dataset/dataset/core_dataset/titanic_fly_scene/8eced8631e728d892ecce8b2d916e8f12c03f63b.flv\n",
      "/kaggle/input/vcdb-dataset/dataset/core_dataset/titanic_fly_scene/be847241c99460843de85ffa104b07dcac62e588.flv /kaggle/input/vcdb-dataset/dataset/core_dataset/titanic_fly_scene/ced799f59617c20019ab9faa3be934b9c77f14c8.mp4\n",
      "/kaggle/input/vcdb-dataset/dataset/core_dataset/titanic_fly_scene/524ef63fbe3c17ac7dce07f21e19c22841269580.flv /kaggle/input/vcdb-dataset/dataset/core_dataset/titanic_fly_scene/ec6d9578723211eebde91393c69ba9f84507431c.mp4\n",
      "/kaggle/input/vcdb-dataset/dataset/core_dataset/titanic_fly_scene/8eced8631e728d892ecce8b2d916e8f12c03f63b.flv /kaggle/input/vcdb-dataset/dataset/core_dataset/titanic_fly_scene/f277e9757d3eeeef647967a50e7c9211f9298de5.flv\n",
      "/kaggle/input/vcdb-dataset/dataset/core_dataset/titanic_fly_scene/8eced8631e728d892ecce8b2d916e8f12c03f63b.flv /kaggle/input/vcdb-dataset/dataset/core_dataset/titanic_fly_scene/eb97c61cfd330392a5d8c6d5c7e48fdfd1a0c859.flv\n",
      "/kaggle/input/vcdb-dataset/dataset/core_dataset/saving_private_ryan_omaha_beach/0421e862855ae81fd14e804d0758ab7917b5335c.flv /kaggle/input/vcdb-dataset/dataset/core_dataset/saving_private_ryan_omaha_beach/aba6851ca7f78f3a83216005bef58766e3dfb26d.flv\n",
      "/kaggle/input/vcdb-dataset/dataset/core_dataset/saving_private_ryan_omaha_beach/aba6851ca7f78f3a83216005bef58766e3dfb26d.flv /kaggle/input/vcdb-dataset/dataset/core_dataset/saving_private_ryan_omaha_beach/e7831eba03ee7083a9d547fdde6adadaa05f3eeb.flv\n",
      "/kaggle/input/vcdb-dataset/dataset/core_dataset/saving_private_ryan_omaha_beach/0421e862855ae81fd14e804d0758ab7917b5335c.flv /kaggle/input/vcdb-dataset/dataset/core_dataset/saving_private_ryan_omaha_beach/25ba77da725f9247cf8a84bb370cf40ac74297d2.flv\n",
      "/kaggle/input/vcdb-dataset/dataset/core_dataset/saving_private_ryan_omaha_beach/200130e0c39f0239a22ad3f873feac30e88134df.flv /kaggle/input/vcdb-dataset/dataset/core_dataset/saving_private_ryan_omaha_beach/743b4b30bf4fa11e3231dd0cc319016db1cb5b73.flv\n",
      "/kaggle/input/vcdb-dataset/dataset/core_dataset/saving_private_ryan_omaha_beach/0421e862855ae81fd14e804d0758ab7917b5335c.flv /kaggle/input/vcdb-dataset/dataset/core_dataset/saving_private_ryan_omaha_beach/1a9a30abe7dee2eaa52c82490ee117cc399f583e.flv\n",
      "/kaggle/input/vcdb-dataset/dataset/core_dataset/bolt_beijing_100m/c7d5eb4355e2ce9c90bf681e28ca740b1e7c62ca.flv /kaggle/input/vcdb-dataset/dataset/core_dataset/bolt_beijing_100m/d30e718464711d5903b53d36aef8c8212bad1d07.flv\n",
      "/kaggle/input/vcdb-dataset/dataset/core_dataset/bolt_beijing_100m/225eceebd0f24728bd1740f642de6705d43a4da0.flv /kaggle/input/vcdb-dataset/dataset/core_dataset/bolt_beijing_100m/56b8c2103555cf056db670c7e952c1fa7418e73d.flv\n",
      "/kaggle/input/vcdb-dataset/dataset/core_dataset/bolt_beijing_100m/0268faef0f0ae291f5ede0a7c3f2d176a6101a08.flv /kaggle/input/vcdb-dataset/dataset/core_dataset/bolt_beijing_100m/359b3ef99acac4136096052c6d812a6248811e10.flv\n",
      "/kaggle/input/vcdb-dataset/dataset/core_dataset/bolt_beijing_100m/0268faef0f0ae291f5ede0a7c3f2d176a6101a08.flv /kaggle/input/vcdb-dataset/dataset/core_dataset/bolt_beijing_100m/098df9c477ecf6c4f3818b198490b0258163015d.flv\n",
      "/kaggle/input/vcdb-dataset/dataset/core_dataset/bolt_beijing_100m/e8e45390a65d2eac522a42b969d2adb87fac7315.flv /kaggle/input/vcdb-dataset/dataset/core_dataset/bolt_beijing_100m/e8e45390a65d2eac522a42b969d2adb87fac7315.flv\n",
      "/kaggle/input/vcdb-dataset/dataset/core_dataset/zidane_headbutt/0c06d64856ceae3c5146fd0cae9ac6fc5107083e.flv /kaggle/input/vcdb-dataset/dataset/core_dataset/zidane_headbutt/cb593efe5b194fe67a8e5ffe33b35cca954cdcd4.flv\n",
      "/kaggle/input/vcdb-dataset/dataset/core_dataset/zidane_headbutt/0dbcff0b6d671e1579ad468eed54d84f7e9b7289.mp4 /kaggle/input/vcdb-dataset/dataset/core_dataset/zidane_headbutt/13f06a567cbee6f40952cc13817a7774caa72903.flv\n"
     ]
    },
    {
     "name": "stderr",
     "output_type": "stream",
     "text": [
      "[flv @ 0x5946ec021300] Packet mismatch 1024 1050 13735394\n"
     ]
    },
    {
     "name": "stdout",
     "output_type": "stream",
     "text": [
      "/kaggle/input/vcdb-dataset/dataset/core_dataset/zidane_headbutt/0dbcff0b6d671e1579ad468eed54d84f7e9b7289.mp4 /kaggle/input/vcdb-dataset/dataset/core_dataset/zidane_headbutt/b91aa7020c5dd0a6518d11f745b275363f854bce.flv\n",
      "/kaggle/input/vcdb-dataset/dataset/core_dataset/zidane_headbutt/cb593efe5b194fe67a8e5ffe33b35cca954cdcd4.flv /kaggle/input/vcdb-dataset/dataset/core_dataset/zidane_headbutt/cc3b8791039b9e7f664260d76f8ca6cc48004823.flv\n",
      "/kaggle/input/vcdb-dataset/dataset/core_dataset/zidane_headbutt/0ed02c5bbb500542f88f0d7285e56e1186ac9bf5.flv /kaggle/input/vcdb-dataset/dataset/core_dataset/zidane_headbutt/afc75e8c02a5ecba44739b0623befa16afa1d896.flv\n",
      "/kaggle/input/vcdb-dataset/dataset/core_dataset/president_obama_takes_oath/089bc4a7f6d8747dad92507019b100c5ec09a883.flv /kaggle/input/vcdb-dataset/dataset/core_dataset/president_obama_takes_oath/50267c2376f0e05d38f8d468d4bb403fab5cc454.flv\n",
      "/kaggle/input/vcdb-dataset/dataset/core_dataset/president_obama_takes_oath/32b25dee50d2c710b1122afe7371b9fa274241d6.flv /kaggle/input/vcdb-dataset/dataset/core_dataset/president_obama_takes_oath/d083d6a9a987fb0e37dddc0f134704a29677899c.flv\n",
      "Unable to read frame #1358 of video '/kaggle/input/vcdb-dataset/dataset/core_dataset/president_obama_takes_oath/32b25dee50d2c710b1122afe7371b9fa274241d6.flv'. Skipping and Continuing.!!\n",
      "Unable to read frame #1410 of video '/kaggle/input/vcdb-dataset/dataset/core_dataset/president_obama_takes_oath/32b25dee50d2c710b1122afe7371b9fa274241d6.flv'. Skipping and Continuing.!!\n",
      "/kaggle/input/vcdb-dataset/dataset/core_dataset/president_obama_takes_oath/089bc4a7f6d8747dad92507019b100c5ec09a883.flv /kaggle/input/vcdb-dataset/dataset/core_dataset/president_obama_takes_oath/9efa8c1165cc587476f284ecda53b88c9fd92697.flv\n",
      "/kaggle/input/vcdb-dataset/dataset/core_dataset/president_obama_takes_oath/ea224722e7d3ef9c44d8140a2e435469384204d8.flv /kaggle/input/vcdb-dataset/dataset/core_dataset/president_obama_takes_oath/ea224722e7d3ef9c44d8140a2e435469384204d8.flv\n",
      "/kaggle/input/vcdb-dataset/dataset/core_dataset/president_obama_takes_oath/55dde762dc283ee301065f670b6d7c08c3c32668.flv /kaggle/input/vcdb-dataset/dataset/core_dataset/president_obama_takes_oath/55dde762dc283ee301065f670b6d7c08c3c32668.flv\n",
      "/kaggle/input/vcdb-dataset/dataset/core_dataset/the_legend_of_1900_magic_waltz/976d46d661538fdfcff23979d4c0d9fff5fb5ee8.flv /kaggle/input/vcdb-dataset/dataset/core_dataset/the_legend_of_1900_magic_waltz/abd84397791c7c16a1718e37e2821f232889d9ac.flv\n",
      "/kaggle/input/vcdb-dataset/dataset/core_dataset/the_legend_of_1900_magic_waltz/0908a93749a07da23df25c1e7e13c4ceaeca1e23.flv /kaggle/input/vcdb-dataset/dataset/core_dataset/the_legend_of_1900_magic_waltz/b441a4e7885a6735296550f6e765a3fc1da1947b.flv\n",
      "/kaggle/input/vcdb-dataset/dataset/core_dataset/the_legend_of_1900_magic_waltz/4849d1042b92a04fb2e019beec04a4f30188ba18.flv /kaggle/input/vcdb-dataset/dataset/core_dataset/the_legend_of_1900_magic_waltz/b90b0fdb3035754c78e100577387be7c39ea2404.flv\n",
      "/kaggle/input/vcdb-dataset/dataset/core_dataset/the_legend_of_1900_magic_waltz/50dfd1daee780fbf9722990387201e2b367a1f27.flv /kaggle/input/vcdb-dataset/dataset/core_dataset/the_legend_of_1900_magic_waltz/b441a4e7885a6735296550f6e765a3fc1da1947b.flv\n",
      "/kaggle/input/vcdb-dataset/dataset/core_dataset/the_legend_of_1900_magic_waltz/0908a93749a07da23df25c1e7e13c4ceaeca1e23.flv /kaggle/input/vcdb-dataset/dataset/core_dataset/the_legend_of_1900_magic_waltz/b90b0fdb3035754c78e100577387be7c39ea2404.flv\n",
      "/kaggle/input/vcdb-dataset/dataset/core_dataset/kennedy_assassination_slow_motion/a8253d279cbeb3a29bd346b63083c054eab1407a.flv /kaggle/input/vcdb-dataset/dataset/core_dataset/kennedy_assassination_slow_motion/e05b9149d1a03f651df63b63657e7de1e106e061.flv\n",
      "/kaggle/input/vcdb-dataset/dataset/core_dataset/kennedy_assassination_slow_motion/60424fb57dae4de20a1672b9019d54dea5179073.flv /kaggle/input/vcdb-dataset/dataset/core_dataset/kennedy_assassination_slow_motion/f6e296bfd930f585e165246530efa97bc035330f.flv\n",
      "/kaggle/input/vcdb-dataset/dataset/core_dataset/kennedy_assassination_slow_motion/925a69d13824e3521d6eccbe8c6d7ff0c54486fe.flv /kaggle/input/vcdb-dataset/dataset/core_dataset/kennedy_assassination_slow_motion/e05b9149d1a03f651df63b63657e7de1e106e061.flv\n",
      "/kaggle/input/vcdb-dataset/dataset/core_dataset/kennedy_assassination_slow_motion/8b99b013165faa0c1cb36794f0d20d38a621f496.flv /kaggle/input/vcdb-dataset/dataset/core_dataset/kennedy_assassination_slow_motion/f6e296bfd930f585e165246530efa97bc035330f.flv\n",
      "/kaggle/input/vcdb-dataset/dataset/core_dataset/kennedy_assassination_slow_motion/2283dfecf92111bfb035888b4810c011ac164876.flv /kaggle/input/vcdb-dataset/dataset/core_dataset/kennedy_assassination_slow_motion/925a69d13824e3521d6eccbe8c6d7ff0c54486fe.flv\n",
      "/kaggle/input/vcdb-dataset/dataset/core_dataset/dove_evolution_commercial/8fb97b98e2f27c9f162d6c1d6c27806c84af8e8d.flv /kaggle/input/vcdb-dataset/dataset/core_dataset/dove_evolution_commercial/caec7bae88f5b5d60a08487e9d9a8cd27251c64e.flv\n",
      "/kaggle/input/vcdb-dataset/dataset/core_dataset/dove_evolution_commercial/cac9dff859597360de5a5f011139c845c0d08e6c.flv /kaggle/input/vcdb-dataset/dataset/core_dataset/dove_evolution_commercial/cac9dff859597360de5a5f011139c845c0d08e6c.flv\n",
      "/kaggle/input/vcdb-dataset/dataset/core_dataset/dove_evolution_commercial/487be7c83186caba89dc3004a1bd24350e35a099.flv /kaggle/input/vcdb-dataset/dataset/core_dataset/dove_evolution_commercial/bbdbe357f408fb84d5f57c1522a90504f3162d6f.flv\n",
      "/kaggle/input/vcdb-dataset/dataset/core_dataset/dove_evolution_commercial/7c9d142bf1b1ede846c059117f422b1c8ea6bb9e.mp4 /kaggle/input/vcdb-dataset/dataset/core_dataset/dove_evolution_commercial/b3205b97de392174f3905831fc0dba5724fdabf1.flv\n",
      "/kaggle/input/vcdb-dataset/dataset/core_dataset/dove_evolution_commercial/705d504994af63494d0e6e3e42f64d6b165b9584.flv /kaggle/input/vcdb-dataset/dataset/core_dataset/dove_evolution_commercial/75ac32c788e5d5d2e058a24f6a2deffbab3288fc.flv\n",
      "/kaggle/input/vcdb-dataset/dataset/core_dataset/run_forrest_fun/1777dc7aada63176bc9d3d87a5ce322163cfe4e6.flv /kaggle/input/vcdb-dataset/dataset/core_dataset/run_forrest_fun/1777dc7aada63176bc9d3d87a5ce322163cfe4e6.flv\n",
      "/kaggle/input/vcdb-dataset/dataset/core_dataset/run_forrest_fun/067fb2aa9623905a42a2b0b286de1386e45c5bf8.flv /kaggle/input/vcdb-dataset/dataset/core_dataset/run_forrest_fun/1e5aec100a5b897342a4be9246995fc16f784e66.flv\n",
      "/kaggle/input/vcdb-dataset/dataset/core_dataset/run_forrest_fun/1e5aec100a5b897342a4be9246995fc16f784e66.flv /kaggle/input/vcdb-dataset/dataset/core_dataset/run_forrest_fun/b545808db002bde2b5f478efbb57e5fe62a8f324.flv\n",
      "/kaggle/input/vcdb-dataset/dataset/core_dataset/run_forrest_fun/067fb2aa9623905a42a2b0b286de1386e45c5bf8.flv /kaggle/input/vcdb-dataset/dataset/core_dataset/run_forrest_fun/b545808db002bde2b5f478efbb57e5fe62a8f324.flv\n",
      "/kaggle/input/vcdb-dataset/dataset/core_dataset/run_forrest_fun/1e5aec100a5b897342a4be9246995fc16f784e66.flv /kaggle/input/vcdb-dataset/dataset/core_dataset/run_forrest_fun/1e5aec100a5b897342a4be9246995fc16f784e66.flv\n",
      "/kaggle/input/vcdb-dataset/dataset/core_dataset/baggio_penalty_1994/6d1a89c83d554fc6a5e39fcadb172a79baf140fd.mp4 /kaggle/input/vcdb-dataset/dataset/core_dataset/baggio_penalty_1994/e901a631b00f4ad0c9d161d686fac1339e1e3535.flv\n",
      "/kaggle/input/vcdb-dataset/dataset/core_dataset/baggio_penalty_1994/3504e360accbaccb1580befbb441f1019664c2bb.mp4 /kaggle/input/vcdb-dataset/dataset/core_dataset/baggio_penalty_1994/8084216caff6082b4e71ae4bbfe556f28a68485f.flv\n",
      "/kaggle/input/vcdb-dataset/dataset/core_dataset/baggio_penalty_1994/8084216caff6082b4e71ae4bbfe556f28a68485f.flv /kaggle/input/vcdb-dataset/dataset/core_dataset/baggio_penalty_1994/8084216caff6082b4e71ae4bbfe556f28a68485f.flv\n",
      "/kaggle/input/vcdb-dataset/dataset/core_dataset/baggio_penalty_1994/6d1a89c83d554fc6a5e39fcadb172a79baf140fd.mp4 /kaggle/input/vcdb-dataset/dataset/core_dataset/baggio_penalty_1994/9423340949f55d7a089e881ccc35f23dff3fccf7.flv\n",
      "/kaggle/input/vcdb-dataset/dataset/core_dataset/baggio_penalty_1994/3504e360accbaccb1580befbb441f1019664c2bb.mp4 /kaggle/input/vcdb-dataset/dataset/core_dataset/baggio_penalty_1994/3504e360accbaccb1580befbb441f1019664c2bb.mp4\n",
      "/kaggle/input/vcdb-dataset/dataset/core_dataset/endless_love/5b90735d0a44043685ced4a784dfd3fc8489317a.mp4 /kaggle/input/vcdb-dataset/dataset/core_dataset/endless_love/f8b09ea589093ea7fc20cb530963fe610e90fd12.flv\n",
      "/kaggle/input/vcdb-dataset/dataset/core_dataset/endless_love/621e548a6730fef0d8e3ff041c751881a9432af4.flv /kaggle/input/vcdb-dataset/dataset/core_dataset/endless_love/875ea06d092a04ffd4e875e1f311e6aa2eb9ff87.flv\n",
      "/kaggle/input/vcdb-dataset/dataset/core_dataset/endless_love/60c5b3896a5a75b43ee11719952ebb2a18a20d56.flv /kaggle/input/vcdb-dataset/dataset/core_dataset/endless_love/60c5b3896a5a75b43ee11719952ebb2a18a20d56.flv\n",
      "/kaggle/input/vcdb-dataset/dataset/core_dataset/endless_love/5b46e9007b0add1d73a11d2f4414efe35b017acb.flv /kaggle/input/vcdb-dataset/dataset/core_dataset/endless_love/f8b09ea589093ea7fc20cb530963fe610e90fd12.flv\n",
      "/kaggle/input/vcdb-dataset/dataset/core_dataset/endless_love/3499b9fd4316131ebf0f5d9bbecf6f3f8600c4fb.flv /kaggle/input/vcdb-dataset/dataset/core_dataset/endless_love/6834f12ea580a4e7309bd8541fb6fbe4daeeda0f.flv\n",
      "/kaggle/input/vcdb-dataset/dataset/core_dataset/the_last_samurai_last_battle/93cad7675cea2f7c761ad9fc2ee72baee61f38e3.flv /kaggle/input/vcdb-dataset/dataset/core_dataset/the_last_samurai_last_battle/c3ca62e39b8118a8773999ca5ed4757784032371.flv\n",
      "/kaggle/input/vcdb-dataset/dataset/core_dataset/the_last_samurai_last_battle/2c6e77e63a5b12547ccdd5d0c2a32db71428fc98.flv /kaggle/input/vcdb-dataset/dataset/core_dataset/the_last_samurai_last_battle/9e94d3404faee3a1e3c78fb33064319511428103.flv\n",
      "/kaggle/input/vcdb-dataset/dataset/core_dataset/the_last_samurai_last_battle/2c6e77e63a5b12547ccdd5d0c2a32db71428fc98.flv /kaggle/input/vcdb-dataset/dataset/core_dataset/the_last_samurai_last_battle/fa89363182761c182136f54fc7650930265a5bb4.flv\n",
      "/kaggle/input/vcdb-dataset/dataset/core_dataset/the_last_samurai_last_battle/2c6e77e63a5b12547ccdd5d0c2a32db71428fc98.flv /kaggle/input/vcdb-dataset/dataset/core_dataset/the_last_samurai_last_battle/cbe5dff0d1f7658b8e37d32ade9fd9b27a9f3fc9.flv\n",
      "/kaggle/input/vcdb-dataset/dataset/core_dataset/the_last_samurai_last_battle/94d686ecfa99d431b9f35e589e601057a2075b8e.flv /kaggle/input/vcdb-dataset/dataset/core_dataset/the_last_samurai_last_battle/94d686ecfa99d431b9f35e589e601057a2075b8e.flv\n",
      "/kaggle/input/vcdb-dataset/dataset/core_dataset/obama_kicks_door/126d3e5b61ad28f847ad1ff6d15315742e780ac6.mp4 /kaggle/input/vcdb-dataset/dataset/core_dataset/obama_kicks_door/28ae1e3aa722872cec66e9c83a35243accd27e2d.flv\n",
      "/kaggle/input/vcdb-dataset/dataset/core_dataset/obama_kicks_door/14c81d68b80d04743a107d4de859cb4724ccc2c1.flv /kaggle/input/vcdb-dataset/dataset/core_dataset/obama_kicks_door/9f6c4b5fb07564529bd75142e29757b36770359c.flv\n",
      "/kaggle/input/vcdb-dataset/dataset/core_dataset/obama_kicks_door/170914a51f3b81a48ada1a1e8c6a97fc9d61e3c2.flv /kaggle/input/vcdb-dataset/dataset/core_dataset/obama_kicks_door/c854dfdd9b038a39cf36d5ded719822e1e5e942a.flv\n",
      "/kaggle/input/vcdb-dataset/dataset/core_dataset/obama_kicks_door/28d2bcbf01d0572073d4e7543b0a43cda23887f2.flv /kaggle/input/vcdb-dataset/dataset/core_dataset/obama_kicks_door/a9ef8194429b65cd61ce681caff308530c9fc8b3.flv\n",
      "/kaggle/input/vcdb-dataset/dataset/core_dataset/obama_kicks_door/28d2bcbf01d0572073d4e7543b0a43cda23887f2.flv /kaggle/input/vcdb-dataset/dataset/core_dataset/obama_kicks_door/553d57eaab222c10c21018a6adc6d79841ba07e0.flv\n",
      "/kaggle/input/vcdb-dataset/dataset/core_dataset/mr_and_mrs_smith_tango/be51784c0b0676bf487376af362b088922efa954.flv /kaggle/input/vcdb-dataset/dataset/core_dataset/mr_and_mrs_smith_tango/d2f4aca96d44a144b12abc300b781b8ff8bb0842.flv\n",
      "/kaggle/input/vcdb-dataset/dataset/core_dataset/mr_and_mrs_smith_tango/2ba013a3f6fa57793c242766e27ec77d001fe03a.flv /kaggle/input/vcdb-dataset/dataset/core_dataset/mr_and_mrs_smith_tango/be51784c0b0676bf487376af362b088922efa954.flv\n",
      "/kaggle/input/vcdb-dataset/dataset/core_dataset/mr_and_mrs_smith_tango/38f11a4162d8e94227ac644f117f942735b9a504.mp4 /kaggle/input/vcdb-dataset/dataset/core_dataset/mr_and_mrs_smith_tango/d2f4aca96d44a144b12abc300b781b8ff8bb0842.flv\n",
      "/kaggle/input/vcdb-dataset/dataset/core_dataset/mr_and_mrs_smith_tango/e2adc784b83446ae775f698b9d17c9fd392b2f75.flv /kaggle/input/vcdb-dataset/dataset/core_dataset/mr_and_mrs_smith_tango/e2adc784b83446ae775f698b9d17c9fd392b2f75.flv\n",
      "/kaggle/input/vcdb-dataset/dataset/core_dataset/mr_and_mrs_smith_tango/7caa7fcef0e0b17725a0bda8b101d819e6ca2dbd.flv /kaggle/input/vcdb-dataset/dataset/core_dataset/mr_and_mrs_smith_tango/7caa7fcef0e0b17725a0bda8b101d819e6ca2dbd.flv\n",
      "/kaggle/input/vcdb-dataset/dataset/core_dataset/osama_bin_laden_is_dead_obama_speech_at_white_house/a8ad757811a9292d6184ff2f16f7be2ce686a605.flv /kaggle/input/vcdb-dataset/dataset/core_dataset/osama_bin_laden_is_dead_obama_speech_at_white_house/eaa384490867c32e4b3cc0d7d969af63d1a6edda.flv\n",
      "/kaggle/input/vcdb-dataset/dataset/core_dataset/osama_bin_laden_is_dead_obama_speech_at_white_house/28a7b8e86a5bc14c3668248d3a1395af9d58cdcb.mp4 /kaggle/input/vcdb-dataset/dataset/core_dataset/osama_bin_laden_is_dead_obama_speech_at_white_house/3f81759e6e56e326c0deb3f1ca002e4c68d87eec.flv\n",
      "/kaggle/input/vcdb-dataset/dataset/core_dataset/osama_bin_laden_is_dead_obama_speech_at_white_house/89b40b8ef5ec589cd8e4ebe5970e6b488f6b31ad.flv /kaggle/input/vcdb-dataset/dataset/core_dataset/osama_bin_laden_is_dead_obama_speech_at_white_house/bb1de1926803eea0fa311556b1c991fab3a73396.flv\n",
      "/kaggle/input/vcdb-dataset/dataset/core_dataset/osama_bin_laden_is_dead_obama_speech_at_white_house/24a6a7d24464d6fe488abb181d89e426e8eeb837.mp4 /kaggle/input/vcdb-dataset/dataset/core_dataset/osama_bin_laden_is_dead_obama_speech_at_white_house/d7fd4ee52ade46db49e9fbabdf5d964ce0677961.flv\n",
      "/kaggle/input/vcdb-dataset/dataset/core_dataset/osama_bin_laden_is_dead_obama_speech_at_white_house/e3cfb1f40fb5690a700aba9ac1fa35be2fd4ff1f.flv /kaggle/input/vcdb-dataset/dataset/core_dataset/osama_bin_laden_is_dead_obama_speech_at_white_house/edae2238f87dce9981af2e1c472096e6694da1a1.flv\n",
      "/kaggle/input/vcdb-dataset/dataset/core_dataset/ronaldinho_ping_pong/64c86092addbb5b3de44a4412d52509fdda5c38c.flv /kaggle/input/vcdb-dataset/dataset/core_dataset/ronaldinho_ping_pong/d909ebd329acb38fdfd631252e05c273e58e60d3.mp4\n",
      "/kaggle/input/vcdb-dataset/dataset/core_dataset/ronaldinho_ping_pong/0c3c3c22cd9caef7491e07a3176e6e27a0ef06a2.flv /kaggle/input/vcdb-dataset/dataset/core_dataset/ronaldinho_ping_pong/980970c70070421c46fb122e7a6ebc59682e697d.flv\n",
      "/kaggle/input/vcdb-dataset/dataset/core_dataset/ronaldinho_ping_pong/b88ae034eae2bb791dd880f003eb73882380a488.mp4 /kaggle/input/vcdb-dataset/dataset/core_dataset/ronaldinho_ping_pong/b88ae034eae2bb791dd880f003eb73882380a488.mp4\n",
      "/kaggle/input/vcdb-dataset/dataset/core_dataset/ronaldinho_ping_pong/5567a1bb5b9767342dc99baea8d67508ca22c046.flv /kaggle/input/vcdb-dataset/dataset/core_dataset/ronaldinho_ping_pong/980970c70070421c46fb122e7a6ebc59682e697d.flv\n",
      "/kaggle/input/vcdb-dataset/dataset/core_dataset/ronaldinho_ping_pong/275ca13a391d89d08b7de46c23c4430070c3251c.flv /kaggle/input/vcdb-dataset/dataset/core_dataset/ronaldinho_ping_pong/b88ae034eae2bb791dd880f003eb73882380a488.mp4\n",
      "/kaggle/input/vcdb-dataset/dataset/core_dataset/the_pursuit_of_happyness_-_job_interview/8dab37af058628a51bd4b7e0a5a0c1cd5234f6ac.flv /kaggle/input/vcdb-dataset/dataset/core_dataset/the_pursuit_of_happyness_-_job_interview/e7d95916555f9a89b377a0e9f94087416c8f9914.flv\n",
      "/kaggle/input/vcdb-dataset/dataset/core_dataset/the_pursuit_of_happyness_-_job_interview/834a827de29c3955ab8cb0d7bf800bcb64acf555.flv /kaggle/input/vcdb-dataset/dataset/core_dataset/the_pursuit_of_happyness_-_job_interview/8dab37af058628a51bd4b7e0a5a0c1cd5234f6ac.flv\n",
      "/kaggle/input/vcdb-dataset/dataset/core_dataset/the_pursuit_of_happyness_-_job_interview/28e2a70b9a97f4f501ec673368cdd9caa1d00831.flv /kaggle/input/vcdb-dataset/dataset/core_dataset/the_pursuit_of_happyness_-_job_interview/834a827de29c3955ab8cb0d7bf800bcb64acf555.flv\n",
      "/kaggle/input/vcdb-dataset/dataset/core_dataset/the_pursuit_of_happyness_-_job_interview/834a827de29c3955ab8cb0d7bf800bcb64acf555.flv /kaggle/input/vcdb-dataset/dataset/core_dataset/the_pursuit_of_happyness_-_job_interview/834a827de29c3955ab8cb0d7bf800bcb64acf555.flv\n",
      "/kaggle/input/vcdb-dataset/dataset/core_dataset/the_pursuit_of_happyness_-_job_interview/8dab37af058628a51bd4b7e0a5a0c1cd5234f6ac.flv /kaggle/input/vcdb-dataset/dataset/core_dataset/the_pursuit_of_happyness_-_job_interview/d821d4ffbf4f727e376164e2ad149757b70d0579.flv\n",
      "/kaggle/input/vcdb-dataset/dataset/core_dataset/troy_achilles_and_hector/0a6a553c5d2d7eb7409eb580e7da01f60e3176f1.flv /kaggle/input/vcdb-dataset/dataset/core_dataset/troy_achilles_and_hector/9b15a52652373497a10b8915b8cc025967962b72.flv\n",
      "/kaggle/input/vcdb-dataset/dataset/core_dataset/troy_achilles_and_hector/a0fc0a97772388012c3d2062b36086d2cfb2bc82.flv /kaggle/input/vcdb-dataset/dataset/core_dataset/troy_achilles_and_hector/a15a43f0cf9ce7eab781706a82ee0027d53aae4f.flv\n",
      "/kaggle/input/vcdb-dataset/dataset/core_dataset/troy_achilles_and_hector/0b3f9e88e5ab73e19dc4d1a32115ea3457867128.flv /kaggle/input/vcdb-dataset/dataset/core_dataset/troy_achilles_and_hector/9f7862bcee961fdec039a3f287ad7c8351cfbed9.flv\n",
      "/kaggle/input/vcdb-dataset/dataset/core_dataset/troy_achilles_and_hector/911169b1e685d943c7854a1c0ecdf9cef1250bec.mp4 /kaggle/input/vcdb-dataset/dataset/core_dataset/troy_achilles_and_hector/ee417a6b882853ffcd3f78b380b0205a9411f4d6.flv\n",
      "/kaggle/input/vcdb-dataset/dataset/core_dataset/troy_achilles_and_hector/6fe097a963673b26c62f6ff6d6151d383c194b9d.flv /kaggle/input/vcdb-dataset/dataset/core_dataset/troy_achilles_and_hector/9b15a52652373497a10b8915b8cc025967962b72.flv\n",
      "/kaggle/input/vcdb-dataset/dataset/core_dataset/beckham_70_yard_goal/1f4f6311bb4acc0bc72e4a915a32093a7a85741c.flv /kaggle/input/vcdb-dataset/dataset/core_dataset/beckham_70_yard_goal/37a935b4c21662e183a0dd632f40d5fd6900c42b.mp4\n",
      "/kaggle/input/vcdb-dataset/dataset/core_dataset/beckham_70_yard_goal/3fe2e54fdb267849aa8aeb0b39ec0d1c7075b391.flv /kaggle/input/vcdb-dataset/dataset/core_dataset/beckham_70_yard_goal/a100d2d414f1faa59abdb409e8858d6a4ba96618.flv\n",
      "/kaggle/input/vcdb-dataset/dataset/core_dataset/beckham_70_yard_goal/5d38467d3becf8273bd7ae9028a37fcb0cc3828b.flv /kaggle/input/vcdb-dataset/dataset/core_dataset/beckham_70_yard_goal/d28c7952b8a60139126446bc81bff5ecebcf5129.flv\n",
      "/kaggle/input/vcdb-dataset/dataset/core_dataset/beckham_70_yard_goal/1357538fd1fd2975a8b3f750d5f6b13695aa4e28.flv /kaggle/input/vcdb-dataset/dataset/core_dataset/beckham_70_yard_goal/5d38467d3becf8273bd7ae9028a37fcb0cc3828b.flv\n",
      "/kaggle/input/vcdb-dataset/dataset/core_dataset/beckham_70_yard_goal/37a935b4c21662e183a0dd632f40d5fd6900c42b.mp4 /kaggle/input/vcdb-dataset/dataset/core_dataset/beckham_70_yard_goal/97c71f57e83f6ab16906fdd7edc8e3f88d2ceee1.flv\n",
      "/kaggle/input/vcdb-dataset/dataset/core_dataset/infernal_affairs_1/007d931e5f8d6dc6367964748ed862739425303b.flv /kaggle/input/vcdb-dataset/dataset/core_dataset/infernal_affairs_1/4a79c873b671f3452afde9d247250d8c3776e7c6.flv\n",
      "/kaggle/input/vcdb-dataset/dataset/core_dataset/infernal_affairs_1/468410600142c136d707b4cbc3ff0703c112575d.flv /kaggle/input/vcdb-dataset/dataset/core_dataset/infernal_affairs_1/68868f88c7c8f4887bf441ea1f61500dbcd1da5b.flv\n",
      "/kaggle/input/vcdb-dataset/dataset/core_dataset/infernal_affairs_1/007d931e5f8d6dc6367964748ed862739425303b.flv /kaggle/input/vcdb-dataset/dataset/core_dataset/infernal_affairs_1/c224dece59ecedc0a54ddafe5b1ab0ecf1f7a729.flv\n",
      "/kaggle/input/vcdb-dataset/dataset/core_dataset/infernal_affairs_1/23254771545e5d278548ba02d25d32add952b2a4.flv /kaggle/input/vcdb-dataset/dataset/core_dataset/infernal_affairs_1/e8e7aaf3d965501ca315099c1d2b4c8fe12cce68.flv\n",
      "/kaggle/input/vcdb-dataset/dataset/core_dataset/infernal_affairs_1/007d931e5f8d6dc6367964748ed862739425303b.flv /kaggle/input/vcdb-dataset/dataset/core_dataset/infernal_affairs_1/031dacfeacdc715e755c01f4d37b49577336006e.mp4\n",
      "/kaggle/input/vcdb-dataset/dataset/core_dataset/maradona_hand_of_god/ce1451b329a9cd5ad178f0927644f81fad4c69c2.flv /kaggle/input/vcdb-dataset/dataset/core_dataset/tom_hanks_winning_an_oscar/e2397f231463229b2c93e61d7837f7c0e9b88377.flv\n",
      "/kaggle/input/vcdb-dataset/dataset/core_dataset/maradona_hand_of_god/ce1451b329a9cd5ad178f0927644f81fad4c69c2.flv /kaggle/input/vcdb-dataset/dataset/core_dataset/beautiful_mind_game_theory/904c8ebf782357ae78ebd205fe3428ad76b975a5.flv\n",
      "/kaggle/input/vcdb-dataset/dataset/core_dataset/maradona_hand_of_god/ce1451b329a9cd5ad178f0927644f81fad4c69c2.flv /kaggle/input/vcdb-dataset/dataset/core_dataset/t-mac_13_points_in_35_seconds/18f317405a4f8e49e546b3f4df689030a1f6664c.flv\n",
      "/kaggle/input/vcdb-dataset/dataset/core_dataset/maradona_hand_of_god/ce1451b329a9cd5ad178f0927644f81fad4c69c2.flv /kaggle/input/vcdb-dataset/dataset/core_dataset/bill_clinton_apology_speech/09ff1e69bf3accfcf029ad987f61f791a005c358.flv\n",
      "/kaggle/input/vcdb-dataset/dataset/core_dataset/maradona_hand_of_god/ce1451b329a9cd5ad178f0927644f81fad4c69c2.flv /kaggle/input/vcdb-dataset/dataset/core_dataset/scent_of_woman_tango/010aeeb1a5d471418ceab8f8c0d5f34d84059cff.flv\n",
      "/kaggle/input/vcdb-dataset/dataset/core_dataset/maradona_hand_of_god/ce1451b329a9cd5ad178f0927644f81fad4c69c2.flv /kaggle/input/vcdb-dataset/dataset/core_dataset/brazil_vs_brazil_nike_commercial_2012/12b96f2d055a6eb05241a9aeed95a8be8e5cf79c.flv\n",
      "/kaggle/input/vcdb-dataset/dataset/core_dataset/maradona_hand_of_god/ce1451b329a9cd5ad178f0927644f81fad4c69c2.flv /kaggle/input/vcdb-dataset/dataset/core_dataset/david_beckham_lights_the_olympic_torch/d2015b438b70f022967713d6f977ebc67a16839e.flv\n",
      "/kaggle/input/vcdb-dataset/dataset/core_dataset/maradona_hand_of_god/ce1451b329a9cd5ad178f0927644f81fad4c69c2.flv /kaggle/input/vcdb-dataset/dataset/core_dataset/titanic_fly_scene/34d8301dfa17beef7c5a703c03765e328c2c108e.flv\n",
      "/kaggle/input/vcdb-dataset/dataset/core_dataset/maradona_hand_of_god/ce1451b329a9cd5ad178f0927644f81fad4c69c2.flv /kaggle/input/vcdb-dataset/dataset/core_dataset/saving_private_ryan_omaha_beach/743b4b30bf4fa11e3231dd0cc319016db1cb5b73.flv\n",
      "/kaggle/input/vcdb-dataset/dataset/core_dataset/maradona_hand_of_god/ce1451b329a9cd5ad178f0927644f81fad4c69c2.flv /kaggle/input/vcdb-dataset/dataset/core_dataset/bolt_beijing_100m/0268faef0f0ae291f5ede0a7c3f2d176a6101a08.flv\n",
      "/kaggle/input/vcdb-dataset/dataset/core_dataset/maradona_hand_of_god/ce1451b329a9cd5ad178f0927644f81fad4c69c2.flv /kaggle/input/vcdb-dataset/dataset/core_dataset/zidane_headbutt/8ad458ed4d45f32e8baa3bf5d84ad2a2a0324300.flv\n",
      "/kaggle/input/vcdb-dataset/dataset/core_dataset/maradona_hand_of_god/ce1451b329a9cd5ad178f0927644f81fad4c69c2.flv /kaggle/input/vcdb-dataset/dataset/core_dataset/president_obama_takes_oath/f410b354eec142d6e0f1124bffe6aad83d8dc427.flv\n",
      "/kaggle/input/vcdb-dataset/dataset/core_dataset/maradona_hand_of_god/ce1451b329a9cd5ad178f0927644f81fad4c69c2.flv /kaggle/input/vcdb-dataset/dataset/core_dataset/the_legend_of_1900_magic_waltz/b441a4e7885a6735296550f6e765a3fc1da1947b.flv\n",
      "/kaggle/input/vcdb-dataset/dataset/core_dataset/maradona_hand_of_god/ce1451b329a9cd5ad178f0927644f81fad4c69c2.flv /kaggle/input/vcdb-dataset/dataset/core_dataset/kennedy_assassination_slow_motion/2283dfecf92111bfb035888b4810c011ac164876.flv\n",
      "/kaggle/input/vcdb-dataset/dataset/core_dataset/maradona_hand_of_god/ce1451b329a9cd5ad178f0927644f81fad4c69c2.flv /kaggle/input/vcdb-dataset/dataset/core_dataset/dove_evolution_commercial/caec7bae88f5b5d60a08487e9d9a8cd27251c64e.flv\n",
      "/kaggle/input/vcdb-dataset/dataset/core_dataset/maradona_hand_of_god/ce1451b329a9cd5ad178f0927644f81fad4c69c2.flv /kaggle/input/vcdb-dataset/dataset/core_dataset/run_forrest_fun/8f19329946455ae5c2c7b788ea6f6513bf5e1c9a.flv\n",
      "/kaggle/input/vcdb-dataset/dataset/core_dataset/maradona_hand_of_god/ce1451b329a9cd5ad178f0927644f81fad4c69c2.flv /kaggle/input/vcdb-dataset/dataset/core_dataset/baggio_penalty_1994/6d1a89c83d554fc6a5e39fcadb172a79baf140fd.mp4\n",
      "/kaggle/input/vcdb-dataset/dataset/core_dataset/maradona_hand_of_god/ce1451b329a9cd5ad178f0927644f81fad4c69c2.flv /kaggle/input/vcdb-dataset/dataset/core_dataset/endless_love/875ea06d092a04ffd4e875e1f311e6aa2eb9ff87.flv\n",
      "/kaggle/input/vcdb-dataset/dataset/core_dataset/maradona_hand_of_god/ce1451b329a9cd5ad178f0927644f81fad4c69c2.flv /kaggle/input/vcdb-dataset/dataset/core_dataset/the_last_samurai_last_battle/9e94d3404faee3a1e3c78fb33064319511428103.flv\n",
      "/kaggle/input/vcdb-dataset/dataset/core_dataset/maradona_hand_of_god/ce1451b329a9cd5ad178f0927644f81fad4c69c2.flv /kaggle/input/vcdb-dataset/dataset/core_dataset/obama_kicks_door/126f24a39b0ce19993d1fd7bd620fa98a3eda3a7.mp4\n",
      "/kaggle/input/vcdb-dataset/dataset/core_dataset/maradona_hand_of_god/ce1451b329a9cd5ad178f0927644f81fad4c69c2.flv /kaggle/input/vcdb-dataset/dataset/core_dataset/mr_and_mrs_smith_tango/39c96fc7117a0ff1fdc02637285c13d8efe7ce93.flv\n",
      "/kaggle/input/vcdb-dataset/dataset/core_dataset/maradona_hand_of_god/ce1451b329a9cd5ad178f0927644f81fad4c69c2.flv /kaggle/input/vcdb-dataset/dataset/core_dataset/osama_bin_laden_is_dead_obama_speech_at_white_house/ebe5fd08a5d05f2af96f425bc894860bac3f9ba6.flv\n",
      "/kaggle/input/vcdb-dataset/dataset/core_dataset/maradona_hand_of_god/ce1451b329a9cd5ad178f0927644f81fad4c69c2.flv /kaggle/input/vcdb-dataset/dataset/core_dataset/ronaldinho_ping_pong/a5df43e25319b10af46225849677bd30b916ce81.flv\n",
      "/kaggle/input/vcdb-dataset/dataset/core_dataset/maradona_hand_of_god/ce1451b329a9cd5ad178f0927644f81fad4c69c2.flv /kaggle/input/vcdb-dataset/dataset/core_dataset/the_pursuit_of_happyness_-_job_interview/4dd842508699d66636298376da31208a2e029c61.flv\n",
      "/kaggle/input/vcdb-dataset/dataset/core_dataset/maradona_hand_of_god/ce1451b329a9cd5ad178f0927644f81fad4c69c2.flv /kaggle/input/vcdb-dataset/dataset/core_dataset/troy_achilles_and_hector/911169b1e685d943c7854a1c0ecdf9cef1250bec.mp4\n",
      "/kaggle/input/vcdb-dataset/dataset/core_dataset/maradona_hand_of_god/ce1451b329a9cd5ad178f0927644f81fad4c69c2.flv /kaggle/input/vcdb-dataset/dataset/core_dataset/beckham_70_yard_goal/1f4f6311bb4acc0bc72e4a915a32093a7a85741c.flv\n",
      "/kaggle/input/vcdb-dataset/dataset/core_dataset/maradona_hand_of_god/ce1451b329a9cd5ad178f0927644f81fad4c69c2.flv /kaggle/input/vcdb-dataset/dataset/core_dataset/infernal_affairs_1/2620a515a196e5d4329f320f478010e578980bee.flv\n",
      "/kaggle/input/vcdb-dataset/dataset/core_dataset/tom_hanks_winning_an_oscar/e2397f231463229b2c93e61d7837f7c0e9b88377.flv /kaggle/input/vcdb-dataset/dataset/core_dataset/beautiful_mind_game_theory/904c8ebf782357ae78ebd205fe3428ad76b975a5.flv\n",
      "/kaggle/input/vcdb-dataset/dataset/core_dataset/tom_hanks_winning_an_oscar/e2397f231463229b2c93e61d7837f7c0e9b88377.flv /kaggle/input/vcdb-dataset/dataset/core_dataset/t-mac_13_points_in_35_seconds/18f317405a4f8e49e546b3f4df689030a1f6664c.flv\n",
      "/kaggle/input/vcdb-dataset/dataset/core_dataset/tom_hanks_winning_an_oscar/e2397f231463229b2c93e61d7837f7c0e9b88377.flv /kaggle/input/vcdb-dataset/dataset/core_dataset/bill_clinton_apology_speech/09ff1e69bf3accfcf029ad987f61f791a005c358.flv\n",
      "/kaggle/input/vcdb-dataset/dataset/core_dataset/tom_hanks_winning_an_oscar/e2397f231463229b2c93e61d7837f7c0e9b88377.flv /kaggle/input/vcdb-dataset/dataset/core_dataset/scent_of_woman_tango/010aeeb1a5d471418ceab8f8c0d5f34d84059cff.flv\n",
      "/kaggle/input/vcdb-dataset/dataset/core_dataset/tom_hanks_winning_an_oscar/e2397f231463229b2c93e61d7837f7c0e9b88377.flv /kaggle/input/vcdb-dataset/dataset/core_dataset/brazil_vs_brazil_nike_commercial_2012/12b96f2d055a6eb05241a9aeed95a8be8e5cf79c.flv\n",
      "/kaggle/input/vcdb-dataset/dataset/core_dataset/tom_hanks_winning_an_oscar/e2397f231463229b2c93e61d7837f7c0e9b88377.flv /kaggle/input/vcdb-dataset/dataset/core_dataset/david_beckham_lights_the_olympic_torch/d2015b438b70f022967713d6f977ebc67a16839e.flv\n",
      "/kaggle/input/vcdb-dataset/dataset/core_dataset/tom_hanks_winning_an_oscar/e2397f231463229b2c93e61d7837f7c0e9b88377.flv /kaggle/input/vcdb-dataset/dataset/core_dataset/titanic_fly_scene/34d8301dfa17beef7c5a703c03765e328c2c108e.flv\n",
      "/kaggle/input/vcdb-dataset/dataset/core_dataset/tom_hanks_winning_an_oscar/e2397f231463229b2c93e61d7837f7c0e9b88377.flv /kaggle/input/vcdb-dataset/dataset/core_dataset/saving_private_ryan_omaha_beach/743b4b30bf4fa11e3231dd0cc319016db1cb5b73.flv\n",
      "/kaggle/input/vcdb-dataset/dataset/core_dataset/tom_hanks_winning_an_oscar/e2397f231463229b2c93e61d7837f7c0e9b88377.flv /kaggle/input/vcdb-dataset/dataset/core_dataset/bolt_beijing_100m/0268faef0f0ae291f5ede0a7c3f2d176a6101a08.flv\n",
      "/kaggle/input/vcdb-dataset/dataset/core_dataset/tom_hanks_winning_an_oscar/e2397f231463229b2c93e61d7837f7c0e9b88377.flv /kaggle/input/vcdb-dataset/dataset/core_dataset/zidane_headbutt/8ad458ed4d45f32e8baa3bf5d84ad2a2a0324300.flv\n",
      "/kaggle/input/vcdb-dataset/dataset/core_dataset/tom_hanks_winning_an_oscar/e2397f231463229b2c93e61d7837f7c0e9b88377.flv /kaggle/input/vcdb-dataset/dataset/core_dataset/president_obama_takes_oath/f410b354eec142d6e0f1124bffe6aad83d8dc427.flv\n",
      "/kaggle/input/vcdb-dataset/dataset/core_dataset/tom_hanks_winning_an_oscar/e2397f231463229b2c93e61d7837f7c0e9b88377.flv /kaggle/input/vcdb-dataset/dataset/core_dataset/the_legend_of_1900_magic_waltz/b441a4e7885a6735296550f6e765a3fc1da1947b.flv\n",
      "/kaggle/input/vcdb-dataset/dataset/core_dataset/tom_hanks_winning_an_oscar/e2397f231463229b2c93e61d7837f7c0e9b88377.flv /kaggle/input/vcdb-dataset/dataset/core_dataset/kennedy_assassination_slow_motion/2283dfecf92111bfb035888b4810c011ac164876.flv\n",
      "/kaggle/input/vcdb-dataset/dataset/core_dataset/tom_hanks_winning_an_oscar/e2397f231463229b2c93e61d7837f7c0e9b88377.flv /kaggle/input/vcdb-dataset/dataset/core_dataset/dove_evolution_commercial/caec7bae88f5b5d60a08487e9d9a8cd27251c64e.flv\n",
      "/kaggle/input/vcdb-dataset/dataset/core_dataset/tom_hanks_winning_an_oscar/e2397f231463229b2c93e61d7837f7c0e9b88377.flv /kaggle/input/vcdb-dataset/dataset/core_dataset/run_forrest_fun/8f19329946455ae5c2c7b788ea6f6513bf5e1c9a.flv\n",
      "/kaggle/input/vcdb-dataset/dataset/core_dataset/tom_hanks_winning_an_oscar/e2397f231463229b2c93e61d7837f7c0e9b88377.flv /kaggle/input/vcdb-dataset/dataset/core_dataset/baggio_penalty_1994/6d1a89c83d554fc6a5e39fcadb172a79baf140fd.mp4\n",
      "/kaggle/input/vcdb-dataset/dataset/core_dataset/tom_hanks_winning_an_oscar/e2397f231463229b2c93e61d7837f7c0e9b88377.flv /kaggle/input/vcdb-dataset/dataset/core_dataset/endless_love/875ea06d092a04ffd4e875e1f311e6aa2eb9ff87.flv\n",
      "/kaggle/input/vcdb-dataset/dataset/core_dataset/tom_hanks_winning_an_oscar/e2397f231463229b2c93e61d7837f7c0e9b88377.flv /kaggle/input/vcdb-dataset/dataset/core_dataset/the_last_samurai_last_battle/9e94d3404faee3a1e3c78fb33064319511428103.flv\n",
      "/kaggle/input/vcdb-dataset/dataset/core_dataset/tom_hanks_winning_an_oscar/e2397f231463229b2c93e61d7837f7c0e9b88377.flv /kaggle/input/vcdb-dataset/dataset/core_dataset/obama_kicks_door/126f24a39b0ce19993d1fd7bd620fa98a3eda3a7.mp4\n",
      "/kaggle/input/vcdb-dataset/dataset/core_dataset/tom_hanks_winning_an_oscar/e2397f231463229b2c93e61d7837f7c0e9b88377.flv /kaggle/input/vcdb-dataset/dataset/core_dataset/mr_and_mrs_smith_tango/39c96fc7117a0ff1fdc02637285c13d8efe7ce93.flv\n",
      "/kaggle/input/vcdb-dataset/dataset/core_dataset/tom_hanks_winning_an_oscar/e2397f231463229b2c93e61d7837f7c0e9b88377.flv /kaggle/input/vcdb-dataset/dataset/core_dataset/osama_bin_laden_is_dead_obama_speech_at_white_house/ebe5fd08a5d05f2af96f425bc894860bac3f9ba6.flv\n",
      "/kaggle/input/vcdb-dataset/dataset/core_dataset/tom_hanks_winning_an_oscar/e2397f231463229b2c93e61d7837f7c0e9b88377.flv /kaggle/input/vcdb-dataset/dataset/core_dataset/ronaldinho_ping_pong/a5df43e25319b10af46225849677bd30b916ce81.flv\n",
      "/kaggle/input/vcdb-dataset/dataset/core_dataset/tom_hanks_winning_an_oscar/e2397f231463229b2c93e61d7837f7c0e9b88377.flv /kaggle/input/vcdb-dataset/dataset/core_dataset/the_pursuit_of_happyness_-_job_interview/4dd842508699d66636298376da31208a2e029c61.flv\n",
      "/kaggle/input/vcdb-dataset/dataset/core_dataset/tom_hanks_winning_an_oscar/e2397f231463229b2c93e61d7837f7c0e9b88377.flv /kaggle/input/vcdb-dataset/dataset/core_dataset/troy_achilles_and_hector/911169b1e685d943c7854a1c0ecdf9cef1250bec.mp4\n",
      "/kaggle/input/vcdb-dataset/dataset/core_dataset/tom_hanks_winning_an_oscar/e2397f231463229b2c93e61d7837f7c0e9b88377.flv /kaggle/input/vcdb-dataset/dataset/core_dataset/beckham_70_yard_goal/1f4f6311bb4acc0bc72e4a915a32093a7a85741c.flv\n",
      "/kaggle/input/vcdb-dataset/dataset/core_dataset/tom_hanks_winning_an_oscar/e2397f231463229b2c93e61d7837f7c0e9b88377.flv /kaggle/input/vcdb-dataset/dataset/core_dataset/infernal_affairs_1/2620a515a196e5d4329f320f478010e578980bee.flv\n",
      "/kaggle/input/vcdb-dataset/dataset/core_dataset/beautiful_mind_game_theory/904c8ebf782357ae78ebd205fe3428ad76b975a5.flv /kaggle/input/vcdb-dataset/dataset/core_dataset/t-mac_13_points_in_35_seconds/18f317405a4f8e49e546b3f4df689030a1f6664c.flv\n",
      "/kaggle/input/vcdb-dataset/dataset/core_dataset/beautiful_mind_game_theory/904c8ebf782357ae78ebd205fe3428ad76b975a5.flv /kaggle/input/vcdb-dataset/dataset/core_dataset/bill_clinton_apology_speech/09ff1e69bf3accfcf029ad987f61f791a005c358.flv\n",
      "/kaggle/input/vcdb-dataset/dataset/core_dataset/beautiful_mind_game_theory/904c8ebf782357ae78ebd205fe3428ad76b975a5.flv /kaggle/input/vcdb-dataset/dataset/core_dataset/scent_of_woman_tango/010aeeb1a5d471418ceab8f8c0d5f34d84059cff.flv\n",
      "/kaggle/input/vcdb-dataset/dataset/core_dataset/beautiful_mind_game_theory/904c8ebf782357ae78ebd205fe3428ad76b975a5.flv /kaggle/input/vcdb-dataset/dataset/core_dataset/brazil_vs_brazil_nike_commercial_2012/12b96f2d055a6eb05241a9aeed95a8be8e5cf79c.flv\n",
      "/kaggle/input/vcdb-dataset/dataset/core_dataset/beautiful_mind_game_theory/904c8ebf782357ae78ebd205fe3428ad76b975a5.flv /kaggle/input/vcdb-dataset/dataset/core_dataset/david_beckham_lights_the_olympic_torch/d2015b438b70f022967713d6f977ebc67a16839e.flv\n",
      "/kaggle/input/vcdb-dataset/dataset/core_dataset/beautiful_mind_game_theory/904c8ebf782357ae78ebd205fe3428ad76b975a5.flv /kaggle/input/vcdb-dataset/dataset/core_dataset/titanic_fly_scene/34d8301dfa17beef7c5a703c03765e328c2c108e.flv\n",
      "/kaggle/input/vcdb-dataset/dataset/core_dataset/beautiful_mind_game_theory/904c8ebf782357ae78ebd205fe3428ad76b975a5.flv /kaggle/input/vcdb-dataset/dataset/core_dataset/saving_private_ryan_omaha_beach/743b4b30bf4fa11e3231dd0cc319016db1cb5b73.flv\n",
      "/kaggle/input/vcdb-dataset/dataset/core_dataset/beautiful_mind_game_theory/904c8ebf782357ae78ebd205fe3428ad76b975a5.flv /kaggle/input/vcdb-dataset/dataset/core_dataset/bolt_beijing_100m/0268faef0f0ae291f5ede0a7c3f2d176a6101a08.flv\n",
      "/kaggle/input/vcdb-dataset/dataset/core_dataset/beautiful_mind_game_theory/904c8ebf782357ae78ebd205fe3428ad76b975a5.flv /kaggle/input/vcdb-dataset/dataset/core_dataset/zidane_headbutt/8ad458ed4d45f32e8baa3bf5d84ad2a2a0324300.flv\n",
      "/kaggle/input/vcdb-dataset/dataset/core_dataset/beautiful_mind_game_theory/904c8ebf782357ae78ebd205fe3428ad76b975a5.flv /kaggle/input/vcdb-dataset/dataset/core_dataset/president_obama_takes_oath/f410b354eec142d6e0f1124bffe6aad83d8dc427.flv\n",
      "/kaggle/input/vcdb-dataset/dataset/core_dataset/beautiful_mind_game_theory/904c8ebf782357ae78ebd205fe3428ad76b975a5.flv /kaggle/input/vcdb-dataset/dataset/core_dataset/the_legend_of_1900_magic_waltz/b441a4e7885a6735296550f6e765a3fc1da1947b.flv\n",
      "/kaggle/input/vcdb-dataset/dataset/core_dataset/beautiful_mind_game_theory/904c8ebf782357ae78ebd205fe3428ad76b975a5.flv /kaggle/input/vcdb-dataset/dataset/core_dataset/kennedy_assassination_slow_motion/2283dfecf92111bfb035888b4810c011ac164876.flv\n",
      "/kaggle/input/vcdb-dataset/dataset/core_dataset/beautiful_mind_game_theory/904c8ebf782357ae78ebd205fe3428ad76b975a5.flv /kaggle/input/vcdb-dataset/dataset/core_dataset/dove_evolution_commercial/caec7bae88f5b5d60a08487e9d9a8cd27251c64e.flv\n",
      "/kaggle/input/vcdb-dataset/dataset/core_dataset/beautiful_mind_game_theory/904c8ebf782357ae78ebd205fe3428ad76b975a5.flv /kaggle/input/vcdb-dataset/dataset/core_dataset/run_forrest_fun/8f19329946455ae5c2c7b788ea6f6513bf5e1c9a.flv\n",
      "/kaggle/input/vcdb-dataset/dataset/core_dataset/beautiful_mind_game_theory/904c8ebf782357ae78ebd205fe3428ad76b975a5.flv /kaggle/input/vcdb-dataset/dataset/core_dataset/baggio_penalty_1994/6d1a89c83d554fc6a5e39fcadb172a79baf140fd.mp4\n",
      "/kaggle/input/vcdb-dataset/dataset/core_dataset/beautiful_mind_game_theory/904c8ebf782357ae78ebd205fe3428ad76b975a5.flv /kaggle/input/vcdb-dataset/dataset/core_dataset/endless_love/875ea06d092a04ffd4e875e1f311e6aa2eb9ff87.flv\n",
      "/kaggle/input/vcdb-dataset/dataset/core_dataset/beautiful_mind_game_theory/904c8ebf782357ae78ebd205fe3428ad76b975a5.flv /kaggle/input/vcdb-dataset/dataset/core_dataset/the_last_samurai_last_battle/9e94d3404faee3a1e3c78fb33064319511428103.flv\n",
      "/kaggle/input/vcdb-dataset/dataset/core_dataset/beautiful_mind_game_theory/904c8ebf782357ae78ebd205fe3428ad76b975a5.flv /kaggle/input/vcdb-dataset/dataset/core_dataset/obama_kicks_door/126f24a39b0ce19993d1fd7bd620fa98a3eda3a7.mp4\n",
      "/kaggle/input/vcdb-dataset/dataset/core_dataset/beautiful_mind_game_theory/904c8ebf782357ae78ebd205fe3428ad76b975a5.flv /kaggle/input/vcdb-dataset/dataset/core_dataset/mr_and_mrs_smith_tango/39c96fc7117a0ff1fdc02637285c13d8efe7ce93.flv\n",
      "/kaggle/input/vcdb-dataset/dataset/core_dataset/beautiful_mind_game_theory/904c8ebf782357ae78ebd205fe3428ad76b975a5.flv /kaggle/input/vcdb-dataset/dataset/core_dataset/osama_bin_laden_is_dead_obama_speech_at_white_house/ebe5fd08a5d05f2af96f425bc894860bac3f9ba6.flv\n",
      "/kaggle/input/vcdb-dataset/dataset/core_dataset/beautiful_mind_game_theory/904c8ebf782357ae78ebd205fe3428ad76b975a5.flv /kaggle/input/vcdb-dataset/dataset/core_dataset/ronaldinho_ping_pong/a5df43e25319b10af46225849677bd30b916ce81.flv\n",
      "/kaggle/input/vcdb-dataset/dataset/core_dataset/beautiful_mind_game_theory/904c8ebf782357ae78ebd205fe3428ad76b975a5.flv /kaggle/input/vcdb-dataset/dataset/core_dataset/the_pursuit_of_happyness_-_job_interview/4dd842508699d66636298376da31208a2e029c61.flv\n",
      "/kaggle/input/vcdb-dataset/dataset/core_dataset/beautiful_mind_game_theory/904c8ebf782357ae78ebd205fe3428ad76b975a5.flv /kaggle/input/vcdb-dataset/dataset/core_dataset/troy_achilles_and_hector/911169b1e685d943c7854a1c0ecdf9cef1250bec.mp4\n",
      "/kaggle/input/vcdb-dataset/dataset/core_dataset/beautiful_mind_game_theory/904c8ebf782357ae78ebd205fe3428ad76b975a5.flv /kaggle/input/vcdb-dataset/dataset/core_dataset/beckham_70_yard_goal/1f4f6311bb4acc0bc72e4a915a32093a7a85741c.flv\n",
      "/kaggle/input/vcdb-dataset/dataset/core_dataset/beautiful_mind_game_theory/904c8ebf782357ae78ebd205fe3428ad76b975a5.flv /kaggle/input/vcdb-dataset/dataset/core_dataset/infernal_affairs_1/2620a515a196e5d4329f320f478010e578980bee.flv\n",
      "/kaggle/input/vcdb-dataset/dataset/core_dataset/t-mac_13_points_in_35_seconds/18f317405a4f8e49e546b3f4df689030a1f6664c.flv /kaggle/input/vcdb-dataset/dataset/core_dataset/bill_clinton_apology_speech/09ff1e69bf3accfcf029ad987f61f791a005c358.flv\n",
      "/kaggle/input/vcdb-dataset/dataset/core_dataset/t-mac_13_points_in_35_seconds/18f317405a4f8e49e546b3f4df689030a1f6664c.flv /kaggle/input/vcdb-dataset/dataset/core_dataset/scent_of_woman_tango/010aeeb1a5d471418ceab8f8c0d5f34d84059cff.flv\n",
      "/kaggle/input/vcdb-dataset/dataset/core_dataset/t-mac_13_points_in_35_seconds/18f317405a4f8e49e546b3f4df689030a1f6664c.flv /kaggle/input/vcdb-dataset/dataset/core_dataset/brazil_vs_brazil_nike_commercial_2012/12b96f2d055a6eb05241a9aeed95a8be8e5cf79c.flv\n",
      "/kaggle/input/vcdb-dataset/dataset/core_dataset/t-mac_13_points_in_35_seconds/18f317405a4f8e49e546b3f4df689030a1f6664c.flv /kaggle/input/vcdb-dataset/dataset/core_dataset/david_beckham_lights_the_olympic_torch/d2015b438b70f022967713d6f977ebc67a16839e.flv\n",
      "/kaggle/input/vcdb-dataset/dataset/core_dataset/t-mac_13_points_in_35_seconds/18f317405a4f8e49e546b3f4df689030a1f6664c.flv /kaggle/input/vcdb-dataset/dataset/core_dataset/titanic_fly_scene/34d8301dfa17beef7c5a703c03765e328c2c108e.flv\n",
      "/kaggle/input/vcdb-dataset/dataset/core_dataset/t-mac_13_points_in_35_seconds/18f317405a4f8e49e546b3f4df689030a1f6664c.flv /kaggle/input/vcdb-dataset/dataset/core_dataset/saving_private_ryan_omaha_beach/743b4b30bf4fa11e3231dd0cc319016db1cb5b73.flv\n",
      "/kaggle/input/vcdb-dataset/dataset/core_dataset/t-mac_13_points_in_35_seconds/18f317405a4f8e49e546b3f4df689030a1f6664c.flv /kaggle/input/vcdb-dataset/dataset/core_dataset/bolt_beijing_100m/0268faef0f0ae291f5ede0a7c3f2d176a6101a08.flv\n",
      "/kaggle/input/vcdb-dataset/dataset/core_dataset/t-mac_13_points_in_35_seconds/18f317405a4f8e49e546b3f4df689030a1f6664c.flv /kaggle/input/vcdb-dataset/dataset/core_dataset/zidane_headbutt/8ad458ed4d45f32e8baa3bf5d84ad2a2a0324300.flv\n",
      "/kaggle/input/vcdb-dataset/dataset/core_dataset/t-mac_13_points_in_35_seconds/18f317405a4f8e49e546b3f4df689030a1f6664c.flv /kaggle/input/vcdb-dataset/dataset/core_dataset/president_obama_takes_oath/f410b354eec142d6e0f1124bffe6aad83d8dc427.flv\n",
      "/kaggle/input/vcdb-dataset/dataset/core_dataset/t-mac_13_points_in_35_seconds/18f317405a4f8e49e546b3f4df689030a1f6664c.flv /kaggle/input/vcdb-dataset/dataset/core_dataset/the_legend_of_1900_magic_waltz/b441a4e7885a6735296550f6e765a3fc1da1947b.flv\n",
      "/kaggle/input/vcdb-dataset/dataset/core_dataset/t-mac_13_points_in_35_seconds/18f317405a4f8e49e546b3f4df689030a1f6664c.flv /kaggle/input/vcdb-dataset/dataset/core_dataset/kennedy_assassination_slow_motion/2283dfecf92111bfb035888b4810c011ac164876.flv\n",
      "/kaggle/input/vcdb-dataset/dataset/core_dataset/t-mac_13_points_in_35_seconds/18f317405a4f8e49e546b3f4df689030a1f6664c.flv /kaggle/input/vcdb-dataset/dataset/core_dataset/dove_evolution_commercial/caec7bae88f5b5d60a08487e9d9a8cd27251c64e.flv\n",
      "/kaggle/input/vcdb-dataset/dataset/core_dataset/t-mac_13_points_in_35_seconds/18f317405a4f8e49e546b3f4df689030a1f6664c.flv /kaggle/input/vcdb-dataset/dataset/core_dataset/run_forrest_fun/8f19329946455ae5c2c7b788ea6f6513bf5e1c9a.flv\n",
      "/kaggle/input/vcdb-dataset/dataset/core_dataset/t-mac_13_points_in_35_seconds/18f317405a4f8e49e546b3f4df689030a1f6664c.flv /kaggle/input/vcdb-dataset/dataset/core_dataset/baggio_penalty_1994/6d1a89c83d554fc6a5e39fcadb172a79baf140fd.mp4\n",
      "/kaggle/input/vcdb-dataset/dataset/core_dataset/t-mac_13_points_in_35_seconds/18f317405a4f8e49e546b3f4df689030a1f6664c.flv /kaggle/input/vcdb-dataset/dataset/core_dataset/endless_love/875ea06d092a04ffd4e875e1f311e6aa2eb9ff87.flv\n",
      "/kaggle/input/vcdb-dataset/dataset/core_dataset/t-mac_13_points_in_35_seconds/18f317405a4f8e49e546b3f4df689030a1f6664c.flv /kaggle/input/vcdb-dataset/dataset/core_dataset/the_last_samurai_last_battle/9e94d3404faee3a1e3c78fb33064319511428103.flv\n",
      "/kaggle/input/vcdb-dataset/dataset/core_dataset/t-mac_13_points_in_35_seconds/18f317405a4f8e49e546b3f4df689030a1f6664c.flv /kaggle/input/vcdb-dataset/dataset/core_dataset/obama_kicks_door/126f24a39b0ce19993d1fd7bd620fa98a3eda3a7.mp4\n",
      "/kaggle/input/vcdb-dataset/dataset/core_dataset/t-mac_13_points_in_35_seconds/18f317405a4f8e49e546b3f4df689030a1f6664c.flv /kaggle/input/vcdb-dataset/dataset/core_dataset/mr_and_mrs_smith_tango/39c96fc7117a0ff1fdc02637285c13d8efe7ce93.flv\n",
      "/kaggle/input/vcdb-dataset/dataset/core_dataset/t-mac_13_points_in_35_seconds/18f317405a4f8e49e546b3f4df689030a1f6664c.flv /kaggle/input/vcdb-dataset/dataset/core_dataset/osama_bin_laden_is_dead_obama_speech_at_white_house/ebe5fd08a5d05f2af96f425bc894860bac3f9ba6.flv\n",
      "/kaggle/input/vcdb-dataset/dataset/core_dataset/t-mac_13_points_in_35_seconds/18f317405a4f8e49e546b3f4df689030a1f6664c.flv /kaggle/input/vcdb-dataset/dataset/core_dataset/ronaldinho_ping_pong/a5df43e25319b10af46225849677bd30b916ce81.flv\n",
      "/kaggle/input/vcdb-dataset/dataset/core_dataset/t-mac_13_points_in_35_seconds/18f317405a4f8e49e546b3f4df689030a1f6664c.flv /kaggle/input/vcdb-dataset/dataset/core_dataset/the_pursuit_of_happyness_-_job_interview/4dd842508699d66636298376da31208a2e029c61.flv\n",
      "/kaggle/input/vcdb-dataset/dataset/core_dataset/t-mac_13_points_in_35_seconds/18f317405a4f8e49e546b3f4df689030a1f6664c.flv /kaggle/input/vcdb-dataset/dataset/core_dataset/troy_achilles_and_hector/911169b1e685d943c7854a1c0ecdf9cef1250bec.mp4\n",
      "/kaggle/input/vcdb-dataset/dataset/core_dataset/t-mac_13_points_in_35_seconds/18f317405a4f8e49e546b3f4df689030a1f6664c.flv /kaggle/input/vcdb-dataset/dataset/core_dataset/beckham_70_yard_goal/1f4f6311bb4acc0bc72e4a915a32093a7a85741c.flv\n",
      "/kaggle/input/vcdb-dataset/dataset/core_dataset/t-mac_13_points_in_35_seconds/18f317405a4f8e49e546b3f4df689030a1f6664c.flv /kaggle/input/vcdb-dataset/dataset/core_dataset/infernal_affairs_1/2620a515a196e5d4329f320f478010e578980bee.flv\n",
      "/kaggle/input/vcdb-dataset/dataset/core_dataset/bill_clinton_apology_speech/09ff1e69bf3accfcf029ad987f61f791a005c358.flv /kaggle/input/vcdb-dataset/dataset/core_dataset/scent_of_woman_tango/010aeeb1a5d471418ceab8f8c0d5f34d84059cff.flv\n",
      "/kaggle/input/vcdb-dataset/dataset/core_dataset/bill_clinton_apology_speech/09ff1e69bf3accfcf029ad987f61f791a005c358.flv /kaggle/input/vcdb-dataset/dataset/core_dataset/brazil_vs_brazil_nike_commercial_2012/12b96f2d055a6eb05241a9aeed95a8be8e5cf79c.flv\n",
      "/kaggle/input/vcdb-dataset/dataset/core_dataset/bill_clinton_apology_speech/09ff1e69bf3accfcf029ad987f61f791a005c358.flv /kaggle/input/vcdb-dataset/dataset/core_dataset/david_beckham_lights_the_olympic_torch/d2015b438b70f022967713d6f977ebc67a16839e.flv\n",
      "/kaggle/input/vcdb-dataset/dataset/core_dataset/bill_clinton_apology_speech/09ff1e69bf3accfcf029ad987f61f791a005c358.flv /kaggle/input/vcdb-dataset/dataset/core_dataset/titanic_fly_scene/34d8301dfa17beef7c5a703c03765e328c2c108e.flv\n",
      "/kaggle/input/vcdb-dataset/dataset/core_dataset/bill_clinton_apology_speech/09ff1e69bf3accfcf029ad987f61f791a005c358.flv /kaggle/input/vcdb-dataset/dataset/core_dataset/saving_private_ryan_omaha_beach/743b4b30bf4fa11e3231dd0cc319016db1cb5b73.flv\n",
      "/kaggle/input/vcdb-dataset/dataset/core_dataset/bill_clinton_apology_speech/09ff1e69bf3accfcf029ad987f61f791a005c358.flv /kaggle/input/vcdb-dataset/dataset/core_dataset/bolt_beijing_100m/0268faef0f0ae291f5ede0a7c3f2d176a6101a08.flv\n",
      "/kaggle/input/vcdb-dataset/dataset/core_dataset/bill_clinton_apology_speech/09ff1e69bf3accfcf029ad987f61f791a005c358.flv /kaggle/input/vcdb-dataset/dataset/core_dataset/zidane_headbutt/8ad458ed4d45f32e8baa3bf5d84ad2a2a0324300.flv\n",
      "/kaggle/input/vcdb-dataset/dataset/core_dataset/bill_clinton_apology_speech/09ff1e69bf3accfcf029ad987f61f791a005c358.flv /kaggle/input/vcdb-dataset/dataset/core_dataset/president_obama_takes_oath/f410b354eec142d6e0f1124bffe6aad83d8dc427.flv\n",
      "/kaggle/input/vcdb-dataset/dataset/core_dataset/bill_clinton_apology_speech/09ff1e69bf3accfcf029ad987f61f791a005c358.flv /kaggle/input/vcdb-dataset/dataset/core_dataset/the_legend_of_1900_magic_waltz/b441a4e7885a6735296550f6e765a3fc1da1947b.flv\n",
      "/kaggle/input/vcdb-dataset/dataset/core_dataset/bill_clinton_apology_speech/09ff1e69bf3accfcf029ad987f61f791a005c358.flv /kaggle/input/vcdb-dataset/dataset/core_dataset/kennedy_assassination_slow_motion/2283dfecf92111bfb035888b4810c011ac164876.flv\n",
      "/kaggle/input/vcdb-dataset/dataset/core_dataset/bill_clinton_apology_speech/09ff1e69bf3accfcf029ad987f61f791a005c358.flv /kaggle/input/vcdb-dataset/dataset/core_dataset/dove_evolution_commercial/caec7bae88f5b5d60a08487e9d9a8cd27251c64e.flv\n",
      "/kaggle/input/vcdb-dataset/dataset/core_dataset/bill_clinton_apology_speech/09ff1e69bf3accfcf029ad987f61f791a005c358.flv /kaggle/input/vcdb-dataset/dataset/core_dataset/run_forrest_fun/8f19329946455ae5c2c7b788ea6f6513bf5e1c9a.flv\n",
      "/kaggle/input/vcdb-dataset/dataset/core_dataset/bill_clinton_apology_speech/09ff1e69bf3accfcf029ad987f61f791a005c358.flv /kaggle/input/vcdb-dataset/dataset/core_dataset/baggio_penalty_1994/6d1a89c83d554fc6a5e39fcadb172a79baf140fd.mp4\n",
      "/kaggle/input/vcdb-dataset/dataset/core_dataset/bill_clinton_apology_speech/09ff1e69bf3accfcf029ad987f61f791a005c358.flv /kaggle/input/vcdb-dataset/dataset/core_dataset/endless_love/875ea06d092a04ffd4e875e1f311e6aa2eb9ff87.flv\n",
      "/kaggle/input/vcdb-dataset/dataset/core_dataset/bill_clinton_apology_speech/09ff1e69bf3accfcf029ad987f61f791a005c358.flv /kaggle/input/vcdb-dataset/dataset/core_dataset/the_last_samurai_last_battle/9e94d3404faee3a1e3c78fb33064319511428103.flv\n",
      "/kaggle/input/vcdb-dataset/dataset/core_dataset/bill_clinton_apology_speech/09ff1e69bf3accfcf029ad987f61f791a005c358.flv /kaggle/input/vcdb-dataset/dataset/core_dataset/obama_kicks_door/126f24a39b0ce19993d1fd7bd620fa98a3eda3a7.mp4\n",
      "/kaggle/input/vcdb-dataset/dataset/core_dataset/bill_clinton_apology_speech/09ff1e69bf3accfcf029ad987f61f791a005c358.flv /kaggle/input/vcdb-dataset/dataset/core_dataset/mr_and_mrs_smith_tango/39c96fc7117a0ff1fdc02637285c13d8efe7ce93.flv\n",
      "/kaggle/input/vcdb-dataset/dataset/core_dataset/bill_clinton_apology_speech/09ff1e69bf3accfcf029ad987f61f791a005c358.flv /kaggle/input/vcdb-dataset/dataset/core_dataset/osama_bin_laden_is_dead_obama_speech_at_white_house/ebe5fd08a5d05f2af96f425bc894860bac3f9ba6.flv\n",
      "/kaggle/input/vcdb-dataset/dataset/core_dataset/bill_clinton_apology_speech/09ff1e69bf3accfcf029ad987f61f791a005c358.flv /kaggle/input/vcdb-dataset/dataset/core_dataset/ronaldinho_ping_pong/a5df43e25319b10af46225849677bd30b916ce81.flv\n",
      "/kaggle/input/vcdb-dataset/dataset/core_dataset/bill_clinton_apology_speech/09ff1e69bf3accfcf029ad987f61f791a005c358.flv /kaggle/input/vcdb-dataset/dataset/core_dataset/the_pursuit_of_happyness_-_job_interview/4dd842508699d66636298376da31208a2e029c61.flv\n",
      "/kaggle/input/vcdb-dataset/dataset/core_dataset/bill_clinton_apology_speech/09ff1e69bf3accfcf029ad987f61f791a005c358.flv /kaggle/input/vcdb-dataset/dataset/core_dataset/troy_achilles_and_hector/911169b1e685d943c7854a1c0ecdf9cef1250bec.mp4\n",
      "/kaggle/input/vcdb-dataset/dataset/core_dataset/bill_clinton_apology_speech/09ff1e69bf3accfcf029ad987f61f791a005c358.flv /kaggle/input/vcdb-dataset/dataset/core_dataset/beckham_70_yard_goal/1f4f6311bb4acc0bc72e4a915a32093a7a85741c.flv\n",
      "/kaggle/input/vcdb-dataset/dataset/core_dataset/bill_clinton_apology_speech/09ff1e69bf3accfcf029ad987f61f791a005c358.flv /kaggle/input/vcdb-dataset/dataset/core_dataset/infernal_affairs_1/2620a515a196e5d4329f320f478010e578980bee.flv\n",
      "/kaggle/input/vcdb-dataset/dataset/core_dataset/scent_of_woman_tango/010aeeb1a5d471418ceab8f8c0d5f34d84059cff.flv /kaggle/input/vcdb-dataset/dataset/core_dataset/brazil_vs_brazil_nike_commercial_2012/12b96f2d055a6eb05241a9aeed95a8be8e5cf79c.flv\n",
      "/kaggle/input/vcdb-dataset/dataset/core_dataset/scent_of_woman_tango/010aeeb1a5d471418ceab8f8c0d5f34d84059cff.flv /kaggle/input/vcdb-dataset/dataset/core_dataset/david_beckham_lights_the_olympic_torch/d2015b438b70f022967713d6f977ebc67a16839e.flv\n",
      "/kaggle/input/vcdb-dataset/dataset/core_dataset/scent_of_woman_tango/010aeeb1a5d471418ceab8f8c0d5f34d84059cff.flv /kaggle/input/vcdb-dataset/dataset/core_dataset/titanic_fly_scene/34d8301dfa17beef7c5a703c03765e328c2c108e.flv\n",
      "/kaggle/input/vcdb-dataset/dataset/core_dataset/scent_of_woman_tango/010aeeb1a5d471418ceab8f8c0d5f34d84059cff.flv /kaggle/input/vcdb-dataset/dataset/core_dataset/saving_private_ryan_omaha_beach/743b4b30bf4fa11e3231dd0cc319016db1cb5b73.flv\n",
      "/kaggle/input/vcdb-dataset/dataset/core_dataset/scent_of_woman_tango/010aeeb1a5d471418ceab8f8c0d5f34d84059cff.flv /kaggle/input/vcdb-dataset/dataset/core_dataset/bolt_beijing_100m/0268faef0f0ae291f5ede0a7c3f2d176a6101a08.flv\n",
      "/kaggle/input/vcdb-dataset/dataset/core_dataset/scent_of_woman_tango/010aeeb1a5d471418ceab8f8c0d5f34d84059cff.flv /kaggle/input/vcdb-dataset/dataset/core_dataset/zidane_headbutt/8ad458ed4d45f32e8baa3bf5d84ad2a2a0324300.flv\n",
      "/kaggle/input/vcdb-dataset/dataset/core_dataset/scent_of_woman_tango/010aeeb1a5d471418ceab8f8c0d5f34d84059cff.flv /kaggle/input/vcdb-dataset/dataset/core_dataset/president_obama_takes_oath/f410b354eec142d6e0f1124bffe6aad83d8dc427.flv\n",
      "/kaggle/input/vcdb-dataset/dataset/core_dataset/scent_of_woman_tango/010aeeb1a5d471418ceab8f8c0d5f34d84059cff.flv /kaggle/input/vcdb-dataset/dataset/core_dataset/the_legend_of_1900_magic_waltz/b441a4e7885a6735296550f6e765a3fc1da1947b.flv\n",
      "/kaggle/input/vcdb-dataset/dataset/core_dataset/scent_of_woman_tango/010aeeb1a5d471418ceab8f8c0d5f34d84059cff.flv /kaggle/input/vcdb-dataset/dataset/core_dataset/kennedy_assassination_slow_motion/2283dfecf92111bfb035888b4810c011ac164876.flv\n",
      "/kaggle/input/vcdb-dataset/dataset/core_dataset/scent_of_woman_tango/010aeeb1a5d471418ceab8f8c0d5f34d84059cff.flv /kaggle/input/vcdb-dataset/dataset/core_dataset/dove_evolution_commercial/caec7bae88f5b5d60a08487e9d9a8cd27251c64e.flv\n",
      "/kaggle/input/vcdb-dataset/dataset/core_dataset/scent_of_woman_tango/010aeeb1a5d471418ceab8f8c0d5f34d84059cff.flv /kaggle/input/vcdb-dataset/dataset/core_dataset/run_forrest_fun/8f19329946455ae5c2c7b788ea6f6513bf5e1c9a.flv\n",
      "/kaggle/input/vcdb-dataset/dataset/core_dataset/scent_of_woman_tango/010aeeb1a5d471418ceab8f8c0d5f34d84059cff.flv /kaggle/input/vcdb-dataset/dataset/core_dataset/baggio_penalty_1994/6d1a89c83d554fc6a5e39fcadb172a79baf140fd.mp4\n",
      "/kaggle/input/vcdb-dataset/dataset/core_dataset/scent_of_woman_tango/010aeeb1a5d471418ceab8f8c0d5f34d84059cff.flv /kaggle/input/vcdb-dataset/dataset/core_dataset/endless_love/875ea06d092a04ffd4e875e1f311e6aa2eb9ff87.flv\n",
      "/kaggle/input/vcdb-dataset/dataset/core_dataset/scent_of_woman_tango/010aeeb1a5d471418ceab8f8c0d5f34d84059cff.flv /kaggle/input/vcdb-dataset/dataset/core_dataset/the_last_samurai_last_battle/9e94d3404faee3a1e3c78fb33064319511428103.flv\n",
      "/kaggle/input/vcdb-dataset/dataset/core_dataset/scent_of_woman_tango/010aeeb1a5d471418ceab8f8c0d5f34d84059cff.flv /kaggle/input/vcdb-dataset/dataset/core_dataset/obama_kicks_door/126f24a39b0ce19993d1fd7bd620fa98a3eda3a7.mp4\n",
      "/kaggle/input/vcdb-dataset/dataset/core_dataset/scent_of_woman_tango/010aeeb1a5d471418ceab8f8c0d5f34d84059cff.flv /kaggle/input/vcdb-dataset/dataset/core_dataset/mr_and_mrs_smith_tango/39c96fc7117a0ff1fdc02637285c13d8efe7ce93.flv\n",
      "/kaggle/input/vcdb-dataset/dataset/core_dataset/scent_of_woman_tango/010aeeb1a5d471418ceab8f8c0d5f34d84059cff.flv /kaggle/input/vcdb-dataset/dataset/core_dataset/osama_bin_laden_is_dead_obama_speech_at_white_house/ebe5fd08a5d05f2af96f425bc894860bac3f9ba6.flv\n",
      "/kaggle/input/vcdb-dataset/dataset/core_dataset/scent_of_woman_tango/010aeeb1a5d471418ceab8f8c0d5f34d84059cff.flv /kaggle/input/vcdb-dataset/dataset/core_dataset/ronaldinho_ping_pong/a5df43e25319b10af46225849677bd30b916ce81.flv\n",
      "/kaggle/input/vcdb-dataset/dataset/core_dataset/scent_of_woman_tango/010aeeb1a5d471418ceab8f8c0d5f34d84059cff.flv /kaggle/input/vcdb-dataset/dataset/core_dataset/the_pursuit_of_happyness_-_job_interview/4dd842508699d66636298376da31208a2e029c61.flv\n",
      "/kaggle/input/vcdb-dataset/dataset/core_dataset/scent_of_woman_tango/010aeeb1a5d471418ceab8f8c0d5f34d84059cff.flv /kaggle/input/vcdb-dataset/dataset/core_dataset/troy_achilles_and_hector/911169b1e685d943c7854a1c0ecdf9cef1250bec.mp4\n",
      "/kaggle/input/vcdb-dataset/dataset/core_dataset/scent_of_woman_tango/010aeeb1a5d471418ceab8f8c0d5f34d84059cff.flv /kaggle/input/vcdb-dataset/dataset/core_dataset/beckham_70_yard_goal/1f4f6311bb4acc0bc72e4a915a32093a7a85741c.flv\n",
      "/kaggle/input/vcdb-dataset/dataset/core_dataset/scent_of_woman_tango/010aeeb1a5d471418ceab8f8c0d5f34d84059cff.flv /kaggle/input/vcdb-dataset/dataset/core_dataset/infernal_affairs_1/2620a515a196e5d4329f320f478010e578980bee.flv\n",
      "/kaggle/input/vcdb-dataset/dataset/core_dataset/brazil_vs_brazil_nike_commercial_2012/12b96f2d055a6eb05241a9aeed95a8be8e5cf79c.flv /kaggle/input/vcdb-dataset/dataset/core_dataset/david_beckham_lights_the_olympic_torch/d2015b438b70f022967713d6f977ebc67a16839e.flv\n",
      "/kaggle/input/vcdb-dataset/dataset/core_dataset/brazil_vs_brazil_nike_commercial_2012/12b96f2d055a6eb05241a9aeed95a8be8e5cf79c.flv /kaggle/input/vcdb-dataset/dataset/core_dataset/titanic_fly_scene/34d8301dfa17beef7c5a703c03765e328c2c108e.flv\n",
      "/kaggle/input/vcdb-dataset/dataset/core_dataset/brazil_vs_brazil_nike_commercial_2012/12b96f2d055a6eb05241a9aeed95a8be8e5cf79c.flv /kaggle/input/vcdb-dataset/dataset/core_dataset/saving_private_ryan_omaha_beach/743b4b30bf4fa11e3231dd0cc319016db1cb5b73.flv\n",
      "/kaggle/input/vcdb-dataset/dataset/core_dataset/brazil_vs_brazil_nike_commercial_2012/12b96f2d055a6eb05241a9aeed95a8be8e5cf79c.flv /kaggle/input/vcdb-dataset/dataset/core_dataset/bolt_beijing_100m/0268faef0f0ae291f5ede0a7c3f2d176a6101a08.flv\n",
      "/kaggle/input/vcdb-dataset/dataset/core_dataset/brazil_vs_brazil_nike_commercial_2012/12b96f2d055a6eb05241a9aeed95a8be8e5cf79c.flv /kaggle/input/vcdb-dataset/dataset/core_dataset/zidane_headbutt/8ad458ed4d45f32e8baa3bf5d84ad2a2a0324300.flv\n",
      "/kaggle/input/vcdb-dataset/dataset/core_dataset/brazil_vs_brazil_nike_commercial_2012/12b96f2d055a6eb05241a9aeed95a8be8e5cf79c.flv /kaggle/input/vcdb-dataset/dataset/core_dataset/president_obama_takes_oath/f410b354eec142d6e0f1124bffe6aad83d8dc427.flv\n",
      "/kaggle/input/vcdb-dataset/dataset/core_dataset/brazil_vs_brazil_nike_commercial_2012/12b96f2d055a6eb05241a9aeed95a8be8e5cf79c.flv /kaggle/input/vcdb-dataset/dataset/core_dataset/the_legend_of_1900_magic_waltz/b441a4e7885a6735296550f6e765a3fc1da1947b.flv\n",
      "/kaggle/input/vcdb-dataset/dataset/core_dataset/brazil_vs_brazil_nike_commercial_2012/12b96f2d055a6eb05241a9aeed95a8be8e5cf79c.flv /kaggle/input/vcdb-dataset/dataset/core_dataset/kennedy_assassination_slow_motion/2283dfecf92111bfb035888b4810c011ac164876.flv\n",
      "/kaggle/input/vcdb-dataset/dataset/core_dataset/brazil_vs_brazil_nike_commercial_2012/12b96f2d055a6eb05241a9aeed95a8be8e5cf79c.flv /kaggle/input/vcdb-dataset/dataset/core_dataset/dove_evolution_commercial/caec7bae88f5b5d60a08487e9d9a8cd27251c64e.flv\n",
      "/kaggle/input/vcdb-dataset/dataset/core_dataset/brazil_vs_brazil_nike_commercial_2012/12b96f2d055a6eb05241a9aeed95a8be8e5cf79c.flv /kaggle/input/vcdb-dataset/dataset/core_dataset/run_forrest_fun/8f19329946455ae5c2c7b788ea6f6513bf5e1c9a.flv\n",
      "/kaggle/input/vcdb-dataset/dataset/core_dataset/brazil_vs_brazil_nike_commercial_2012/12b96f2d055a6eb05241a9aeed95a8be8e5cf79c.flv /kaggle/input/vcdb-dataset/dataset/core_dataset/baggio_penalty_1994/6d1a89c83d554fc6a5e39fcadb172a79baf140fd.mp4\n",
      "/kaggle/input/vcdb-dataset/dataset/core_dataset/brazil_vs_brazil_nike_commercial_2012/12b96f2d055a6eb05241a9aeed95a8be8e5cf79c.flv /kaggle/input/vcdb-dataset/dataset/core_dataset/endless_love/875ea06d092a04ffd4e875e1f311e6aa2eb9ff87.flv\n",
      "/kaggle/input/vcdb-dataset/dataset/core_dataset/brazil_vs_brazil_nike_commercial_2012/12b96f2d055a6eb05241a9aeed95a8be8e5cf79c.flv /kaggle/input/vcdb-dataset/dataset/core_dataset/the_last_samurai_last_battle/9e94d3404faee3a1e3c78fb33064319511428103.flv\n",
      "/kaggle/input/vcdb-dataset/dataset/core_dataset/brazil_vs_brazil_nike_commercial_2012/12b96f2d055a6eb05241a9aeed95a8be8e5cf79c.flv /kaggle/input/vcdb-dataset/dataset/core_dataset/obama_kicks_door/126f24a39b0ce19993d1fd7bd620fa98a3eda3a7.mp4\n",
      "/kaggle/input/vcdb-dataset/dataset/core_dataset/brazil_vs_brazil_nike_commercial_2012/12b96f2d055a6eb05241a9aeed95a8be8e5cf79c.flv /kaggle/input/vcdb-dataset/dataset/core_dataset/mr_and_mrs_smith_tango/39c96fc7117a0ff1fdc02637285c13d8efe7ce93.flv\n",
      "/kaggle/input/vcdb-dataset/dataset/core_dataset/brazil_vs_brazil_nike_commercial_2012/12b96f2d055a6eb05241a9aeed95a8be8e5cf79c.flv /kaggle/input/vcdb-dataset/dataset/core_dataset/osama_bin_laden_is_dead_obama_speech_at_white_house/ebe5fd08a5d05f2af96f425bc894860bac3f9ba6.flv\n",
      "/kaggle/input/vcdb-dataset/dataset/core_dataset/brazil_vs_brazil_nike_commercial_2012/12b96f2d055a6eb05241a9aeed95a8be8e5cf79c.flv /kaggle/input/vcdb-dataset/dataset/core_dataset/ronaldinho_ping_pong/a5df43e25319b10af46225849677bd30b916ce81.flv\n",
      "/kaggle/input/vcdb-dataset/dataset/core_dataset/brazil_vs_brazil_nike_commercial_2012/12b96f2d055a6eb05241a9aeed95a8be8e5cf79c.flv /kaggle/input/vcdb-dataset/dataset/core_dataset/the_pursuit_of_happyness_-_job_interview/4dd842508699d66636298376da31208a2e029c61.flv\n",
      "/kaggle/input/vcdb-dataset/dataset/core_dataset/brazil_vs_brazil_nike_commercial_2012/12b96f2d055a6eb05241a9aeed95a8be8e5cf79c.flv /kaggle/input/vcdb-dataset/dataset/core_dataset/troy_achilles_and_hector/911169b1e685d943c7854a1c0ecdf9cef1250bec.mp4\n",
      "/kaggle/input/vcdb-dataset/dataset/core_dataset/brazil_vs_brazil_nike_commercial_2012/12b96f2d055a6eb05241a9aeed95a8be8e5cf79c.flv /kaggle/input/vcdb-dataset/dataset/core_dataset/beckham_70_yard_goal/1f4f6311bb4acc0bc72e4a915a32093a7a85741c.flv\n",
      "/kaggle/input/vcdb-dataset/dataset/core_dataset/brazil_vs_brazil_nike_commercial_2012/12b96f2d055a6eb05241a9aeed95a8be8e5cf79c.flv /kaggle/input/vcdb-dataset/dataset/core_dataset/infernal_affairs_1/2620a515a196e5d4329f320f478010e578980bee.flv\n",
      "/kaggle/input/vcdb-dataset/dataset/core_dataset/david_beckham_lights_the_olympic_torch/d2015b438b70f022967713d6f977ebc67a16839e.flv /kaggle/input/vcdb-dataset/dataset/core_dataset/titanic_fly_scene/34d8301dfa17beef7c5a703c03765e328c2c108e.flv\n",
      "/kaggle/input/vcdb-dataset/dataset/core_dataset/david_beckham_lights_the_olympic_torch/d2015b438b70f022967713d6f977ebc67a16839e.flv /kaggle/input/vcdb-dataset/dataset/core_dataset/saving_private_ryan_omaha_beach/743b4b30bf4fa11e3231dd0cc319016db1cb5b73.flv\n",
      "/kaggle/input/vcdb-dataset/dataset/core_dataset/david_beckham_lights_the_olympic_torch/d2015b438b70f022967713d6f977ebc67a16839e.flv /kaggle/input/vcdb-dataset/dataset/core_dataset/bolt_beijing_100m/0268faef0f0ae291f5ede0a7c3f2d176a6101a08.flv\n",
      "/kaggle/input/vcdb-dataset/dataset/core_dataset/david_beckham_lights_the_olympic_torch/d2015b438b70f022967713d6f977ebc67a16839e.flv /kaggle/input/vcdb-dataset/dataset/core_dataset/zidane_headbutt/8ad458ed4d45f32e8baa3bf5d84ad2a2a0324300.flv\n",
      "/kaggle/input/vcdb-dataset/dataset/core_dataset/david_beckham_lights_the_olympic_torch/d2015b438b70f022967713d6f977ebc67a16839e.flv /kaggle/input/vcdb-dataset/dataset/core_dataset/president_obama_takes_oath/f410b354eec142d6e0f1124bffe6aad83d8dc427.flv\n",
      "/kaggle/input/vcdb-dataset/dataset/core_dataset/david_beckham_lights_the_olympic_torch/d2015b438b70f022967713d6f977ebc67a16839e.flv /kaggle/input/vcdb-dataset/dataset/core_dataset/the_legend_of_1900_magic_waltz/b441a4e7885a6735296550f6e765a3fc1da1947b.flv\n",
      "/kaggle/input/vcdb-dataset/dataset/core_dataset/david_beckham_lights_the_olympic_torch/d2015b438b70f022967713d6f977ebc67a16839e.flv /kaggle/input/vcdb-dataset/dataset/core_dataset/kennedy_assassination_slow_motion/2283dfecf92111bfb035888b4810c011ac164876.flv\n",
      "/kaggle/input/vcdb-dataset/dataset/core_dataset/david_beckham_lights_the_olympic_torch/d2015b438b70f022967713d6f977ebc67a16839e.flv /kaggle/input/vcdb-dataset/dataset/core_dataset/dove_evolution_commercial/caec7bae88f5b5d60a08487e9d9a8cd27251c64e.flv\n",
      "/kaggle/input/vcdb-dataset/dataset/core_dataset/david_beckham_lights_the_olympic_torch/d2015b438b70f022967713d6f977ebc67a16839e.flv /kaggle/input/vcdb-dataset/dataset/core_dataset/run_forrest_fun/8f19329946455ae5c2c7b788ea6f6513bf5e1c9a.flv\n",
      "/kaggle/input/vcdb-dataset/dataset/core_dataset/david_beckham_lights_the_olympic_torch/d2015b438b70f022967713d6f977ebc67a16839e.flv /kaggle/input/vcdb-dataset/dataset/core_dataset/baggio_penalty_1994/6d1a89c83d554fc6a5e39fcadb172a79baf140fd.mp4\n",
      "/kaggle/input/vcdb-dataset/dataset/core_dataset/david_beckham_lights_the_olympic_torch/d2015b438b70f022967713d6f977ebc67a16839e.flv /kaggle/input/vcdb-dataset/dataset/core_dataset/endless_love/875ea06d092a04ffd4e875e1f311e6aa2eb9ff87.flv\n",
      "/kaggle/input/vcdb-dataset/dataset/core_dataset/david_beckham_lights_the_olympic_torch/d2015b438b70f022967713d6f977ebc67a16839e.flv /kaggle/input/vcdb-dataset/dataset/core_dataset/the_last_samurai_last_battle/9e94d3404faee3a1e3c78fb33064319511428103.flv\n",
      "/kaggle/input/vcdb-dataset/dataset/core_dataset/david_beckham_lights_the_olympic_torch/d2015b438b70f022967713d6f977ebc67a16839e.flv /kaggle/input/vcdb-dataset/dataset/core_dataset/obama_kicks_door/126f24a39b0ce19993d1fd7bd620fa98a3eda3a7.mp4\n",
      "/kaggle/input/vcdb-dataset/dataset/core_dataset/david_beckham_lights_the_olympic_torch/d2015b438b70f022967713d6f977ebc67a16839e.flv /kaggle/input/vcdb-dataset/dataset/core_dataset/mr_and_mrs_smith_tango/39c96fc7117a0ff1fdc02637285c13d8efe7ce93.flv\n",
      "/kaggle/input/vcdb-dataset/dataset/core_dataset/david_beckham_lights_the_olympic_torch/d2015b438b70f022967713d6f977ebc67a16839e.flv /kaggle/input/vcdb-dataset/dataset/core_dataset/osama_bin_laden_is_dead_obama_speech_at_white_house/ebe5fd08a5d05f2af96f425bc894860bac3f9ba6.flv\n",
      "/kaggle/input/vcdb-dataset/dataset/core_dataset/david_beckham_lights_the_olympic_torch/d2015b438b70f022967713d6f977ebc67a16839e.flv /kaggle/input/vcdb-dataset/dataset/core_dataset/ronaldinho_ping_pong/a5df43e25319b10af46225849677bd30b916ce81.flv\n",
      "/kaggle/input/vcdb-dataset/dataset/core_dataset/david_beckham_lights_the_olympic_torch/d2015b438b70f022967713d6f977ebc67a16839e.flv /kaggle/input/vcdb-dataset/dataset/core_dataset/the_pursuit_of_happyness_-_job_interview/4dd842508699d66636298376da31208a2e029c61.flv\n",
      "/kaggle/input/vcdb-dataset/dataset/core_dataset/david_beckham_lights_the_olympic_torch/d2015b438b70f022967713d6f977ebc67a16839e.flv /kaggle/input/vcdb-dataset/dataset/core_dataset/troy_achilles_and_hector/911169b1e685d943c7854a1c0ecdf9cef1250bec.mp4\n",
      "/kaggle/input/vcdb-dataset/dataset/core_dataset/david_beckham_lights_the_olympic_torch/d2015b438b70f022967713d6f977ebc67a16839e.flv /kaggle/input/vcdb-dataset/dataset/core_dataset/beckham_70_yard_goal/1f4f6311bb4acc0bc72e4a915a32093a7a85741c.flv\n",
      "/kaggle/input/vcdb-dataset/dataset/core_dataset/david_beckham_lights_the_olympic_torch/d2015b438b70f022967713d6f977ebc67a16839e.flv /kaggle/input/vcdb-dataset/dataset/core_dataset/infernal_affairs_1/2620a515a196e5d4329f320f478010e578980bee.flv\n",
      "/kaggle/input/vcdb-dataset/dataset/core_dataset/titanic_fly_scene/34d8301dfa17beef7c5a703c03765e328c2c108e.flv /kaggle/input/vcdb-dataset/dataset/core_dataset/saving_private_ryan_omaha_beach/743b4b30bf4fa11e3231dd0cc319016db1cb5b73.flv\n",
      "/kaggle/input/vcdb-dataset/dataset/core_dataset/titanic_fly_scene/34d8301dfa17beef7c5a703c03765e328c2c108e.flv /kaggle/input/vcdb-dataset/dataset/core_dataset/bolt_beijing_100m/0268faef0f0ae291f5ede0a7c3f2d176a6101a08.flv\n",
      "/kaggle/input/vcdb-dataset/dataset/core_dataset/titanic_fly_scene/34d8301dfa17beef7c5a703c03765e328c2c108e.flv /kaggle/input/vcdb-dataset/dataset/core_dataset/zidane_headbutt/8ad458ed4d45f32e8baa3bf5d84ad2a2a0324300.flv\n",
      "/kaggle/input/vcdb-dataset/dataset/core_dataset/titanic_fly_scene/34d8301dfa17beef7c5a703c03765e328c2c108e.flv /kaggle/input/vcdb-dataset/dataset/core_dataset/president_obama_takes_oath/f410b354eec142d6e0f1124bffe6aad83d8dc427.flv\n",
      "/kaggle/input/vcdb-dataset/dataset/core_dataset/titanic_fly_scene/34d8301dfa17beef7c5a703c03765e328c2c108e.flv /kaggle/input/vcdb-dataset/dataset/core_dataset/the_legend_of_1900_magic_waltz/b441a4e7885a6735296550f6e765a3fc1da1947b.flv\n",
      "/kaggle/input/vcdb-dataset/dataset/core_dataset/titanic_fly_scene/34d8301dfa17beef7c5a703c03765e328c2c108e.flv /kaggle/input/vcdb-dataset/dataset/core_dataset/kennedy_assassination_slow_motion/2283dfecf92111bfb035888b4810c011ac164876.flv\n",
      "/kaggle/input/vcdb-dataset/dataset/core_dataset/titanic_fly_scene/34d8301dfa17beef7c5a703c03765e328c2c108e.flv /kaggle/input/vcdb-dataset/dataset/core_dataset/dove_evolution_commercial/caec7bae88f5b5d60a08487e9d9a8cd27251c64e.flv\n",
      "/kaggle/input/vcdb-dataset/dataset/core_dataset/titanic_fly_scene/34d8301dfa17beef7c5a703c03765e328c2c108e.flv /kaggle/input/vcdb-dataset/dataset/core_dataset/run_forrest_fun/8f19329946455ae5c2c7b788ea6f6513bf5e1c9a.flv\n",
      "/kaggle/input/vcdb-dataset/dataset/core_dataset/titanic_fly_scene/34d8301dfa17beef7c5a703c03765e328c2c108e.flv /kaggle/input/vcdb-dataset/dataset/core_dataset/baggio_penalty_1994/6d1a89c83d554fc6a5e39fcadb172a79baf140fd.mp4\n",
      "/kaggle/input/vcdb-dataset/dataset/core_dataset/titanic_fly_scene/34d8301dfa17beef7c5a703c03765e328c2c108e.flv /kaggle/input/vcdb-dataset/dataset/core_dataset/endless_love/875ea06d092a04ffd4e875e1f311e6aa2eb9ff87.flv\n",
      "/kaggle/input/vcdb-dataset/dataset/core_dataset/titanic_fly_scene/34d8301dfa17beef7c5a703c03765e328c2c108e.flv /kaggle/input/vcdb-dataset/dataset/core_dataset/the_last_samurai_last_battle/9e94d3404faee3a1e3c78fb33064319511428103.flv\n",
      "/kaggle/input/vcdb-dataset/dataset/core_dataset/titanic_fly_scene/34d8301dfa17beef7c5a703c03765e328c2c108e.flv /kaggle/input/vcdb-dataset/dataset/core_dataset/obama_kicks_door/126f24a39b0ce19993d1fd7bd620fa98a3eda3a7.mp4\n",
      "/kaggle/input/vcdb-dataset/dataset/core_dataset/titanic_fly_scene/34d8301dfa17beef7c5a703c03765e328c2c108e.flv /kaggle/input/vcdb-dataset/dataset/core_dataset/mr_and_mrs_smith_tango/39c96fc7117a0ff1fdc02637285c13d8efe7ce93.flv\n",
      "/kaggle/input/vcdb-dataset/dataset/core_dataset/titanic_fly_scene/34d8301dfa17beef7c5a703c03765e328c2c108e.flv /kaggle/input/vcdb-dataset/dataset/core_dataset/osama_bin_laden_is_dead_obama_speech_at_white_house/ebe5fd08a5d05f2af96f425bc894860bac3f9ba6.flv\n",
      "/kaggle/input/vcdb-dataset/dataset/core_dataset/titanic_fly_scene/34d8301dfa17beef7c5a703c03765e328c2c108e.flv /kaggle/input/vcdb-dataset/dataset/core_dataset/ronaldinho_ping_pong/a5df43e25319b10af46225849677bd30b916ce81.flv\n",
      "/kaggle/input/vcdb-dataset/dataset/core_dataset/titanic_fly_scene/34d8301dfa17beef7c5a703c03765e328c2c108e.flv /kaggle/input/vcdb-dataset/dataset/core_dataset/the_pursuit_of_happyness_-_job_interview/4dd842508699d66636298376da31208a2e029c61.flv\n",
      "/kaggle/input/vcdb-dataset/dataset/core_dataset/titanic_fly_scene/34d8301dfa17beef7c5a703c03765e328c2c108e.flv /kaggle/input/vcdb-dataset/dataset/core_dataset/troy_achilles_and_hector/911169b1e685d943c7854a1c0ecdf9cef1250bec.mp4\n",
      "/kaggle/input/vcdb-dataset/dataset/core_dataset/titanic_fly_scene/34d8301dfa17beef7c5a703c03765e328c2c108e.flv /kaggle/input/vcdb-dataset/dataset/core_dataset/beckham_70_yard_goal/1f4f6311bb4acc0bc72e4a915a32093a7a85741c.flv\n",
      "/kaggle/input/vcdb-dataset/dataset/core_dataset/titanic_fly_scene/34d8301dfa17beef7c5a703c03765e328c2c108e.flv /kaggle/input/vcdb-dataset/dataset/core_dataset/infernal_affairs_1/2620a515a196e5d4329f320f478010e578980bee.flv\n",
      "/kaggle/input/vcdb-dataset/dataset/core_dataset/saving_private_ryan_omaha_beach/743b4b30bf4fa11e3231dd0cc319016db1cb5b73.flv /kaggle/input/vcdb-dataset/dataset/core_dataset/bolt_beijing_100m/0268faef0f0ae291f5ede0a7c3f2d176a6101a08.flv\n",
      "/kaggle/input/vcdb-dataset/dataset/core_dataset/saving_private_ryan_omaha_beach/743b4b30bf4fa11e3231dd0cc319016db1cb5b73.flv /kaggle/input/vcdb-dataset/dataset/core_dataset/zidane_headbutt/8ad458ed4d45f32e8baa3bf5d84ad2a2a0324300.flv\n",
      "/kaggle/input/vcdb-dataset/dataset/core_dataset/saving_private_ryan_omaha_beach/743b4b30bf4fa11e3231dd0cc319016db1cb5b73.flv /kaggle/input/vcdb-dataset/dataset/core_dataset/president_obama_takes_oath/f410b354eec142d6e0f1124bffe6aad83d8dc427.flv\n",
      "/kaggle/input/vcdb-dataset/dataset/core_dataset/saving_private_ryan_omaha_beach/743b4b30bf4fa11e3231dd0cc319016db1cb5b73.flv /kaggle/input/vcdb-dataset/dataset/core_dataset/the_legend_of_1900_magic_waltz/b441a4e7885a6735296550f6e765a3fc1da1947b.flv\n",
      "/kaggle/input/vcdb-dataset/dataset/core_dataset/saving_private_ryan_omaha_beach/743b4b30bf4fa11e3231dd0cc319016db1cb5b73.flv /kaggle/input/vcdb-dataset/dataset/core_dataset/kennedy_assassination_slow_motion/2283dfecf92111bfb035888b4810c011ac164876.flv\n",
      "/kaggle/input/vcdb-dataset/dataset/core_dataset/saving_private_ryan_omaha_beach/743b4b30bf4fa11e3231dd0cc319016db1cb5b73.flv /kaggle/input/vcdb-dataset/dataset/core_dataset/dove_evolution_commercial/caec7bae88f5b5d60a08487e9d9a8cd27251c64e.flv\n",
      "/kaggle/input/vcdb-dataset/dataset/core_dataset/saving_private_ryan_omaha_beach/743b4b30bf4fa11e3231dd0cc319016db1cb5b73.flv /kaggle/input/vcdb-dataset/dataset/core_dataset/run_forrest_fun/8f19329946455ae5c2c7b788ea6f6513bf5e1c9a.flv\n",
      "/kaggle/input/vcdb-dataset/dataset/core_dataset/saving_private_ryan_omaha_beach/743b4b30bf4fa11e3231dd0cc319016db1cb5b73.flv /kaggle/input/vcdb-dataset/dataset/core_dataset/baggio_penalty_1994/6d1a89c83d554fc6a5e39fcadb172a79baf140fd.mp4\n",
      "/kaggle/input/vcdb-dataset/dataset/core_dataset/saving_private_ryan_omaha_beach/743b4b30bf4fa11e3231dd0cc319016db1cb5b73.flv /kaggle/input/vcdb-dataset/dataset/core_dataset/endless_love/875ea06d092a04ffd4e875e1f311e6aa2eb9ff87.flv\n",
      "/kaggle/input/vcdb-dataset/dataset/core_dataset/saving_private_ryan_omaha_beach/743b4b30bf4fa11e3231dd0cc319016db1cb5b73.flv /kaggle/input/vcdb-dataset/dataset/core_dataset/the_last_samurai_last_battle/9e94d3404faee3a1e3c78fb33064319511428103.flv\n",
      "/kaggle/input/vcdb-dataset/dataset/core_dataset/saving_private_ryan_omaha_beach/743b4b30bf4fa11e3231dd0cc319016db1cb5b73.flv /kaggle/input/vcdb-dataset/dataset/core_dataset/obama_kicks_door/126f24a39b0ce19993d1fd7bd620fa98a3eda3a7.mp4\n",
      "/kaggle/input/vcdb-dataset/dataset/core_dataset/saving_private_ryan_omaha_beach/743b4b30bf4fa11e3231dd0cc319016db1cb5b73.flv /kaggle/input/vcdb-dataset/dataset/core_dataset/mr_and_mrs_smith_tango/39c96fc7117a0ff1fdc02637285c13d8efe7ce93.flv\n",
      "/kaggle/input/vcdb-dataset/dataset/core_dataset/saving_private_ryan_omaha_beach/743b4b30bf4fa11e3231dd0cc319016db1cb5b73.flv /kaggle/input/vcdb-dataset/dataset/core_dataset/osama_bin_laden_is_dead_obama_speech_at_white_house/ebe5fd08a5d05f2af96f425bc894860bac3f9ba6.flv\n",
      "/kaggle/input/vcdb-dataset/dataset/core_dataset/saving_private_ryan_omaha_beach/743b4b30bf4fa11e3231dd0cc319016db1cb5b73.flv /kaggle/input/vcdb-dataset/dataset/core_dataset/ronaldinho_ping_pong/a5df43e25319b10af46225849677bd30b916ce81.flv\n",
      "/kaggle/input/vcdb-dataset/dataset/core_dataset/saving_private_ryan_omaha_beach/743b4b30bf4fa11e3231dd0cc319016db1cb5b73.flv /kaggle/input/vcdb-dataset/dataset/core_dataset/the_pursuit_of_happyness_-_job_interview/4dd842508699d66636298376da31208a2e029c61.flv\n",
      "/kaggle/input/vcdb-dataset/dataset/core_dataset/saving_private_ryan_omaha_beach/743b4b30bf4fa11e3231dd0cc319016db1cb5b73.flv /kaggle/input/vcdb-dataset/dataset/core_dataset/troy_achilles_and_hector/911169b1e685d943c7854a1c0ecdf9cef1250bec.mp4\n",
      "/kaggle/input/vcdb-dataset/dataset/core_dataset/saving_private_ryan_omaha_beach/743b4b30bf4fa11e3231dd0cc319016db1cb5b73.flv /kaggle/input/vcdb-dataset/dataset/core_dataset/beckham_70_yard_goal/1f4f6311bb4acc0bc72e4a915a32093a7a85741c.flv\n",
      "/kaggle/input/vcdb-dataset/dataset/core_dataset/saving_private_ryan_omaha_beach/743b4b30bf4fa11e3231dd0cc319016db1cb5b73.flv /kaggle/input/vcdb-dataset/dataset/core_dataset/infernal_affairs_1/2620a515a196e5d4329f320f478010e578980bee.flv\n",
      "/kaggle/input/vcdb-dataset/dataset/core_dataset/bolt_beijing_100m/0268faef0f0ae291f5ede0a7c3f2d176a6101a08.flv /kaggle/input/vcdb-dataset/dataset/core_dataset/zidane_headbutt/8ad458ed4d45f32e8baa3bf5d84ad2a2a0324300.flv\n",
      "/kaggle/input/vcdb-dataset/dataset/core_dataset/bolt_beijing_100m/0268faef0f0ae291f5ede0a7c3f2d176a6101a08.flv /kaggle/input/vcdb-dataset/dataset/core_dataset/president_obama_takes_oath/f410b354eec142d6e0f1124bffe6aad83d8dc427.flv\n",
      "/kaggle/input/vcdb-dataset/dataset/core_dataset/bolt_beijing_100m/0268faef0f0ae291f5ede0a7c3f2d176a6101a08.flv /kaggle/input/vcdb-dataset/dataset/core_dataset/the_legend_of_1900_magic_waltz/b441a4e7885a6735296550f6e765a3fc1da1947b.flv\n",
      "/kaggle/input/vcdb-dataset/dataset/core_dataset/bolt_beijing_100m/0268faef0f0ae291f5ede0a7c3f2d176a6101a08.flv /kaggle/input/vcdb-dataset/dataset/core_dataset/kennedy_assassination_slow_motion/2283dfecf92111bfb035888b4810c011ac164876.flv\n",
      "/kaggle/input/vcdb-dataset/dataset/core_dataset/bolt_beijing_100m/0268faef0f0ae291f5ede0a7c3f2d176a6101a08.flv /kaggle/input/vcdb-dataset/dataset/core_dataset/dove_evolution_commercial/caec7bae88f5b5d60a08487e9d9a8cd27251c64e.flv\n",
      "/kaggle/input/vcdb-dataset/dataset/core_dataset/bolt_beijing_100m/0268faef0f0ae291f5ede0a7c3f2d176a6101a08.flv /kaggle/input/vcdb-dataset/dataset/core_dataset/run_forrest_fun/8f19329946455ae5c2c7b788ea6f6513bf5e1c9a.flv\n",
      "/kaggle/input/vcdb-dataset/dataset/core_dataset/bolt_beijing_100m/0268faef0f0ae291f5ede0a7c3f2d176a6101a08.flv /kaggle/input/vcdb-dataset/dataset/core_dataset/baggio_penalty_1994/6d1a89c83d554fc6a5e39fcadb172a79baf140fd.mp4\n",
      "/kaggle/input/vcdb-dataset/dataset/core_dataset/bolt_beijing_100m/0268faef0f0ae291f5ede0a7c3f2d176a6101a08.flv /kaggle/input/vcdb-dataset/dataset/core_dataset/endless_love/875ea06d092a04ffd4e875e1f311e6aa2eb9ff87.flv\n",
      "/kaggle/input/vcdb-dataset/dataset/core_dataset/bolt_beijing_100m/0268faef0f0ae291f5ede0a7c3f2d176a6101a08.flv /kaggle/input/vcdb-dataset/dataset/core_dataset/the_last_samurai_last_battle/9e94d3404faee3a1e3c78fb33064319511428103.flv\n",
      "/kaggle/input/vcdb-dataset/dataset/core_dataset/bolt_beijing_100m/0268faef0f0ae291f5ede0a7c3f2d176a6101a08.flv /kaggle/input/vcdb-dataset/dataset/core_dataset/obama_kicks_door/126f24a39b0ce19993d1fd7bd620fa98a3eda3a7.mp4\n",
      "/kaggle/input/vcdb-dataset/dataset/core_dataset/bolt_beijing_100m/0268faef0f0ae291f5ede0a7c3f2d176a6101a08.flv /kaggle/input/vcdb-dataset/dataset/core_dataset/mr_and_mrs_smith_tango/39c96fc7117a0ff1fdc02637285c13d8efe7ce93.flv\n",
      "/kaggle/input/vcdb-dataset/dataset/core_dataset/bolt_beijing_100m/0268faef0f0ae291f5ede0a7c3f2d176a6101a08.flv /kaggle/input/vcdb-dataset/dataset/core_dataset/osama_bin_laden_is_dead_obama_speech_at_white_house/ebe5fd08a5d05f2af96f425bc894860bac3f9ba6.flv\n",
      "/kaggle/input/vcdb-dataset/dataset/core_dataset/bolt_beijing_100m/0268faef0f0ae291f5ede0a7c3f2d176a6101a08.flv /kaggle/input/vcdb-dataset/dataset/core_dataset/ronaldinho_ping_pong/a5df43e25319b10af46225849677bd30b916ce81.flv\n",
      "/kaggle/input/vcdb-dataset/dataset/core_dataset/bolt_beijing_100m/0268faef0f0ae291f5ede0a7c3f2d176a6101a08.flv /kaggle/input/vcdb-dataset/dataset/core_dataset/the_pursuit_of_happyness_-_job_interview/4dd842508699d66636298376da31208a2e029c61.flv\n",
      "/kaggle/input/vcdb-dataset/dataset/core_dataset/bolt_beijing_100m/0268faef0f0ae291f5ede0a7c3f2d176a6101a08.flv /kaggle/input/vcdb-dataset/dataset/core_dataset/troy_achilles_and_hector/911169b1e685d943c7854a1c0ecdf9cef1250bec.mp4\n",
      "/kaggle/input/vcdb-dataset/dataset/core_dataset/bolt_beijing_100m/0268faef0f0ae291f5ede0a7c3f2d176a6101a08.flv /kaggle/input/vcdb-dataset/dataset/core_dataset/beckham_70_yard_goal/1f4f6311bb4acc0bc72e4a915a32093a7a85741c.flv\n",
      "/kaggle/input/vcdb-dataset/dataset/core_dataset/bolt_beijing_100m/0268faef0f0ae291f5ede0a7c3f2d176a6101a08.flv /kaggle/input/vcdb-dataset/dataset/core_dataset/infernal_affairs_1/2620a515a196e5d4329f320f478010e578980bee.flv\n",
      "/kaggle/input/vcdb-dataset/dataset/core_dataset/zidane_headbutt/8ad458ed4d45f32e8baa3bf5d84ad2a2a0324300.flv /kaggle/input/vcdb-dataset/dataset/core_dataset/president_obama_takes_oath/f410b354eec142d6e0f1124bffe6aad83d8dc427.flv\n",
      "/kaggle/input/vcdb-dataset/dataset/core_dataset/zidane_headbutt/8ad458ed4d45f32e8baa3bf5d84ad2a2a0324300.flv /kaggle/input/vcdb-dataset/dataset/core_dataset/the_legend_of_1900_magic_waltz/b441a4e7885a6735296550f6e765a3fc1da1947b.flv\n",
      "/kaggle/input/vcdb-dataset/dataset/core_dataset/zidane_headbutt/8ad458ed4d45f32e8baa3bf5d84ad2a2a0324300.flv /kaggle/input/vcdb-dataset/dataset/core_dataset/kennedy_assassination_slow_motion/2283dfecf92111bfb035888b4810c011ac164876.flv\n",
      "/kaggle/input/vcdb-dataset/dataset/core_dataset/zidane_headbutt/8ad458ed4d45f32e8baa3bf5d84ad2a2a0324300.flv /kaggle/input/vcdb-dataset/dataset/core_dataset/dove_evolution_commercial/caec7bae88f5b5d60a08487e9d9a8cd27251c64e.flv\n",
      "/kaggle/input/vcdb-dataset/dataset/core_dataset/zidane_headbutt/8ad458ed4d45f32e8baa3bf5d84ad2a2a0324300.flv /kaggle/input/vcdb-dataset/dataset/core_dataset/run_forrest_fun/8f19329946455ae5c2c7b788ea6f6513bf5e1c9a.flv\n",
      "/kaggle/input/vcdb-dataset/dataset/core_dataset/zidane_headbutt/8ad458ed4d45f32e8baa3bf5d84ad2a2a0324300.flv /kaggle/input/vcdb-dataset/dataset/core_dataset/baggio_penalty_1994/6d1a89c83d554fc6a5e39fcadb172a79baf140fd.mp4\n",
      "/kaggle/input/vcdb-dataset/dataset/core_dataset/zidane_headbutt/8ad458ed4d45f32e8baa3bf5d84ad2a2a0324300.flv /kaggle/input/vcdb-dataset/dataset/core_dataset/endless_love/875ea06d092a04ffd4e875e1f311e6aa2eb9ff87.flv\n",
      "/kaggle/input/vcdb-dataset/dataset/core_dataset/zidane_headbutt/8ad458ed4d45f32e8baa3bf5d84ad2a2a0324300.flv /kaggle/input/vcdb-dataset/dataset/core_dataset/the_last_samurai_last_battle/9e94d3404faee3a1e3c78fb33064319511428103.flv\n",
      "/kaggle/input/vcdb-dataset/dataset/core_dataset/zidane_headbutt/8ad458ed4d45f32e8baa3bf5d84ad2a2a0324300.flv /kaggle/input/vcdb-dataset/dataset/core_dataset/obama_kicks_door/126f24a39b0ce19993d1fd7bd620fa98a3eda3a7.mp4\n",
      "Unable to read frame #3201 of video '/kaggle/input/vcdb-dataset/dataset/core_dataset/obama_kicks_door/126f24a39b0ce19993d1fd7bd620fa98a3eda3a7.mp4'. Skipping and Continuing.!!\n",
      "/kaggle/input/vcdb-dataset/dataset/core_dataset/zidane_headbutt/8ad458ed4d45f32e8baa3bf5d84ad2a2a0324300.flv /kaggle/input/vcdb-dataset/dataset/core_dataset/mr_and_mrs_smith_tango/39c96fc7117a0ff1fdc02637285c13d8efe7ce93.flv\n",
      "/kaggle/input/vcdb-dataset/dataset/core_dataset/zidane_headbutt/8ad458ed4d45f32e8baa3bf5d84ad2a2a0324300.flv /kaggle/input/vcdb-dataset/dataset/core_dataset/osama_bin_laden_is_dead_obama_speech_at_white_house/ebe5fd08a5d05f2af96f425bc894860bac3f9ba6.flv\n",
      "/kaggle/input/vcdb-dataset/dataset/core_dataset/zidane_headbutt/8ad458ed4d45f32e8baa3bf5d84ad2a2a0324300.flv /kaggle/input/vcdb-dataset/dataset/core_dataset/ronaldinho_ping_pong/a5df43e25319b10af46225849677bd30b916ce81.flv\n",
      "/kaggle/input/vcdb-dataset/dataset/core_dataset/zidane_headbutt/8ad458ed4d45f32e8baa3bf5d84ad2a2a0324300.flv /kaggle/input/vcdb-dataset/dataset/core_dataset/the_pursuit_of_happyness_-_job_interview/4dd842508699d66636298376da31208a2e029c61.flv\n",
      "/kaggle/input/vcdb-dataset/dataset/core_dataset/zidane_headbutt/8ad458ed4d45f32e8baa3bf5d84ad2a2a0324300.flv /kaggle/input/vcdb-dataset/dataset/core_dataset/troy_achilles_and_hector/911169b1e685d943c7854a1c0ecdf9cef1250bec.mp4\n",
      "/kaggle/input/vcdb-dataset/dataset/core_dataset/zidane_headbutt/8ad458ed4d45f32e8baa3bf5d84ad2a2a0324300.flv /kaggle/input/vcdb-dataset/dataset/core_dataset/beckham_70_yard_goal/1f4f6311bb4acc0bc72e4a915a32093a7a85741c.flv\n",
      "/kaggle/input/vcdb-dataset/dataset/core_dataset/zidane_headbutt/8ad458ed4d45f32e8baa3bf5d84ad2a2a0324300.flv /kaggle/input/vcdb-dataset/dataset/core_dataset/infernal_affairs_1/2620a515a196e5d4329f320f478010e578980bee.flv\n",
      "/kaggle/input/vcdb-dataset/dataset/core_dataset/president_obama_takes_oath/f410b354eec142d6e0f1124bffe6aad83d8dc427.flv /kaggle/input/vcdb-dataset/dataset/core_dataset/the_legend_of_1900_magic_waltz/b441a4e7885a6735296550f6e765a3fc1da1947b.flv\n",
      "/kaggle/input/vcdb-dataset/dataset/core_dataset/president_obama_takes_oath/f410b354eec142d6e0f1124bffe6aad83d8dc427.flv /kaggle/input/vcdb-dataset/dataset/core_dataset/kennedy_assassination_slow_motion/2283dfecf92111bfb035888b4810c011ac164876.flv\n",
      "/kaggle/input/vcdb-dataset/dataset/core_dataset/president_obama_takes_oath/f410b354eec142d6e0f1124bffe6aad83d8dc427.flv /kaggle/input/vcdb-dataset/dataset/core_dataset/dove_evolution_commercial/caec7bae88f5b5d60a08487e9d9a8cd27251c64e.flv\n",
      "/kaggle/input/vcdb-dataset/dataset/core_dataset/president_obama_takes_oath/f410b354eec142d6e0f1124bffe6aad83d8dc427.flv /kaggle/input/vcdb-dataset/dataset/core_dataset/run_forrest_fun/8f19329946455ae5c2c7b788ea6f6513bf5e1c9a.flv\n",
      "/kaggle/input/vcdb-dataset/dataset/core_dataset/president_obama_takes_oath/f410b354eec142d6e0f1124bffe6aad83d8dc427.flv /kaggle/input/vcdb-dataset/dataset/core_dataset/baggio_penalty_1994/6d1a89c83d554fc6a5e39fcadb172a79baf140fd.mp4\n",
      "/kaggle/input/vcdb-dataset/dataset/core_dataset/president_obama_takes_oath/f410b354eec142d6e0f1124bffe6aad83d8dc427.flv /kaggle/input/vcdb-dataset/dataset/core_dataset/endless_love/875ea06d092a04ffd4e875e1f311e6aa2eb9ff87.flv\n",
      "/kaggle/input/vcdb-dataset/dataset/core_dataset/president_obama_takes_oath/f410b354eec142d6e0f1124bffe6aad83d8dc427.flv /kaggle/input/vcdb-dataset/dataset/core_dataset/the_last_samurai_last_battle/9e94d3404faee3a1e3c78fb33064319511428103.flv\n",
      "/kaggle/input/vcdb-dataset/dataset/core_dataset/president_obama_takes_oath/f410b354eec142d6e0f1124bffe6aad83d8dc427.flv /kaggle/input/vcdb-dataset/dataset/core_dataset/obama_kicks_door/126f24a39b0ce19993d1fd7bd620fa98a3eda3a7.mp4\n",
      "/kaggle/input/vcdb-dataset/dataset/core_dataset/president_obama_takes_oath/f410b354eec142d6e0f1124bffe6aad83d8dc427.flv /kaggle/input/vcdb-dataset/dataset/core_dataset/mr_and_mrs_smith_tango/39c96fc7117a0ff1fdc02637285c13d8efe7ce93.flv\n",
      "/kaggle/input/vcdb-dataset/dataset/core_dataset/president_obama_takes_oath/f410b354eec142d6e0f1124bffe6aad83d8dc427.flv /kaggle/input/vcdb-dataset/dataset/core_dataset/osama_bin_laden_is_dead_obama_speech_at_white_house/ebe5fd08a5d05f2af96f425bc894860bac3f9ba6.flv\n",
      "/kaggle/input/vcdb-dataset/dataset/core_dataset/president_obama_takes_oath/f410b354eec142d6e0f1124bffe6aad83d8dc427.flv /kaggle/input/vcdb-dataset/dataset/core_dataset/ronaldinho_ping_pong/a5df43e25319b10af46225849677bd30b916ce81.flv\n",
      "/kaggle/input/vcdb-dataset/dataset/core_dataset/president_obama_takes_oath/f410b354eec142d6e0f1124bffe6aad83d8dc427.flv /kaggle/input/vcdb-dataset/dataset/core_dataset/the_pursuit_of_happyness_-_job_interview/4dd842508699d66636298376da31208a2e029c61.flv\n",
      "/kaggle/input/vcdb-dataset/dataset/core_dataset/president_obama_takes_oath/f410b354eec142d6e0f1124bffe6aad83d8dc427.flv /kaggle/input/vcdb-dataset/dataset/core_dataset/troy_achilles_and_hector/911169b1e685d943c7854a1c0ecdf9cef1250bec.mp4\n",
      "/kaggle/input/vcdb-dataset/dataset/core_dataset/president_obama_takes_oath/f410b354eec142d6e0f1124bffe6aad83d8dc427.flv /kaggle/input/vcdb-dataset/dataset/core_dataset/beckham_70_yard_goal/1f4f6311bb4acc0bc72e4a915a32093a7a85741c.flv\n",
      "/kaggle/input/vcdb-dataset/dataset/core_dataset/president_obama_takes_oath/f410b354eec142d6e0f1124bffe6aad83d8dc427.flv /kaggle/input/vcdb-dataset/dataset/core_dataset/infernal_affairs_1/2620a515a196e5d4329f320f478010e578980bee.flv\n",
      "/kaggle/input/vcdb-dataset/dataset/core_dataset/the_legend_of_1900_magic_waltz/b441a4e7885a6735296550f6e765a3fc1da1947b.flv /kaggle/input/vcdb-dataset/dataset/core_dataset/kennedy_assassination_slow_motion/2283dfecf92111bfb035888b4810c011ac164876.flv\n",
      "/kaggle/input/vcdb-dataset/dataset/core_dataset/the_legend_of_1900_magic_waltz/b441a4e7885a6735296550f6e765a3fc1da1947b.flv /kaggle/input/vcdb-dataset/dataset/core_dataset/dove_evolution_commercial/caec7bae88f5b5d60a08487e9d9a8cd27251c64e.flv\n",
      "/kaggle/input/vcdb-dataset/dataset/core_dataset/the_legend_of_1900_magic_waltz/b441a4e7885a6735296550f6e765a3fc1da1947b.flv /kaggle/input/vcdb-dataset/dataset/core_dataset/run_forrest_fun/8f19329946455ae5c2c7b788ea6f6513bf5e1c9a.flv\n",
      "/kaggle/input/vcdb-dataset/dataset/core_dataset/the_legend_of_1900_magic_waltz/b441a4e7885a6735296550f6e765a3fc1da1947b.flv /kaggle/input/vcdb-dataset/dataset/core_dataset/baggio_penalty_1994/6d1a89c83d554fc6a5e39fcadb172a79baf140fd.mp4\n",
      "/kaggle/input/vcdb-dataset/dataset/core_dataset/the_legend_of_1900_magic_waltz/b441a4e7885a6735296550f6e765a3fc1da1947b.flv /kaggle/input/vcdb-dataset/dataset/core_dataset/endless_love/875ea06d092a04ffd4e875e1f311e6aa2eb9ff87.flv\n",
      "/kaggle/input/vcdb-dataset/dataset/core_dataset/the_legend_of_1900_magic_waltz/b441a4e7885a6735296550f6e765a3fc1da1947b.flv /kaggle/input/vcdb-dataset/dataset/core_dataset/the_last_samurai_last_battle/9e94d3404faee3a1e3c78fb33064319511428103.flv\n",
      "/kaggle/input/vcdb-dataset/dataset/core_dataset/the_legend_of_1900_magic_waltz/b441a4e7885a6735296550f6e765a3fc1da1947b.flv /kaggle/input/vcdb-dataset/dataset/core_dataset/obama_kicks_door/126f24a39b0ce19993d1fd7bd620fa98a3eda3a7.mp4\n",
      "/kaggle/input/vcdb-dataset/dataset/core_dataset/the_legend_of_1900_magic_waltz/b441a4e7885a6735296550f6e765a3fc1da1947b.flv /kaggle/input/vcdb-dataset/dataset/core_dataset/mr_and_mrs_smith_tango/39c96fc7117a0ff1fdc02637285c13d8efe7ce93.flv\n",
      "/kaggle/input/vcdb-dataset/dataset/core_dataset/the_legend_of_1900_magic_waltz/b441a4e7885a6735296550f6e765a3fc1da1947b.flv /kaggle/input/vcdb-dataset/dataset/core_dataset/osama_bin_laden_is_dead_obama_speech_at_white_house/ebe5fd08a5d05f2af96f425bc894860bac3f9ba6.flv\n",
      "/kaggle/input/vcdb-dataset/dataset/core_dataset/the_legend_of_1900_magic_waltz/b441a4e7885a6735296550f6e765a3fc1da1947b.flv /kaggle/input/vcdb-dataset/dataset/core_dataset/ronaldinho_ping_pong/a5df43e25319b10af46225849677bd30b916ce81.flv\n",
      "/kaggle/input/vcdb-dataset/dataset/core_dataset/the_legend_of_1900_magic_waltz/b441a4e7885a6735296550f6e765a3fc1da1947b.flv /kaggle/input/vcdb-dataset/dataset/core_dataset/the_pursuit_of_happyness_-_job_interview/4dd842508699d66636298376da31208a2e029c61.flv\n",
      "/kaggle/input/vcdb-dataset/dataset/core_dataset/the_legend_of_1900_magic_waltz/b441a4e7885a6735296550f6e765a3fc1da1947b.flv /kaggle/input/vcdb-dataset/dataset/core_dataset/troy_achilles_and_hector/911169b1e685d943c7854a1c0ecdf9cef1250bec.mp4\n",
      "/kaggle/input/vcdb-dataset/dataset/core_dataset/the_legend_of_1900_magic_waltz/b441a4e7885a6735296550f6e765a3fc1da1947b.flv /kaggle/input/vcdb-dataset/dataset/core_dataset/beckham_70_yard_goal/1f4f6311bb4acc0bc72e4a915a32093a7a85741c.flv\n",
      "/kaggle/input/vcdb-dataset/dataset/core_dataset/the_legend_of_1900_magic_waltz/b441a4e7885a6735296550f6e765a3fc1da1947b.flv /kaggle/input/vcdb-dataset/dataset/core_dataset/infernal_affairs_1/2620a515a196e5d4329f320f478010e578980bee.flv\n",
      "/kaggle/input/vcdb-dataset/dataset/core_dataset/kennedy_assassination_slow_motion/2283dfecf92111bfb035888b4810c011ac164876.flv /kaggle/input/vcdb-dataset/dataset/core_dataset/dove_evolution_commercial/caec7bae88f5b5d60a08487e9d9a8cd27251c64e.flv\n",
      "/kaggle/input/vcdb-dataset/dataset/core_dataset/kennedy_assassination_slow_motion/2283dfecf92111bfb035888b4810c011ac164876.flv /kaggle/input/vcdb-dataset/dataset/core_dataset/run_forrest_fun/8f19329946455ae5c2c7b788ea6f6513bf5e1c9a.flv\n",
      "/kaggle/input/vcdb-dataset/dataset/core_dataset/kennedy_assassination_slow_motion/2283dfecf92111bfb035888b4810c011ac164876.flv /kaggle/input/vcdb-dataset/dataset/core_dataset/baggio_penalty_1994/6d1a89c83d554fc6a5e39fcadb172a79baf140fd.mp4\n",
      "/kaggle/input/vcdb-dataset/dataset/core_dataset/kennedy_assassination_slow_motion/2283dfecf92111bfb035888b4810c011ac164876.flv /kaggle/input/vcdb-dataset/dataset/core_dataset/endless_love/875ea06d092a04ffd4e875e1f311e6aa2eb9ff87.flv\n",
      "/kaggle/input/vcdb-dataset/dataset/core_dataset/kennedy_assassination_slow_motion/2283dfecf92111bfb035888b4810c011ac164876.flv /kaggle/input/vcdb-dataset/dataset/core_dataset/the_last_samurai_last_battle/9e94d3404faee3a1e3c78fb33064319511428103.flv\n",
      "/kaggle/input/vcdb-dataset/dataset/core_dataset/kennedy_assassination_slow_motion/2283dfecf92111bfb035888b4810c011ac164876.flv /kaggle/input/vcdb-dataset/dataset/core_dataset/obama_kicks_door/126f24a39b0ce19993d1fd7bd620fa98a3eda3a7.mp4\n",
      "/kaggle/input/vcdb-dataset/dataset/core_dataset/kennedy_assassination_slow_motion/2283dfecf92111bfb035888b4810c011ac164876.flv /kaggle/input/vcdb-dataset/dataset/core_dataset/mr_and_mrs_smith_tango/39c96fc7117a0ff1fdc02637285c13d8efe7ce93.flv\n",
      "/kaggle/input/vcdb-dataset/dataset/core_dataset/kennedy_assassination_slow_motion/2283dfecf92111bfb035888b4810c011ac164876.flv /kaggle/input/vcdb-dataset/dataset/core_dataset/osama_bin_laden_is_dead_obama_speech_at_white_house/ebe5fd08a5d05f2af96f425bc894860bac3f9ba6.flv\n",
      "/kaggle/input/vcdb-dataset/dataset/core_dataset/kennedy_assassination_slow_motion/2283dfecf92111bfb035888b4810c011ac164876.flv /kaggle/input/vcdb-dataset/dataset/core_dataset/ronaldinho_ping_pong/a5df43e25319b10af46225849677bd30b916ce81.flv\n",
      "/kaggle/input/vcdb-dataset/dataset/core_dataset/kennedy_assassination_slow_motion/2283dfecf92111bfb035888b4810c011ac164876.flv /kaggle/input/vcdb-dataset/dataset/core_dataset/the_pursuit_of_happyness_-_job_interview/4dd842508699d66636298376da31208a2e029c61.flv\n",
      "/kaggle/input/vcdb-dataset/dataset/core_dataset/kennedy_assassination_slow_motion/2283dfecf92111bfb035888b4810c011ac164876.flv /kaggle/input/vcdb-dataset/dataset/core_dataset/troy_achilles_and_hector/911169b1e685d943c7854a1c0ecdf9cef1250bec.mp4\n",
      "/kaggle/input/vcdb-dataset/dataset/core_dataset/kennedy_assassination_slow_motion/2283dfecf92111bfb035888b4810c011ac164876.flv /kaggle/input/vcdb-dataset/dataset/core_dataset/beckham_70_yard_goal/1f4f6311bb4acc0bc72e4a915a32093a7a85741c.flv\n",
      "/kaggle/input/vcdb-dataset/dataset/core_dataset/kennedy_assassination_slow_motion/2283dfecf92111bfb035888b4810c011ac164876.flv /kaggle/input/vcdb-dataset/dataset/core_dataset/infernal_affairs_1/2620a515a196e5d4329f320f478010e578980bee.flv\n",
      "/kaggle/input/vcdb-dataset/dataset/core_dataset/dove_evolution_commercial/caec7bae88f5b5d60a08487e9d9a8cd27251c64e.flv /kaggle/input/vcdb-dataset/dataset/core_dataset/run_forrest_fun/8f19329946455ae5c2c7b788ea6f6513bf5e1c9a.flv\n",
      "/kaggle/input/vcdb-dataset/dataset/core_dataset/dove_evolution_commercial/caec7bae88f5b5d60a08487e9d9a8cd27251c64e.flv /kaggle/input/vcdb-dataset/dataset/core_dataset/baggio_penalty_1994/6d1a89c83d554fc6a5e39fcadb172a79baf140fd.mp4\n",
      "/kaggle/input/vcdb-dataset/dataset/core_dataset/dove_evolution_commercial/caec7bae88f5b5d60a08487e9d9a8cd27251c64e.flv /kaggle/input/vcdb-dataset/dataset/core_dataset/endless_love/875ea06d092a04ffd4e875e1f311e6aa2eb9ff87.flv\n",
      "/kaggle/input/vcdb-dataset/dataset/core_dataset/dove_evolution_commercial/caec7bae88f5b5d60a08487e9d9a8cd27251c64e.flv /kaggle/input/vcdb-dataset/dataset/core_dataset/the_last_samurai_last_battle/9e94d3404faee3a1e3c78fb33064319511428103.flv\n",
      "/kaggle/input/vcdb-dataset/dataset/core_dataset/dove_evolution_commercial/caec7bae88f5b5d60a08487e9d9a8cd27251c64e.flv /kaggle/input/vcdb-dataset/dataset/core_dataset/obama_kicks_door/126f24a39b0ce19993d1fd7bd620fa98a3eda3a7.mp4\n",
      "/kaggle/input/vcdb-dataset/dataset/core_dataset/dove_evolution_commercial/caec7bae88f5b5d60a08487e9d9a8cd27251c64e.flv /kaggle/input/vcdb-dataset/dataset/core_dataset/mr_and_mrs_smith_tango/39c96fc7117a0ff1fdc02637285c13d8efe7ce93.flv\n",
      "/kaggle/input/vcdb-dataset/dataset/core_dataset/dove_evolution_commercial/caec7bae88f5b5d60a08487e9d9a8cd27251c64e.flv /kaggle/input/vcdb-dataset/dataset/core_dataset/osama_bin_laden_is_dead_obama_speech_at_white_house/ebe5fd08a5d05f2af96f425bc894860bac3f9ba6.flv\n",
      "/kaggle/input/vcdb-dataset/dataset/core_dataset/dove_evolution_commercial/caec7bae88f5b5d60a08487e9d9a8cd27251c64e.flv /kaggle/input/vcdb-dataset/dataset/core_dataset/ronaldinho_ping_pong/a5df43e25319b10af46225849677bd30b916ce81.flv\n",
      "/kaggle/input/vcdb-dataset/dataset/core_dataset/dove_evolution_commercial/caec7bae88f5b5d60a08487e9d9a8cd27251c64e.flv /kaggle/input/vcdb-dataset/dataset/core_dataset/the_pursuit_of_happyness_-_job_interview/4dd842508699d66636298376da31208a2e029c61.flv\n",
      "/kaggle/input/vcdb-dataset/dataset/core_dataset/dove_evolution_commercial/caec7bae88f5b5d60a08487e9d9a8cd27251c64e.flv /kaggle/input/vcdb-dataset/dataset/core_dataset/troy_achilles_and_hector/911169b1e685d943c7854a1c0ecdf9cef1250bec.mp4\n",
      "/kaggle/input/vcdb-dataset/dataset/core_dataset/dove_evolution_commercial/caec7bae88f5b5d60a08487e9d9a8cd27251c64e.flv /kaggle/input/vcdb-dataset/dataset/core_dataset/beckham_70_yard_goal/1f4f6311bb4acc0bc72e4a915a32093a7a85741c.flv\n",
      "/kaggle/input/vcdb-dataset/dataset/core_dataset/dove_evolution_commercial/caec7bae88f5b5d60a08487e9d9a8cd27251c64e.flv /kaggle/input/vcdb-dataset/dataset/core_dataset/infernal_affairs_1/2620a515a196e5d4329f320f478010e578980bee.flv\n",
      "Unable to read frame #2612 of video '/kaggle/input/vcdb-dataset/dataset/core_dataset/infernal_affairs_1/2620a515a196e5d4329f320f478010e578980bee.flv'. Skipping and Continuing.!!\n",
      "/kaggle/input/vcdb-dataset/dataset/core_dataset/run_forrest_fun/8f19329946455ae5c2c7b788ea6f6513bf5e1c9a.flv /kaggle/input/vcdb-dataset/dataset/core_dataset/baggio_penalty_1994/6d1a89c83d554fc6a5e39fcadb172a79baf140fd.mp4\n",
      "/kaggle/input/vcdb-dataset/dataset/core_dataset/run_forrest_fun/8f19329946455ae5c2c7b788ea6f6513bf5e1c9a.flv /kaggle/input/vcdb-dataset/dataset/core_dataset/endless_love/875ea06d092a04ffd4e875e1f311e6aa2eb9ff87.flv\n",
      "/kaggle/input/vcdb-dataset/dataset/core_dataset/run_forrest_fun/8f19329946455ae5c2c7b788ea6f6513bf5e1c9a.flv /kaggle/input/vcdb-dataset/dataset/core_dataset/the_last_samurai_last_battle/9e94d3404faee3a1e3c78fb33064319511428103.flv\n",
      "/kaggle/input/vcdb-dataset/dataset/core_dataset/run_forrest_fun/8f19329946455ae5c2c7b788ea6f6513bf5e1c9a.flv /kaggle/input/vcdb-dataset/dataset/core_dataset/obama_kicks_door/126f24a39b0ce19993d1fd7bd620fa98a3eda3a7.mp4\n",
      "/kaggle/input/vcdb-dataset/dataset/core_dataset/run_forrest_fun/8f19329946455ae5c2c7b788ea6f6513bf5e1c9a.flv /kaggle/input/vcdb-dataset/dataset/core_dataset/mr_and_mrs_smith_tango/39c96fc7117a0ff1fdc02637285c13d8efe7ce93.flv\n",
      "/kaggle/input/vcdb-dataset/dataset/core_dataset/run_forrest_fun/8f19329946455ae5c2c7b788ea6f6513bf5e1c9a.flv /kaggle/input/vcdb-dataset/dataset/core_dataset/osama_bin_laden_is_dead_obama_speech_at_white_house/ebe5fd08a5d05f2af96f425bc894860bac3f9ba6.flv\n",
      "/kaggle/input/vcdb-dataset/dataset/core_dataset/run_forrest_fun/8f19329946455ae5c2c7b788ea6f6513bf5e1c9a.flv /kaggle/input/vcdb-dataset/dataset/core_dataset/ronaldinho_ping_pong/a5df43e25319b10af46225849677bd30b916ce81.flv\n",
      "/kaggle/input/vcdb-dataset/dataset/core_dataset/run_forrest_fun/8f19329946455ae5c2c7b788ea6f6513bf5e1c9a.flv /kaggle/input/vcdb-dataset/dataset/core_dataset/the_pursuit_of_happyness_-_job_interview/4dd842508699d66636298376da31208a2e029c61.flv\n",
      "/kaggle/input/vcdb-dataset/dataset/core_dataset/run_forrest_fun/8f19329946455ae5c2c7b788ea6f6513bf5e1c9a.flv /kaggle/input/vcdb-dataset/dataset/core_dataset/troy_achilles_and_hector/911169b1e685d943c7854a1c0ecdf9cef1250bec.mp4\n",
      "/kaggle/input/vcdb-dataset/dataset/core_dataset/run_forrest_fun/8f19329946455ae5c2c7b788ea6f6513bf5e1c9a.flv /kaggle/input/vcdb-dataset/dataset/core_dataset/beckham_70_yard_goal/1f4f6311bb4acc0bc72e4a915a32093a7a85741c.flv\n",
      "/kaggle/input/vcdb-dataset/dataset/core_dataset/run_forrest_fun/8f19329946455ae5c2c7b788ea6f6513bf5e1c9a.flv /kaggle/input/vcdb-dataset/dataset/core_dataset/infernal_affairs_1/2620a515a196e5d4329f320f478010e578980bee.flv\n",
      "/kaggle/input/vcdb-dataset/dataset/core_dataset/baggio_penalty_1994/6d1a89c83d554fc6a5e39fcadb172a79baf140fd.mp4 /kaggle/input/vcdb-dataset/dataset/core_dataset/endless_love/875ea06d092a04ffd4e875e1f311e6aa2eb9ff87.flv\n",
      "/kaggle/input/vcdb-dataset/dataset/core_dataset/baggio_penalty_1994/6d1a89c83d554fc6a5e39fcadb172a79baf140fd.mp4 /kaggle/input/vcdb-dataset/dataset/core_dataset/the_last_samurai_last_battle/9e94d3404faee3a1e3c78fb33064319511428103.flv\n",
      "/kaggle/input/vcdb-dataset/dataset/core_dataset/baggio_penalty_1994/6d1a89c83d554fc6a5e39fcadb172a79baf140fd.mp4 /kaggle/input/vcdb-dataset/dataset/core_dataset/obama_kicks_door/126f24a39b0ce19993d1fd7bd620fa98a3eda3a7.mp4\n",
      "/kaggle/input/vcdb-dataset/dataset/core_dataset/baggio_penalty_1994/6d1a89c83d554fc6a5e39fcadb172a79baf140fd.mp4 /kaggle/input/vcdb-dataset/dataset/core_dataset/mr_and_mrs_smith_tango/39c96fc7117a0ff1fdc02637285c13d8efe7ce93.flv\n",
      "/kaggle/input/vcdb-dataset/dataset/core_dataset/baggio_penalty_1994/6d1a89c83d554fc6a5e39fcadb172a79baf140fd.mp4 /kaggle/input/vcdb-dataset/dataset/core_dataset/osama_bin_laden_is_dead_obama_speech_at_white_house/ebe5fd08a5d05f2af96f425bc894860bac3f9ba6.flv\n",
      "/kaggle/input/vcdb-dataset/dataset/core_dataset/baggio_penalty_1994/6d1a89c83d554fc6a5e39fcadb172a79baf140fd.mp4 /kaggle/input/vcdb-dataset/dataset/core_dataset/ronaldinho_ping_pong/a5df43e25319b10af46225849677bd30b916ce81.flv\n",
      "/kaggle/input/vcdb-dataset/dataset/core_dataset/baggio_penalty_1994/6d1a89c83d554fc6a5e39fcadb172a79baf140fd.mp4 /kaggle/input/vcdb-dataset/dataset/core_dataset/the_pursuit_of_happyness_-_job_interview/4dd842508699d66636298376da31208a2e029c61.flv\n",
      "/kaggle/input/vcdb-dataset/dataset/core_dataset/baggio_penalty_1994/6d1a89c83d554fc6a5e39fcadb172a79baf140fd.mp4 /kaggle/input/vcdb-dataset/dataset/core_dataset/troy_achilles_and_hector/911169b1e685d943c7854a1c0ecdf9cef1250bec.mp4\n",
      "/kaggle/input/vcdb-dataset/dataset/core_dataset/baggio_penalty_1994/6d1a89c83d554fc6a5e39fcadb172a79baf140fd.mp4 /kaggle/input/vcdb-dataset/dataset/core_dataset/beckham_70_yard_goal/1f4f6311bb4acc0bc72e4a915a32093a7a85741c.flv\n",
      "/kaggle/input/vcdb-dataset/dataset/core_dataset/baggio_penalty_1994/6d1a89c83d554fc6a5e39fcadb172a79baf140fd.mp4 /kaggle/input/vcdb-dataset/dataset/core_dataset/infernal_affairs_1/2620a515a196e5d4329f320f478010e578980bee.flv\n",
      "/kaggle/input/vcdb-dataset/dataset/core_dataset/endless_love/875ea06d092a04ffd4e875e1f311e6aa2eb9ff87.flv /kaggle/input/vcdb-dataset/dataset/core_dataset/the_last_samurai_last_battle/9e94d3404faee3a1e3c78fb33064319511428103.flv\n",
      "/kaggle/input/vcdb-dataset/dataset/core_dataset/endless_love/875ea06d092a04ffd4e875e1f311e6aa2eb9ff87.flv /kaggle/input/vcdb-dataset/dataset/core_dataset/obama_kicks_door/126f24a39b0ce19993d1fd7bd620fa98a3eda3a7.mp4\n",
      "Unable to read frame #3202 of video '/kaggle/input/vcdb-dataset/dataset/core_dataset/obama_kicks_door/126f24a39b0ce19993d1fd7bd620fa98a3eda3a7.mp4'. Skipping and Continuing.!!\n",
      "/kaggle/input/vcdb-dataset/dataset/core_dataset/endless_love/875ea06d092a04ffd4e875e1f311e6aa2eb9ff87.flv /kaggle/input/vcdb-dataset/dataset/core_dataset/mr_and_mrs_smith_tango/39c96fc7117a0ff1fdc02637285c13d8efe7ce93.flv\n",
      "/kaggle/input/vcdb-dataset/dataset/core_dataset/endless_love/875ea06d092a04ffd4e875e1f311e6aa2eb9ff87.flv /kaggle/input/vcdb-dataset/dataset/core_dataset/osama_bin_laden_is_dead_obama_speech_at_white_house/ebe5fd08a5d05f2af96f425bc894860bac3f9ba6.flv\n",
      "/kaggle/input/vcdb-dataset/dataset/core_dataset/endless_love/875ea06d092a04ffd4e875e1f311e6aa2eb9ff87.flv /kaggle/input/vcdb-dataset/dataset/core_dataset/ronaldinho_ping_pong/a5df43e25319b10af46225849677bd30b916ce81.flv\n",
      "/kaggle/input/vcdb-dataset/dataset/core_dataset/endless_love/875ea06d092a04ffd4e875e1f311e6aa2eb9ff87.flv /kaggle/input/vcdb-dataset/dataset/core_dataset/the_pursuit_of_happyness_-_job_interview/4dd842508699d66636298376da31208a2e029c61.flv\n",
      "/kaggle/input/vcdb-dataset/dataset/core_dataset/endless_love/875ea06d092a04ffd4e875e1f311e6aa2eb9ff87.flv /kaggle/input/vcdb-dataset/dataset/core_dataset/troy_achilles_and_hector/911169b1e685d943c7854a1c0ecdf9cef1250bec.mp4\n",
      "/kaggle/input/vcdb-dataset/dataset/core_dataset/endless_love/875ea06d092a04ffd4e875e1f311e6aa2eb9ff87.flv /kaggle/input/vcdb-dataset/dataset/core_dataset/beckham_70_yard_goal/1f4f6311bb4acc0bc72e4a915a32093a7a85741c.flv\n",
      "/kaggle/input/vcdb-dataset/dataset/core_dataset/endless_love/875ea06d092a04ffd4e875e1f311e6aa2eb9ff87.flv /kaggle/input/vcdb-dataset/dataset/core_dataset/infernal_affairs_1/2620a515a196e5d4329f320f478010e578980bee.flv\n",
      "/kaggle/input/vcdb-dataset/dataset/core_dataset/the_last_samurai_last_battle/9e94d3404faee3a1e3c78fb33064319511428103.flv /kaggle/input/vcdb-dataset/dataset/core_dataset/obama_kicks_door/126f24a39b0ce19993d1fd7bd620fa98a3eda3a7.mp4\n",
      "/kaggle/input/vcdb-dataset/dataset/core_dataset/the_last_samurai_last_battle/9e94d3404faee3a1e3c78fb33064319511428103.flv /kaggle/input/vcdb-dataset/dataset/core_dataset/mr_and_mrs_smith_tango/39c96fc7117a0ff1fdc02637285c13d8efe7ce93.flv\n",
      "/kaggle/input/vcdb-dataset/dataset/core_dataset/the_last_samurai_last_battle/9e94d3404faee3a1e3c78fb33064319511428103.flv /kaggle/input/vcdb-dataset/dataset/core_dataset/osama_bin_laden_is_dead_obama_speech_at_white_house/ebe5fd08a5d05f2af96f425bc894860bac3f9ba6.flv\n",
      "/kaggle/input/vcdb-dataset/dataset/core_dataset/the_last_samurai_last_battle/9e94d3404faee3a1e3c78fb33064319511428103.flv /kaggle/input/vcdb-dataset/dataset/core_dataset/ronaldinho_ping_pong/a5df43e25319b10af46225849677bd30b916ce81.flv\n",
      "/kaggle/input/vcdb-dataset/dataset/core_dataset/the_last_samurai_last_battle/9e94d3404faee3a1e3c78fb33064319511428103.flv /kaggle/input/vcdb-dataset/dataset/core_dataset/the_pursuit_of_happyness_-_job_interview/4dd842508699d66636298376da31208a2e029c61.flv\n",
      "/kaggle/input/vcdb-dataset/dataset/core_dataset/the_last_samurai_last_battle/9e94d3404faee3a1e3c78fb33064319511428103.flv /kaggle/input/vcdb-dataset/dataset/core_dataset/troy_achilles_and_hector/911169b1e685d943c7854a1c0ecdf9cef1250bec.mp4\n",
      "/kaggle/input/vcdb-dataset/dataset/core_dataset/the_last_samurai_last_battle/9e94d3404faee3a1e3c78fb33064319511428103.flv /kaggle/input/vcdb-dataset/dataset/core_dataset/beckham_70_yard_goal/1f4f6311bb4acc0bc72e4a915a32093a7a85741c.flv\n",
      "/kaggle/input/vcdb-dataset/dataset/core_dataset/the_last_samurai_last_battle/9e94d3404faee3a1e3c78fb33064319511428103.flv /kaggle/input/vcdb-dataset/dataset/core_dataset/infernal_affairs_1/2620a515a196e5d4329f320f478010e578980bee.flv\n",
      "/kaggle/input/vcdb-dataset/dataset/core_dataset/obama_kicks_door/126f24a39b0ce19993d1fd7bd620fa98a3eda3a7.mp4 /kaggle/input/vcdb-dataset/dataset/core_dataset/mr_and_mrs_smith_tango/39c96fc7117a0ff1fdc02637285c13d8efe7ce93.flv\n",
      "Unable to read frame #3202 of video '/kaggle/input/vcdb-dataset/dataset/core_dataset/obama_kicks_door/126f24a39b0ce19993d1fd7bd620fa98a3eda3a7.mp4'. Skipping and Continuing.!!\n",
      "/kaggle/input/vcdb-dataset/dataset/core_dataset/obama_kicks_door/126f24a39b0ce19993d1fd7bd620fa98a3eda3a7.mp4 /kaggle/input/vcdb-dataset/dataset/core_dataset/osama_bin_laden_is_dead_obama_speech_at_white_house/ebe5fd08a5d05f2af96f425bc894860bac3f9ba6.flv\n",
      "/kaggle/input/vcdb-dataset/dataset/core_dataset/obama_kicks_door/126f24a39b0ce19993d1fd7bd620fa98a3eda3a7.mp4 /kaggle/input/vcdb-dataset/dataset/core_dataset/ronaldinho_ping_pong/a5df43e25319b10af46225849677bd30b916ce81.flv\n",
      "/kaggle/input/vcdb-dataset/dataset/core_dataset/obama_kicks_door/126f24a39b0ce19993d1fd7bd620fa98a3eda3a7.mp4 /kaggle/input/vcdb-dataset/dataset/core_dataset/the_pursuit_of_happyness_-_job_interview/4dd842508699d66636298376da31208a2e029c61.flv\n",
      "/kaggle/input/vcdb-dataset/dataset/core_dataset/obama_kicks_door/126f24a39b0ce19993d1fd7bd620fa98a3eda3a7.mp4 /kaggle/input/vcdb-dataset/dataset/core_dataset/troy_achilles_and_hector/911169b1e685d943c7854a1c0ecdf9cef1250bec.mp4\n",
      "/kaggle/input/vcdb-dataset/dataset/core_dataset/obama_kicks_door/126f24a39b0ce19993d1fd7bd620fa98a3eda3a7.mp4 /kaggle/input/vcdb-dataset/dataset/core_dataset/beckham_70_yard_goal/1f4f6311bb4acc0bc72e4a915a32093a7a85741c.flv\n",
      "/kaggle/input/vcdb-dataset/dataset/core_dataset/obama_kicks_door/126f24a39b0ce19993d1fd7bd620fa98a3eda3a7.mp4 /kaggle/input/vcdb-dataset/dataset/core_dataset/infernal_affairs_1/2620a515a196e5d4329f320f478010e578980bee.flv\n",
      "/kaggle/input/vcdb-dataset/dataset/core_dataset/mr_and_mrs_smith_tango/39c96fc7117a0ff1fdc02637285c13d8efe7ce93.flv /kaggle/input/vcdb-dataset/dataset/core_dataset/osama_bin_laden_is_dead_obama_speech_at_white_house/ebe5fd08a5d05f2af96f425bc894860bac3f9ba6.flv\n",
      "/kaggle/input/vcdb-dataset/dataset/core_dataset/mr_and_mrs_smith_tango/39c96fc7117a0ff1fdc02637285c13d8efe7ce93.flv /kaggle/input/vcdb-dataset/dataset/core_dataset/ronaldinho_ping_pong/a5df43e25319b10af46225849677bd30b916ce81.flv\n",
      "/kaggle/input/vcdb-dataset/dataset/core_dataset/mr_and_mrs_smith_tango/39c96fc7117a0ff1fdc02637285c13d8efe7ce93.flv /kaggle/input/vcdb-dataset/dataset/core_dataset/the_pursuit_of_happyness_-_job_interview/4dd842508699d66636298376da31208a2e029c61.flv\n",
      "/kaggle/input/vcdb-dataset/dataset/core_dataset/mr_and_mrs_smith_tango/39c96fc7117a0ff1fdc02637285c13d8efe7ce93.flv /kaggle/input/vcdb-dataset/dataset/core_dataset/troy_achilles_and_hector/911169b1e685d943c7854a1c0ecdf9cef1250bec.mp4\n",
      "/kaggle/input/vcdb-dataset/dataset/core_dataset/mr_and_mrs_smith_tango/39c96fc7117a0ff1fdc02637285c13d8efe7ce93.flv /kaggle/input/vcdb-dataset/dataset/core_dataset/beckham_70_yard_goal/1f4f6311bb4acc0bc72e4a915a32093a7a85741c.flv\n",
      "/kaggle/input/vcdb-dataset/dataset/core_dataset/mr_and_mrs_smith_tango/39c96fc7117a0ff1fdc02637285c13d8efe7ce93.flv /kaggle/input/vcdb-dataset/dataset/core_dataset/infernal_affairs_1/2620a515a196e5d4329f320f478010e578980bee.flv\n",
      "/kaggle/input/vcdb-dataset/dataset/core_dataset/osama_bin_laden_is_dead_obama_speech_at_white_house/ebe5fd08a5d05f2af96f425bc894860bac3f9ba6.flv /kaggle/input/vcdb-dataset/dataset/core_dataset/ronaldinho_ping_pong/a5df43e25319b10af46225849677bd30b916ce81.flv\n",
      "/kaggle/input/vcdb-dataset/dataset/core_dataset/osama_bin_laden_is_dead_obama_speech_at_white_house/ebe5fd08a5d05f2af96f425bc894860bac3f9ba6.flv /kaggle/input/vcdb-dataset/dataset/core_dataset/the_pursuit_of_happyness_-_job_interview/4dd842508699d66636298376da31208a2e029c61.flv\n",
      "/kaggle/input/vcdb-dataset/dataset/core_dataset/osama_bin_laden_is_dead_obama_speech_at_white_house/ebe5fd08a5d05f2af96f425bc894860bac3f9ba6.flv /kaggle/input/vcdb-dataset/dataset/core_dataset/troy_achilles_and_hector/911169b1e685d943c7854a1c0ecdf9cef1250bec.mp4\n",
      "/kaggle/input/vcdb-dataset/dataset/core_dataset/osama_bin_laden_is_dead_obama_speech_at_white_house/ebe5fd08a5d05f2af96f425bc894860bac3f9ba6.flv /kaggle/input/vcdb-dataset/dataset/core_dataset/beckham_70_yard_goal/1f4f6311bb4acc0bc72e4a915a32093a7a85741c.flv\n",
      "/kaggle/input/vcdb-dataset/dataset/core_dataset/osama_bin_laden_is_dead_obama_speech_at_white_house/ebe5fd08a5d05f2af96f425bc894860bac3f9ba6.flv /kaggle/input/vcdb-dataset/dataset/core_dataset/infernal_affairs_1/2620a515a196e5d4329f320f478010e578980bee.flv\n",
      "/kaggle/input/vcdb-dataset/dataset/core_dataset/ronaldinho_ping_pong/a5df43e25319b10af46225849677bd30b916ce81.flv /kaggle/input/vcdb-dataset/dataset/core_dataset/the_pursuit_of_happyness_-_job_interview/4dd842508699d66636298376da31208a2e029c61.flv\n",
      "/kaggle/input/vcdb-dataset/dataset/core_dataset/ronaldinho_ping_pong/a5df43e25319b10af46225849677bd30b916ce81.flv /kaggle/input/vcdb-dataset/dataset/core_dataset/troy_achilles_and_hector/911169b1e685d943c7854a1c0ecdf9cef1250bec.mp4\n",
      "/kaggle/input/vcdb-dataset/dataset/core_dataset/ronaldinho_ping_pong/a5df43e25319b10af46225849677bd30b916ce81.flv /kaggle/input/vcdb-dataset/dataset/core_dataset/beckham_70_yard_goal/1f4f6311bb4acc0bc72e4a915a32093a7a85741c.flv\n",
      "/kaggle/input/vcdb-dataset/dataset/core_dataset/ronaldinho_ping_pong/a5df43e25319b10af46225849677bd30b916ce81.flv /kaggle/input/vcdb-dataset/dataset/core_dataset/infernal_affairs_1/2620a515a196e5d4329f320f478010e578980bee.flv\n",
      "/kaggle/input/vcdb-dataset/dataset/core_dataset/the_pursuit_of_happyness_-_job_interview/4dd842508699d66636298376da31208a2e029c61.flv /kaggle/input/vcdb-dataset/dataset/core_dataset/troy_achilles_and_hector/911169b1e685d943c7854a1c0ecdf9cef1250bec.mp4\n",
      "/kaggle/input/vcdb-dataset/dataset/core_dataset/the_pursuit_of_happyness_-_job_interview/4dd842508699d66636298376da31208a2e029c61.flv /kaggle/input/vcdb-dataset/dataset/core_dataset/beckham_70_yard_goal/1f4f6311bb4acc0bc72e4a915a32093a7a85741c.flv\n",
      "/kaggle/input/vcdb-dataset/dataset/core_dataset/the_pursuit_of_happyness_-_job_interview/4dd842508699d66636298376da31208a2e029c61.flv /kaggle/input/vcdb-dataset/dataset/core_dataset/infernal_affairs_1/2620a515a196e5d4329f320f478010e578980bee.flv\n",
      "/kaggle/input/vcdb-dataset/dataset/core_dataset/troy_achilles_and_hector/911169b1e685d943c7854a1c0ecdf9cef1250bec.mp4 /kaggle/input/vcdb-dataset/dataset/core_dataset/beckham_70_yard_goal/1f4f6311bb4acc0bc72e4a915a32093a7a85741c.flv\n",
      "/kaggle/input/vcdb-dataset/dataset/core_dataset/troy_achilles_and_hector/911169b1e685d943c7854a1c0ecdf9cef1250bec.mp4 /kaggle/input/vcdb-dataset/dataset/core_dataset/infernal_affairs_1/2620a515a196e5d4329f320f478010e578980bee.flv\n",
      "/kaggle/input/vcdb-dataset/dataset/core_dataset/beckham_70_yard_goal/1f4f6311bb4acc0bc72e4a915a32093a7a85741c.flv /kaggle/input/vcdb-dataset/dataset/core_dataset/infernal_affairs_1/2620a515a196e5d4329f320f478010e578980bee.flv\n"
     ]
    }
   ],
   "source": [
    "pos_sim = calculate_video_similarity(pos_pairs)\n",
    "neg_sim = calculate_video_similarity(neg_pairs)"
   ]
  },
  {
   "cell_type": "code",
   "execution_count": 11,
   "metadata": {
    "execution": {
     "iopub.execute_input": "2023-08-26T10:11:03.815950Z",
     "iopub.status.busy": "2023-08-26T10:11:03.815501Z",
     "iopub.status.idle": "2023-08-26T10:11:03.821447Z",
     "shell.execute_reply": "2023-08-26T10:11:03.820402Z",
     "shell.execute_reply.started": "2023-08-26T10:11:03.815907Z"
    }
   },
   "outputs": [],
   "source": [
    "ones = np.ones_like(pos_sim)\n",
    "zeros = np.zeros_like(neg_sim)"
   ]
  },
  {
   "cell_type": "code",
   "execution_count": 12,
   "metadata": {
    "execution": {
     "iopub.execute_input": "2023-08-26T10:11:06.082286Z",
     "iopub.status.busy": "2023-08-26T10:11:06.081928Z",
     "iopub.status.idle": "2023-08-26T10:11:06.088570Z",
     "shell.execute_reply": "2023-08-26T10:11:06.087579Z",
     "shell.execute_reply.started": "2023-08-26T10:11:06.082257Z"
    }
   },
   "outputs": [],
   "source": [
    "import matplotlib.pyplot as plt"
   ]
  },
  {
   "cell_type": "code",
   "execution_count": 13,
   "metadata": {
    "execution": {
     "iopub.execute_input": "2023-08-26T10:11:06.850861Z",
     "iopub.status.busy": "2023-08-26T10:11:06.849829Z",
     "iopub.status.idle": "2023-08-26T10:11:06.857248Z",
     "shell.execute_reply": "2023-08-26T10:11:06.855852Z",
     "shell.execute_reply.started": "2023-08-26T10:11:06.850824Z"
    }
   },
   "outputs": [],
   "source": [
    "x_pos = [i for i in range(len(pos_sim))]\n",
    "x_neg = [i for i in range(len(neg_sim))]"
   ]
  },
  {
   "cell_type": "code",
   "execution_count": 14,
   "metadata": {
    "execution": {
     "iopub.execute_input": "2023-08-26T10:11:08.195410Z",
     "iopub.status.busy": "2023-08-26T10:11:08.195027Z",
     "iopub.status.idle": "2023-08-26T10:11:08.550274Z",
     "shell.execute_reply": "2023-08-26T10:11:08.549235Z",
     "shell.execute_reply.started": "2023-08-26T10:11:08.195379Z"
    }
   },
   "outputs": [
    {
     "data": {
      "image/png": "[encoded data removed]",
      "text/plain": [
       "<Figure size 640x480 with 1 Axes>"
      ]
     },
     "metadata": {},
     "output_type": "display_data"
    }
   ],
   "source": [
    "plt.plot(x_pos, pos_sim, label=\"duplicate videos similarity values\")\n",
    "plt.plot(x_neg, neg_sim, label=\"non duplicate videos similarity values\")\n",
    "plt.legend()\n",
    "plt.show()"
   ]
  },
  {
   "cell_type": "code",
   "execution_count": 15,
   "metadata": {
    "execution": {
     "iopub.execute_input": "2023-08-26T10:11:18.979120Z",
     "iopub.status.busy": "2023-08-26T10:11:18.978722Z",
     "iopub.status.idle": "2023-08-26T10:11:18.988246Z",
     "shell.execute_reply": "2023-08-26T10:11:18.986965Z",
     "shell.execute_reply.started": "2023-08-26T10:11:18.979080Z"
    }
   },
   "outputs": [],
   "source": [
    "import pickle\n",
    "\n",
    "\n",
    "pickle_out = open(\"pos_sim_Resnet_Trainable_custom_cross_attn_correct_00.pickle\",\"wb\")\n",
    "pickle.dump(pos_sim, pickle_out)\n",
    "pickle_out.close()\n",
    "\n",
    "pickle_out = open(\"neg_sim_Resnet_Trainable_custom_cross_attn_correct_00.pickle\",\"wb\")\n",
    "pickle.dump(neg_sim, pickle_out)\n",
    "pickle_out.close()"
   ]
  },
  {
   "cell_type": "code",
   "execution_count": 16,
   "metadata": {
    "execution": {
     "iopub.execute_input": "2023-08-26T10:11:19.883763Z",
     "iopub.status.busy": "2023-08-26T10:11:19.883410Z",
     "iopub.status.idle": "2023-08-26T10:11:19.890983Z",
     "shell.execute_reply": "2023-08-26T10:11:19.889957Z",
     "shell.execute_reply.started": "2023-08-26T10:11:19.883734Z"
    }
   },
   "outputs": [],
   "source": [
    "pos_sim_non_zero = [sim if sim>0 else 0 for sim in pos_sim]\n",
    "neg_sim_non_zero = [sim if sim>0 else 0 for sim in neg_sim]"
   ]
  },
  {
   "cell_type": "code",
   "execution_count": 17,
   "metadata": {
    "execution": {
     "iopub.execute_input": "2023-08-26T10:11:20.785596Z",
     "iopub.status.busy": "2023-08-26T10:11:20.785242Z",
     "iopub.status.idle": "2023-08-26T10:11:20.790850Z",
     "shell.execute_reply": "2023-08-26T10:11:20.789937Z",
     "shell.execute_reply.started": "2023-08-26T10:11:20.785567Z"
    }
   },
   "outputs": [],
   "source": [
    "predictions = pos_sim_non_zero + neg_sim_non_zero\n",
    "ground_truth = list(ones) + list(zeros)"
   ]
  },
  {
   "cell_type": "code",
   "execution_count": 18,
   "metadata": {
    "execution": {
     "iopub.execute_input": "2023-08-26T10:11:21.535743Z",
     "iopub.status.busy": "2023-08-26T10:11:21.534794Z",
     "iopub.status.idle": "2023-08-26T10:11:21.542767Z",
     "shell.execute_reply": "2023-08-26T10:11:21.541757Z",
     "shell.execute_reply.started": "2023-08-26T10:11:21.535702Z"
    }
   },
   "outputs": [
    {
     "data": {
      "text/plain": [
       "(518, 518)"
      ]
     },
     "execution_count": 18,
     "metadata": {},
     "output_type": "execute_result"
    }
   ],
   "source": [
    "len(predictions), len(ground_truth)"
   ]
  },
  {
   "cell_type": "code",
   "execution_count": 19,
   "metadata": {
    "execution": {
     "iopub.execute_input": "2023-08-26T10:11:22.439731Z",
     "iopub.status.busy": "2023-08-26T10:11:22.438648Z",
     "iopub.status.idle": "2023-08-26T10:11:22.800936Z",
     "shell.execute_reply": "2023-08-26T10:11:22.799871Z",
     "shell.execute_reply.started": "2023-08-26T10:11:22.439671Z"
    }
   },
   "outputs": [],
   "source": [
    "from sklearn.metrics import precision_score, recall_score, f1_score"
   ]
  },
  {
   "cell_type": "code",
   "execution_count": 20,
   "metadata": {
    "execution": {
     "iopub.execute_input": "2023-08-26T10:11:23.180297Z",
     "iopub.status.busy": "2023-08-26T10:11:23.179925Z",
     "iopub.status.idle": "2023-08-26T10:11:23.185585Z",
     "shell.execute_reply": "2023-08-26T10:11:23.184424Z",
     "shell.execute_reply.started": "2023-08-26T10:11:23.180266Z"
    }
   },
   "outputs": [],
   "source": [
    "def get_metrics(ground_truth, predictions):\n",
    "    precision = precision_score(ground_truth, predictions)\n",
    "    recall = recall_score(ground_truth, predictions)\n",
    "    f1 = f1_score(ground_truth, predictions)\n",
    "    \n",
    "    return precision, recall, f1"
   ]
  },
  {
   "cell_type": "code",
   "execution_count": 21,
   "metadata": {
    "execution": {
     "iopub.execute_input": "2023-08-26T10:11:23.870058Z",
     "iopub.status.busy": "2023-08-26T10:11:23.869688Z",
     "iopub.status.idle": "2023-08-26T10:11:24.047648Z",
     "shell.execute_reply": "2023-08-26T10:11:24.046452Z",
     "shell.execute_reply.started": "2023-08-26T10:11:23.870028Z"
    }
   },
   "outputs": [],
   "source": [
    "precision_arr = []\n",
    "recall_arr = []\n",
    "f1_arr = []\n",
    "thresholds = [0, 0.05, 0.1, 0.15, 0.2, 0.25, 0.3, 0.35, 0.4, 0.45, 0.5, 0.55, 0.6, 0.65, 0.7, 0.75, 0.8, 0.85, 0.9, 0.95]\n",
    "for threshold in thresholds:\n",
    "    current_predictions = [1 if pred>threshold else 0 for pred in predictions]\n",
    "    p, r, f1 = get_metrics(ground_truth, current_predictions)\n",
    "    precision_arr.append(p)\n",
    "    recall_arr.append(r)\n",
    "    f1_arr.append(f1)"
   ]
  },
  {
   "cell_type": "code",
   "execution_count": 22,
   "metadata": {
    "execution": {
     "iopub.execute_input": "2023-08-26T10:11:24.458538Z",
     "iopub.status.busy": "2023-08-26T10:11:24.457784Z",
     "iopub.status.idle": "2023-08-26T10:11:24.746730Z",
     "shell.execute_reply": "2023-08-26T10:11:24.745790Z",
     "shell.execute_reply.started": "2023-08-26T10:11:24.458502Z"
    }
   },
   "outputs": [
    {
     "data": {
      "image/png": "[encoded data removed]",
      "text/plain": [
       "<Figure size 640x480 with 1 Axes>"
      ]
     },
     "metadata": {},
     "output_type": "display_data"
    }
   ],
   "source": [
    "plt.plot(thresholds, precision_arr, 'r', label=\"precision\")\n",
    "plt.plot(thresholds, recall_arr, 'b', label=\"recall\")\n",
    "plt.plot(thresholds, f1_arr, 'g', label=\"f1-score\")\n",
    "plt.legend()\n",
    "plt.show()"
   ]
  },
  {
   "cell_type": "code",
   "execution_count": 23,
   "metadata": {
    "execution": {
     "iopub.execute_input": "2023-08-26T10:11:25.291869Z",
     "iopub.status.busy": "2023-08-26T10:11:25.290744Z",
     "iopub.status.idle": "2023-08-26T10:11:25.299381Z",
     "shell.execute_reply": "2023-08-26T10:11:25.297928Z",
     "shell.execute_reply.started": "2023-08-26T10:11:25.291823Z"
    }
   },
   "outputs": [
    {
     "data": {
      "text/plain": [
       "[0.2702702702702703,\n",
       " 0.2702702702702703,\n",
       " 0.2783300198807157,\n",
       " 0.3309692671394799,\n",
       " 0.43613707165109034,\n",
       " 0.5426356589147286,\n",
       " 0.6481481481481481,\n",
       " 0.7526881720430108,\n",
       " 0.8484848484848485,\n",
       " 0.8974358974358975,\n",
       " 0.9266666666666666,\n",
       " 0.9652777777777778,\n",
       " 0.9787234042553191,\n",
       " 0.9854014598540146,\n",
       " 0.9923664122137404,\n",
       " 1.0,\n",
       " 1.0,\n",
       " 1.0,\n",
       " 1.0,\n",
       " 1.0]"
      ]
     },
     "execution_count": 23,
     "metadata": {},
     "output_type": "execute_result"
    }
   ],
   "source": [
    "precision_arr"
   ]
  },
  {
   "cell_type": "code",
   "execution_count": 24,
   "metadata": {
    "execution": {
     "iopub.execute_input": "2023-08-26T10:11:26.671476Z",
     "iopub.status.busy": "2023-08-26T10:11:26.671064Z",
     "iopub.status.idle": "2023-08-26T10:11:26.679524Z",
     "shell.execute_reply": "2023-08-26T10:11:26.678406Z",
     "shell.execute_reply.started": "2023-08-26T10:11:26.671444Z"
    }
   },
   "outputs": [
    {
     "data": {
      "text/plain": [
       "[1.0,\n",
       " 1.0,\n",
       " 1.0,\n",
       " 1.0,\n",
       " 1.0,\n",
       " 1.0,\n",
       " 1.0,\n",
       " 1.0,\n",
       " 1.0,\n",
       " 1.0,\n",
       " 0.9928571428571429,\n",
       " 0.9928571428571429,\n",
       " 0.9857142857142858,\n",
       " 0.9642857142857143,\n",
       " 0.9285714285714286,\n",
       " 0.9214285714285714,\n",
       " 0.8857142857142857,\n",
       " 0.8428571428571429,\n",
       " 0.7214285714285714,\n",
       " 0.4785714285714286]"
      ]
     },
     "execution_count": 24,
     "metadata": {},
     "output_type": "execute_result"
    }
   ],
   "source": [
    "recall_arr"
   ]
  },
  {
   "cell_type": "code",
   "execution_count": 25,
   "metadata": {
    "execution": {
     "iopub.execute_input": "2023-08-26T10:11:27.469137Z",
     "iopub.status.busy": "2023-08-26T10:11:27.466391Z",
     "iopub.status.idle": "2023-08-26T10:11:27.476853Z",
     "shell.execute_reply": "2023-08-26T10:11:27.475612Z",
     "shell.execute_reply.started": "2023-08-26T10:11:27.469099Z"
    }
   },
   "outputs": [
    {
     "data": {
      "text/plain": [
       "[0.4255319148936171,\n",
       " 0.4255319148936171,\n",
       " 0.4354587869362364,\n",
       " 0.497335701598579,\n",
       " 0.6073752711496746,\n",
       " 0.7035175879396984,\n",
       " 0.7865168539325843,\n",
       " 0.8588957055214724,\n",
       " 0.9180327868852458,\n",
       " 0.945945945945946,\n",
       " 0.9586206896551723,\n",
       " 0.9788732394366197,\n",
       " 0.9822064056939502,\n",
       " 0.9747292418772563,\n",
       " 0.9594095940959411,\n",
       " 0.9591078066914498,\n",
       " 0.9393939393939393,\n",
       " 0.9147286821705426,\n",
       " 0.8381742738589211,\n",
       " 0.6473429951690821]"
      ]
     },
     "execution_count": 25,
     "metadata": {},
     "output_type": "execute_result"
    }
   ],
   "source": [
    "f1_arr"
   ]
  },
  {
   "cell_type": "code",
   "execution_count": 27,
   "metadata": {
    "execution": {
     "iopub.execute_input": "2023-08-26T10:11:59.451847Z",
     "iopub.status.busy": "2023-08-26T10:11:59.451464Z",
     "iopub.status.idle": "2023-08-26T10:11:59.462017Z",
     "shell.execute_reply": "2023-08-26T10:11:59.460849Z",
     "shell.execute_reply.started": "2023-08-26T10:11:59.451814Z"
    }
   },
   "outputs": [
    {
     "data": {
      "text/plain": [
       "(0.6, 0.9787234042553191, 0.9857142857142858, 0.9822064056939502)"
      ]
     },
     "execution_count": 27,
     "metadata": {},
     "output_type": "execute_result"
    }
   ],
   "source": [
    "thresholds[12], precision_arr[12], recall_arr[12], f1_arr[12]"
   ]
  },
  {
   "cell_type": "code",
   "execution_count": null,
   "metadata": {},
   "outputs": [],
   "source": []
  },
  {
   "cell_type": "code",
   "execution_count": null,
   "metadata": {},
   "outputs": [],
   "source": []
  },
  {
   "cell_type": "code",
   "execution_count": null,
   "metadata": {},
   "outputs": [],
   "source": []
  },
  {
   "cell_type": "code",
   "execution_count": 1,
   "metadata": {},
   "outputs": [],
   "source": [
    "import pickle\n",
    "import numpy as np\n",
    "import matplotlib.pyplot as plt"
   ]
  },
  {
   "cell_type": "code",
   "execution_count": 2,
   "metadata": {},
   "outputs": [],
   "source": [
    "pos_sim_file = open('pos_sim_Resnet_Trainable_custom_cross_attn_correct_00.pickle', 'rb')   \n",
    "pos_sim = pickle.load(pos_sim_file)"
   ]
  },
  {
   "cell_type": "code",
   "execution_count": 3,
   "metadata": {},
   "outputs": [],
   "source": [
    "neg_sim_file = open('neg_sim_Resnet_Trainable_custom_cross_attn_correct_00.pickle', 'rb')   \n",
    "neg_sim = pickle.load(neg_sim_file)"
   ]
  },
  {
   "cell_type": "code",
   "execution_count": 4,
   "metadata": {},
   "outputs": [],
   "source": [
    "pos_sim_non_zero = [sim if sim>0 else 0 for sim in pos_sim]\n",
    "neg_sim_non_zero = [sim if sim>0 else 0 for sim in neg_sim]"
   ]
  },
  {
   "cell_type": "code",
   "execution_count": 5,
   "metadata": {},
   "outputs": [],
   "source": [
    "ones = np.ones_like(pos_sim)\n",
    "zeros = np.zeros_like(neg_sim)"
   ]
  },
  {
   "cell_type": "code",
   "execution_count": 6,
   "metadata": {},
   "outputs": [],
   "source": [
    "predictions = pos_sim_non_zero + neg_sim_non_zero\n",
    "ground_truth = list(ones) + list(zeros)"
   ]
  },
  {
   "cell_type": "code",
   "execution_count": 7,
   "metadata": {},
   "outputs": [],
   "source": [
    "def get_metrics(ground_truth, predictions):\n",
    "    precision = precision_score(ground_truth, predictions)\n",
    "    recall = recall_score(ground_truth, predictions)\n",
    "    f1 = f1_score(ground_truth, predictions)\n",
    "    \n",
    "    return precision, recall, f1"
   ]
  },
  {
   "cell_type": "code",
   "execution_count": 9,
   "metadata": {},
   "outputs": [],
   "source": [
    "from sklearn.metrics import precision_score, recall_score, f1_score"
   ]
  },
  {
   "cell_type": "code",
   "execution_count": 10,
   "metadata": {},
   "outputs": [],
   "source": [
    "precision_arr = []\n",
    "recall_arr = []\n",
    "f1_arr = []\n",
    "thresholds = [0, 0.05, 0.1, 0.15, 0.2, 0.25, 0.3, 0.35, 0.4, 0.45, 0.5, 0.55, 0.6, 0.65, 0.7, 0.75, 0.8, 0.85, 0.9, 0.95]\n",
    "for threshold in thresholds:\n",
    "    current_predictions = [1 if pred>threshold else 0 for pred in predictions]\n",
    "    p, r, f1 = get_metrics(ground_truth, current_predictions)\n",
    "    precision_arr.append(p)\n",
    "    recall_arr.append(r)\n",
    "    f1_arr.append(f1)"
   ]
  },
  {
   "cell_type": "code",
   "execution_count": 11,
   "metadata": {},
   "outputs": [
    {
     "data": {
      "image/png": "[encoded data removed]",
      "text/plain": [
       "<Figure size 640x480 with 1 Axes>"
      ]
     },
     "metadata": {},
     "output_type": "display_data"
    }
   ],
   "source": [
    "plt.plot(thresholds, precision_arr, 'r', label=\"precision\")\n",
    "plt.plot(thresholds, recall_arr, 'b', label=\"recall\")\n",
    "plt.plot(thresholds, f1_arr, 'g', label=\"f1-score\")\n",
    "plt.xlabel(\"Threshold\")\n",
    "plt.legend()\n",
    "plt.show()"
   ]
  },
  {
   "cell_type": "code",
   "execution_count": 12,
   "metadata": {},
   "outputs": [],
   "source": [
    "x_pos = [i for i in range(len(pos_sim))]\n",
    "x_neg = [i for i in range(len(neg_sim))]"
   ]
  },
  {
   "cell_type": "code",
   "execution_count": 13,
   "metadata": {},
   "outputs": [
    {
     "data": {
      "image/png": "[encoded data removed]",
      "text/plain": [
       "<Figure size 640x480 with 1 Axes>"
      ]
     },
     "metadata": {},
     "output_type": "display_data"
    }
   ],
   "source": [
    "plt.plot(x_pos, pos_sim, label=\"duplicate videos similarity values\")\n",
    "plt.plot(x_neg, neg_sim, label=\"non duplicate videos similarity values\")\n",
    "plt.xlabel(\"Cosine Similarity\")\n",
    "plt.legend()\n",
    "plt.show()"
   ]
  },
  {
   "cell_type": "code",
   "execution_count": 14,
   "metadata": {},
   "outputs": [
    {
     "data": {
      "text/plain": [
       "[0.4255319148936171,\n",
       " 0.4255319148936171,\n",
       " 0.4354587869362364,\n",
       " 0.497335701598579,\n",
       " 0.6073752711496746,\n",
       " 0.7035175879396984,\n",
       " 0.7865168539325843,\n",
       " 0.8588957055214724,\n",
       " 0.9180327868852458,\n",
       " 0.945945945945946,\n",
       " 0.9586206896551723,\n",
       " 0.9788732394366197,\n",
       " 0.9822064056939502,\n",
       " 0.9747292418772563,\n",
       " 0.9594095940959411,\n",
       " 0.9591078066914498,\n",
       " 0.9393939393939393,\n",
       " 0.9147286821705426,\n",
       " 0.8381742738589211,\n",
       " 0.6473429951690821]"
      ]
     },
     "execution_count": 14,
     "metadata": {},
     "output_type": "execute_result"
    }
   ],
   "source": [
    "f1_arr"
   ]
  },
  {
   "cell_type": "code",
   "execution_count": 28,
   "metadata": {},
   "outputs": [],
   "source": [
    "n = 13"
   ]
  },
  {
   "cell_type": "code",
   "execution_count": 29,
   "metadata": {},
   "outputs": [
    {
     "data": {
      "text/plain": [
       "(0.65, 0.9854014598540146, 0.9642857142857143, 0.9747292418772563)"
      ]
     },
     "execution_count": 29,
     "metadata": {},
     "output_type": "execute_result"
    }
   ],
   "source": [
    "thresholds[n], precision_arr[n], recall_arr[n], f1_arr[n]"
   ]
  },
  {
   "cell_type": "code",
   "execution_count": null,
   "metadata": {},
   "outputs": [],
   "source": []
  }
 ],
 "metadata": {
  "kernelspec": {
   "display_name": "Python 3 (ipykernel)",
   "language": "python",
   "name": "python3"
  },
  "language_info": {
   "codemirror_mode": {
    "name": "ipython",
    "version": 3
   },
   "file_extension": ".py",
   "mimetype": "text/x-python",
   "name": "python",
   "nbconvert_exporter": "python",
   "pygments_lexer": "ipython3",
   "version": "3.9.16"
  }
 },
 "nbformat": 4,
 "nbformat_minor": 4
}
